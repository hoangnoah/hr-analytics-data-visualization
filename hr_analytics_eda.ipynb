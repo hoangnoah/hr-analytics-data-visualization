{
 "cells": [
  {
   "cell_type": "code",
   "execution_count": 158,
   "id": "801a8e52",
   "metadata": {},
   "outputs": [],
   "source": [
    "import warnings\n",
    "import numpy as np\n",
    "import pandas as pd\n",
    "import seaborn as sns\n",
    "import matplotlib.pyplot as plt\n",
    "import plotly.express as px\n",
    "import plotly.graph_objects as go\n",
    "import scipy\n",
    "from scipy.stats import chi2_contingency \n",
    "from plotly.subplots import make_subplots\n",
    "from plotly.offline import init_notebook_mode\n",
    "from statistics import stdev\n",
    "from pprint import pprint\n",
    "from sklearn.model_selection import train_test_split\n",
    "from sklearn.preprocessing import RobustScaler, StandardScaler\n",
    "from sklearn.model_selection import RandomizedSearchCV\n",
    "from sklearn.ensemble import RandomForestClassifier\n",
    "from sklearn.metrics import accuracy_score, roc_auc_score\n",
    "import plotly.figure_factory as ff"
   ]
  },
  {
   "cell_type": "code",
   "execution_count": 159,
   "id": "ed05a4a5",
   "metadata": {},
   "outputs": [],
   "source": [
    "data = pd.read_csv('./dataset/hr_employee_attrition.csv')"
   ]
  },
  {
   "cell_type": "code",
   "execution_count": 160,
   "id": "3c330f97",
   "metadata": {},
   "outputs": [
    {
     "data": {
      "text/html": [
       "<div>\n",
       "<style scoped>\n",
       "    .dataframe tbody tr th:only-of-type {\n",
       "        vertical-align: middle;\n",
       "    }\n",
       "\n",
       "    .dataframe tbody tr th {\n",
       "        vertical-align: top;\n",
       "    }\n",
       "\n",
       "    .dataframe thead th {\n",
       "        text-align: right;\n",
       "    }\n",
       "</style>\n",
       "<table border=\"1\" class=\"dataframe\">\n",
       "  <thead>\n",
       "    <tr style=\"text-align: right;\">\n",
       "      <th></th>\n",
       "      <th>Age</th>\n",
       "      <th>Attrition</th>\n",
       "      <th>BusinessTravel</th>\n",
       "      <th>DailyRate</th>\n",
       "      <th>Department</th>\n",
       "      <th>DistanceFromHome</th>\n",
       "      <th>Education</th>\n",
       "      <th>EducationField</th>\n",
       "      <th>EmployeeCount</th>\n",
       "      <th>EmployeeNumber</th>\n",
       "      <th>...</th>\n",
       "      <th>StandardHours</th>\n",
       "      <th>StockOptionLevel</th>\n",
       "      <th>TotalWorkingYears</th>\n",
       "      <th>TrainingTimesLastYear</th>\n",
       "      <th>WorkLifeBalance</th>\n",
       "      <th>YearsAtCompany</th>\n",
       "      <th>YearsInCurrentRole</th>\n",
       "      <th>YearsSinceLastPromotion</th>\n",
       "      <th>YearsWithCurrManager</th>\n",
       "      <th>DateOfResignation</th>\n",
       "    </tr>\n",
       "  </thead>\n",
       "  <tbody>\n",
       "    <tr>\n",
       "      <th>0</th>\n",
       "      <td>41</td>\n",
       "      <td>Yes</td>\n",
       "      <td>Travel_Rarely</td>\n",
       "      <td>1102</td>\n",
       "      <td>Sales</td>\n",
       "      <td>1</td>\n",
       "      <td>2</td>\n",
       "      <td>Life Sciences</td>\n",
       "      <td>1</td>\n",
       "      <td>1</td>\n",
       "      <td>...</td>\n",
       "      <td>80</td>\n",
       "      <td>0</td>\n",
       "      <td>8</td>\n",
       "      <td>0</td>\n",
       "      <td>1</td>\n",
       "      <td>6</td>\n",
       "      <td>4</td>\n",
       "      <td>0</td>\n",
       "      <td>5</td>\n",
       "      <td>11/25/2021 10:30</td>\n",
       "    </tr>\n",
       "    <tr>\n",
       "      <th>1</th>\n",
       "      <td>49</td>\n",
       "      <td>No</td>\n",
       "      <td>Travel_Frequently</td>\n",
       "      <td>279</td>\n",
       "      <td>Research &amp; Development</td>\n",
       "      <td>8</td>\n",
       "      <td>1</td>\n",
       "      <td>Life Sciences</td>\n",
       "      <td>1</td>\n",
       "      <td>2</td>\n",
       "      <td>...</td>\n",
       "      <td>80</td>\n",
       "      <td>1</td>\n",
       "      <td>10</td>\n",
       "      <td>3</td>\n",
       "      <td>3</td>\n",
       "      <td>10</td>\n",
       "      <td>7</td>\n",
       "      <td>1</td>\n",
       "      <td>7</td>\n",
       "      <td>8/9/2019 10:30</td>\n",
       "    </tr>\n",
       "    <tr>\n",
       "      <th>2</th>\n",
       "      <td>37</td>\n",
       "      <td>Yes</td>\n",
       "      <td>Travel_Rarely</td>\n",
       "      <td>1373</td>\n",
       "      <td>Research &amp; Development</td>\n",
       "      <td>2</td>\n",
       "      <td>2</td>\n",
       "      <td>Other</td>\n",
       "      <td>1</td>\n",
       "      <td>4</td>\n",
       "      <td>...</td>\n",
       "      <td>80</td>\n",
       "      <td>0</td>\n",
       "      <td>7</td>\n",
       "      <td>3</td>\n",
       "      <td>3</td>\n",
       "      <td>0</td>\n",
       "      <td>0</td>\n",
       "      <td>0</td>\n",
       "      <td>0</td>\n",
       "      <td>4/12/2017 10:30</td>\n",
       "    </tr>\n",
       "    <tr>\n",
       "      <th>3</th>\n",
       "      <td>33</td>\n",
       "      <td>No</td>\n",
       "      <td>Travel_Frequently</td>\n",
       "      <td>1392</td>\n",
       "      <td>Research &amp; Development</td>\n",
       "      <td>3</td>\n",
       "      <td>4</td>\n",
       "      <td>Life Sciences</td>\n",
       "      <td>1</td>\n",
       "      <td>5</td>\n",
       "      <td>...</td>\n",
       "      <td>80</td>\n",
       "      <td>0</td>\n",
       "      <td>8</td>\n",
       "      <td>3</td>\n",
       "      <td>3</td>\n",
       "      <td>8</td>\n",
       "      <td>7</td>\n",
       "      <td>3</td>\n",
       "      <td>0</td>\n",
       "      <td>3/23/2021 10:30</td>\n",
       "    </tr>\n",
       "    <tr>\n",
       "      <th>4</th>\n",
       "      <td>27</td>\n",
       "      <td>No</td>\n",
       "      <td>Travel_Rarely</td>\n",
       "      <td>591</td>\n",
       "      <td>Research &amp; Development</td>\n",
       "      <td>2</td>\n",
       "      <td>1</td>\n",
       "      <td>Medical</td>\n",
       "      <td>1</td>\n",
       "      <td>7</td>\n",
       "      <td>...</td>\n",
       "      <td>80</td>\n",
       "      <td>1</td>\n",
       "      <td>6</td>\n",
       "      <td>3</td>\n",
       "      <td>3</td>\n",
       "      <td>2</td>\n",
       "      <td>2</td>\n",
       "      <td>2</td>\n",
       "      <td>2</td>\n",
       "      <td>5/7/2021 10:30</td>\n",
       "    </tr>\n",
       "  </tbody>\n",
       "</table>\n",
       "<p>5 rows × 36 columns</p>\n",
       "</div>"
      ],
      "text/plain": [
       "   Age Attrition     BusinessTravel  DailyRate              Department  \\\n",
       "0   41       Yes      Travel_Rarely       1102                   Sales   \n",
       "1   49        No  Travel_Frequently        279  Research & Development   \n",
       "2   37       Yes      Travel_Rarely       1373  Research & Development   \n",
       "3   33        No  Travel_Frequently       1392  Research & Development   \n",
       "4   27        No      Travel_Rarely        591  Research & Development   \n",
       "\n",
       "   DistanceFromHome  Education EducationField  EmployeeCount  EmployeeNumber  \\\n",
       "0                 1          2  Life Sciences              1               1   \n",
       "1                 8          1  Life Sciences              1               2   \n",
       "2                 2          2          Other              1               4   \n",
       "3                 3          4  Life Sciences              1               5   \n",
       "4                 2          1        Medical              1               7   \n",
       "\n",
       "   ...  StandardHours StockOptionLevel  TotalWorkingYears  \\\n",
       "0  ...             80                0                  8   \n",
       "1  ...             80                1                 10   \n",
       "2  ...             80                0                  7   \n",
       "3  ...             80                0                  8   \n",
       "4  ...             80                1                  6   \n",
       "\n",
       "   TrainingTimesLastYear  WorkLifeBalance YearsAtCompany  YearsInCurrentRole  \\\n",
       "0                      0                1              6                   4   \n",
       "1                      3                3             10                   7   \n",
       "2                      3                3              0                   0   \n",
       "3                      3                3              8                   7   \n",
       "4                      3                3              2                   2   \n",
       "\n",
       "  YearsSinceLastPromotion  YearsWithCurrManager  DateOfResignation  \n",
       "0                       0                     5   11/25/2021 10:30  \n",
       "1                       1                     7     8/9/2019 10:30  \n",
       "2                       0                     0    4/12/2017 10:30  \n",
       "3                       3                     0    3/23/2021 10:30  \n",
       "4                       2                     2     5/7/2021 10:30  \n",
       "\n",
       "[5 rows x 36 columns]"
      ]
     },
     "execution_count": 160,
     "metadata": {},
     "output_type": "execute_result"
    }
   ],
   "source": [
    "data.head()"
   ]
  },
  {
   "cell_type": "code",
   "execution_count": 161,
   "id": "e35f5010",
   "metadata": {},
   "outputs": [
    {
     "name": "stdout",
     "output_type": "stream",
     "text": [
      "<class 'pandas.core.frame.DataFrame'>\n",
      "RangeIndex: 1470 entries, 0 to 1469\n",
      "Data columns (total 36 columns):\n",
      " #   Column                    Non-Null Count  Dtype \n",
      "---  ------                    --------------  ----- \n",
      " 0   Age                       1470 non-null   int64 \n",
      " 1   Attrition                 1470 non-null   object\n",
      " 2   BusinessTravel            1470 non-null   object\n",
      " 3   DailyRate                 1470 non-null   int64 \n",
      " 4   Department                1470 non-null   object\n",
      " 5   DistanceFromHome          1470 non-null   int64 \n",
      " 6   Education                 1470 non-null   int64 \n",
      " 7   EducationField            1470 non-null   object\n",
      " 8   EmployeeCount             1470 non-null   int64 \n",
      " 9   EmployeeNumber            1470 non-null   int64 \n",
      " 10  EnvironmentSatisfaction   1470 non-null   int64 \n",
      " 11  Gender                    1470 non-null   object\n",
      " 12  HourlyRate                1470 non-null   int64 \n",
      " 13  JobInvolvement            1470 non-null   int64 \n",
      " 14  JobLevel                  1470 non-null   int64 \n",
      " 15  JobRole                   1470 non-null   object\n",
      " 16  JobSatisfaction           1470 non-null   int64 \n",
      " 17  MaritalStatus             1470 non-null   object\n",
      " 18  MonthlyIncome             1470 non-null   int64 \n",
      " 19  MonthlyRate               1470 non-null   int64 \n",
      " 20  NumCompaniesWorked        1470 non-null   int64 \n",
      " 21  Over18                    1470 non-null   object\n",
      " 22  OverTime                  1470 non-null   object\n",
      " 23  PercentSalaryHike         1470 non-null   int64 \n",
      " 24  PerformanceRating         1470 non-null   int64 \n",
      " 25  RelationshipSatisfaction  1470 non-null   int64 \n",
      " 26  StandardHours             1470 non-null   int64 \n",
      " 27  StockOptionLevel          1470 non-null   int64 \n",
      " 28  TotalWorkingYears         1470 non-null   int64 \n",
      " 29  TrainingTimesLastYear     1470 non-null   int64 \n",
      " 30  WorkLifeBalance           1470 non-null   int64 \n",
      " 31  YearsAtCompany            1470 non-null   int64 \n",
      " 32  YearsInCurrentRole        1470 non-null   int64 \n",
      " 33  YearsSinceLastPromotion   1470 non-null   int64 \n",
      " 34  YearsWithCurrManager      1470 non-null   int64 \n",
      " 35  DateOfResignation         1470 non-null   object\n",
      "dtypes: int64(26), object(10)\n",
      "memory usage: 413.6+ KB\n"
     ]
    }
   ],
   "source": [
    "data.info()"
   ]
  },
  {
   "cell_type": "markdown",
   "id": "a66a4dbb",
   "metadata": {},
   "source": [
    "### Summary Statistics of numeric variables"
   ]
  },
  {
   "cell_type": "code",
   "execution_count": 162,
   "id": "0d9a851e",
   "metadata": {},
   "outputs": [
    {
     "data": {
      "text/html": [
       "<div>\n",
       "<style scoped>\n",
       "    .dataframe tbody tr th:only-of-type {\n",
       "        vertical-align: middle;\n",
       "    }\n",
       "\n",
       "    .dataframe tbody tr th {\n",
       "        vertical-align: top;\n",
       "    }\n",
       "\n",
       "    .dataframe thead th {\n",
       "        text-align: right;\n",
       "    }\n",
       "</style>\n",
       "<table border=\"1\" class=\"dataframe\">\n",
       "  <thead>\n",
       "    <tr style=\"text-align: right;\">\n",
       "      <th></th>\n",
       "      <th>Age</th>\n",
       "      <th>DailyRate</th>\n",
       "      <th>DistanceFromHome</th>\n",
       "      <th>Education</th>\n",
       "      <th>EmployeeCount</th>\n",
       "      <th>EmployeeNumber</th>\n",
       "      <th>EnvironmentSatisfaction</th>\n",
       "      <th>HourlyRate</th>\n",
       "      <th>JobInvolvement</th>\n",
       "      <th>JobLevel</th>\n",
       "      <th>...</th>\n",
       "      <th>RelationshipSatisfaction</th>\n",
       "      <th>StandardHours</th>\n",
       "      <th>StockOptionLevel</th>\n",
       "      <th>TotalWorkingYears</th>\n",
       "      <th>TrainingTimesLastYear</th>\n",
       "      <th>WorkLifeBalance</th>\n",
       "      <th>YearsAtCompany</th>\n",
       "      <th>YearsInCurrentRole</th>\n",
       "      <th>YearsSinceLastPromotion</th>\n",
       "      <th>YearsWithCurrManager</th>\n",
       "    </tr>\n",
       "  </thead>\n",
       "  <tbody>\n",
       "    <tr>\n",
       "      <th>count</th>\n",
       "      <td>1470.000000</td>\n",
       "      <td>1470.000000</td>\n",
       "      <td>1470.000000</td>\n",
       "      <td>1470.000000</td>\n",
       "      <td>1470.0</td>\n",
       "      <td>1470.000000</td>\n",
       "      <td>1470.000000</td>\n",
       "      <td>1470.000000</td>\n",
       "      <td>1470.000000</td>\n",
       "      <td>1470.000000</td>\n",
       "      <td>...</td>\n",
       "      <td>1470.000000</td>\n",
       "      <td>1470.0</td>\n",
       "      <td>1470.000000</td>\n",
       "      <td>1470.000000</td>\n",
       "      <td>1470.000000</td>\n",
       "      <td>1470.000000</td>\n",
       "      <td>1470.000000</td>\n",
       "      <td>1470.000000</td>\n",
       "      <td>1470.000000</td>\n",
       "      <td>1470.000000</td>\n",
       "    </tr>\n",
       "    <tr>\n",
       "      <th>mean</th>\n",
       "      <td>36.923810</td>\n",
       "      <td>802.485714</td>\n",
       "      <td>9.192517</td>\n",
       "      <td>2.912925</td>\n",
       "      <td>1.0</td>\n",
       "      <td>1024.865306</td>\n",
       "      <td>2.721769</td>\n",
       "      <td>65.891156</td>\n",
       "      <td>2.729932</td>\n",
       "      <td>2.063946</td>\n",
       "      <td>...</td>\n",
       "      <td>2.712245</td>\n",
       "      <td>80.0</td>\n",
       "      <td>0.793878</td>\n",
       "      <td>11.279592</td>\n",
       "      <td>2.799320</td>\n",
       "      <td>2.761224</td>\n",
       "      <td>7.008163</td>\n",
       "      <td>4.229252</td>\n",
       "      <td>2.187755</td>\n",
       "      <td>4.123129</td>\n",
       "    </tr>\n",
       "    <tr>\n",
       "      <th>std</th>\n",
       "      <td>9.135373</td>\n",
       "      <td>403.509100</td>\n",
       "      <td>8.106864</td>\n",
       "      <td>1.024165</td>\n",
       "      <td>0.0</td>\n",
       "      <td>602.024335</td>\n",
       "      <td>1.093082</td>\n",
       "      <td>20.329428</td>\n",
       "      <td>0.711561</td>\n",
       "      <td>1.106940</td>\n",
       "      <td>...</td>\n",
       "      <td>1.081209</td>\n",
       "      <td>0.0</td>\n",
       "      <td>0.852077</td>\n",
       "      <td>7.780782</td>\n",
       "      <td>1.289271</td>\n",
       "      <td>0.706476</td>\n",
       "      <td>6.126525</td>\n",
       "      <td>3.623137</td>\n",
       "      <td>3.222430</td>\n",
       "      <td>3.568136</td>\n",
       "    </tr>\n",
       "    <tr>\n",
       "      <th>min</th>\n",
       "      <td>18.000000</td>\n",
       "      <td>102.000000</td>\n",
       "      <td>1.000000</td>\n",
       "      <td>1.000000</td>\n",
       "      <td>1.0</td>\n",
       "      <td>1.000000</td>\n",
       "      <td>1.000000</td>\n",
       "      <td>30.000000</td>\n",
       "      <td>1.000000</td>\n",
       "      <td>1.000000</td>\n",
       "      <td>...</td>\n",
       "      <td>1.000000</td>\n",
       "      <td>80.0</td>\n",
       "      <td>0.000000</td>\n",
       "      <td>0.000000</td>\n",
       "      <td>0.000000</td>\n",
       "      <td>1.000000</td>\n",
       "      <td>0.000000</td>\n",
       "      <td>0.000000</td>\n",
       "      <td>0.000000</td>\n",
       "      <td>0.000000</td>\n",
       "    </tr>\n",
       "    <tr>\n",
       "      <th>25%</th>\n",
       "      <td>30.000000</td>\n",
       "      <td>465.000000</td>\n",
       "      <td>2.000000</td>\n",
       "      <td>2.000000</td>\n",
       "      <td>1.0</td>\n",
       "      <td>491.250000</td>\n",
       "      <td>2.000000</td>\n",
       "      <td>48.000000</td>\n",
       "      <td>2.000000</td>\n",
       "      <td>1.000000</td>\n",
       "      <td>...</td>\n",
       "      <td>2.000000</td>\n",
       "      <td>80.0</td>\n",
       "      <td>0.000000</td>\n",
       "      <td>6.000000</td>\n",
       "      <td>2.000000</td>\n",
       "      <td>2.000000</td>\n",
       "      <td>3.000000</td>\n",
       "      <td>2.000000</td>\n",
       "      <td>0.000000</td>\n",
       "      <td>2.000000</td>\n",
       "    </tr>\n",
       "    <tr>\n",
       "      <th>50%</th>\n",
       "      <td>36.000000</td>\n",
       "      <td>802.000000</td>\n",
       "      <td>7.000000</td>\n",
       "      <td>3.000000</td>\n",
       "      <td>1.0</td>\n",
       "      <td>1020.500000</td>\n",
       "      <td>3.000000</td>\n",
       "      <td>66.000000</td>\n",
       "      <td>3.000000</td>\n",
       "      <td>2.000000</td>\n",
       "      <td>...</td>\n",
       "      <td>3.000000</td>\n",
       "      <td>80.0</td>\n",
       "      <td>1.000000</td>\n",
       "      <td>10.000000</td>\n",
       "      <td>3.000000</td>\n",
       "      <td>3.000000</td>\n",
       "      <td>5.000000</td>\n",
       "      <td>3.000000</td>\n",
       "      <td>1.000000</td>\n",
       "      <td>3.000000</td>\n",
       "    </tr>\n",
       "    <tr>\n",
       "      <th>75%</th>\n",
       "      <td>43.000000</td>\n",
       "      <td>1157.000000</td>\n",
       "      <td>14.000000</td>\n",
       "      <td>4.000000</td>\n",
       "      <td>1.0</td>\n",
       "      <td>1555.750000</td>\n",
       "      <td>4.000000</td>\n",
       "      <td>83.750000</td>\n",
       "      <td>3.000000</td>\n",
       "      <td>3.000000</td>\n",
       "      <td>...</td>\n",
       "      <td>4.000000</td>\n",
       "      <td>80.0</td>\n",
       "      <td>1.000000</td>\n",
       "      <td>15.000000</td>\n",
       "      <td>3.000000</td>\n",
       "      <td>3.000000</td>\n",
       "      <td>9.000000</td>\n",
       "      <td>7.000000</td>\n",
       "      <td>3.000000</td>\n",
       "      <td>7.000000</td>\n",
       "    </tr>\n",
       "    <tr>\n",
       "      <th>max</th>\n",
       "      <td>60.000000</td>\n",
       "      <td>1499.000000</td>\n",
       "      <td>29.000000</td>\n",
       "      <td>5.000000</td>\n",
       "      <td>1.0</td>\n",
       "      <td>2068.000000</td>\n",
       "      <td>4.000000</td>\n",
       "      <td>100.000000</td>\n",
       "      <td>4.000000</td>\n",
       "      <td>5.000000</td>\n",
       "      <td>...</td>\n",
       "      <td>4.000000</td>\n",
       "      <td>80.0</td>\n",
       "      <td>3.000000</td>\n",
       "      <td>40.000000</td>\n",
       "      <td>6.000000</td>\n",
       "      <td>4.000000</td>\n",
       "      <td>40.000000</td>\n",
       "      <td>18.000000</td>\n",
       "      <td>15.000000</td>\n",
       "      <td>17.000000</td>\n",
       "    </tr>\n",
       "  </tbody>\n",
       "</table>\n",
       "<p>8 rows × 26 columns</p>\n",
       "</div>"
      ],
      "text/plain": [
       "               Age    DailyRate  DistanceFromHome    Education  EmployeeCount  \\\n",
       "count  1470.000000  1470.000000       1470.000000  1470.000000         1470.0   \n",
       "mean     36.923810   802.485714          9.192517     2.912925            1.0   \n",
       "std       9.135373   403.509100          8.106864     1.024165            0.0   \n",
       "min      18.000000   102.000000          1.000000     1.000000            1.0   \n",
       "25%      30.000000   465.000000          2.000000     2.000000            1.0   \n",
       "50%      36.000000   802.000000          7.000000     3.000000            1.0   \n",
       "75%      43.000000  1157.000000         14.000000     4.000000            1.0   \n",
       "max      60.000000  1499.000000         29.000000     5.000000            1.0   \n",
       "\n",
       "       EmployeeNumber  EnvironmentSatisfaction   HourlyRate  JobInvolvement  \\\n",
       "count     1470.000000              1470.000000  1470.000000     1470.000000   \n",
       "mean      1024.865306                 2.721769    65.891156        2.729932   \n",
       "std        602.024335                 1.093082    20.329428        0.711561   \n",
       "min          1.000000                 1.000000    30.000000        1.000000   \n",
       "25%        491.250000                 2.000000    48.000000        2.000000   \n",
       "50%       1020.500000                 3.000000    66.000000        3.000000   \n",
       "75%       1555.750000                 4.000000    83.750000        3.000000   \n",
       "max       2068.000000                 4.000000   100.000000        4.000000   \n",
       "\n",
       "          JobLevel  ...  RelationshipSatisfaction  StandardHours  \\\n",
       "count  1470.000000  ...               1470.000000         1470.0   \n",
       "mean      2.063946  ...                  2.712245           80.0   \n",
       "std       1.106940  ...                  1.081209            0.0   \n",
       "min       1.000000  ...                  1.000000           80.0   \n",
       "25%       1.000000  ...                  2.000000           80.0   \n",
       "50%       2.000000  ...                  3.000000           80.0   \n",
       "75%       3.000000  ...                  4.000000           80.0   \n",
       "max       5.000000  ...                  4.000000           80.0   \n",
       "\n",
       "       StockOptionLevel  TotalWorkingYears  TrainingTimesLastYear  \\\n",
       "count       1470.000000        1470.000000            1470.000000   \n",
       "mean           0.793878          11.279592               2.799320   \n",
       "std            0.852077           7.780782               1.289271   \n",
       "min            0.000000           0.000000               0.000000   \n",
       "25%            0.000000           6.000000               2.000000   \n",
       "50%            1.000000          10.000000               3.000000   \n",
       "75%            1.000000          15.000000               3.000000   \n",
       "max            3.000000          40.000000               6.000000   \n",
       "\n",
       "       WorkLifeBalance  YearsAtCompany  YearsInCurrentRole  \\\n",
       "count      1470.000000     1470.000000         1470.000000   \n",
       "mean          2.761224        7.008163            4.229252   \n",
       "std           0.706476        6.126525            3.623137   \n",
       "min           1.000000        0.000000            0.000000   \n",
       "25%           2.000000        3.000000            2.000000   \n",
       "50%           3.000000        5.000000            3.000000   \n",
       "75%           3.000000        9.000000            7.000000   \n",
       "max           4.000000       40.000000           18.000000   \n",
       "\n",
       "       YearsSinceLastPromotion  YearsWithCurrManager  \n",
       "count              1470.000000           1470.000000  \n",
       "mean                  2.187755              4.123129  \n",
       "std                   3.222430              3.568136  \n",
       "min                   0.000000              0.000000  \n",
       "25%                   0.000000              2.000000  \n",
       "50%                   1.000000              3.000000  \n",
       "75%                   3.000000              7.000000  \n",
       "max                  15.000000             17.000000  \n",
       "\n",
       "[8 rows x 26 columns]"
      ]
     },
     "execution_count": 162,
     "metadata": {},
     "output_type": "execute_result"
    }
   ],
   "source": [
    "data.describe()"
   ]
  },
  {
   "cell_type": "markdown",
   "id": "14b37685",
   "metadata": {},
   "source": [
    "### Summary Statistics of categorical variables"
   ]
  },
  {
   "cell_type": "code",
   "execution_count": 163,
   "id": "95b7654b",
   "metadata": {},
   "outputs": [
    {
     "data": {
      "text/html": [
       "<div>\n",
       "<style scoped>\n",
       "    .dataframe tbody tr th:only-of-type {\n",
       "        vertical-align: middle;\n",
       "    }\n",
       "\n",
       "    .dataframe tbody tr th {\n",
       "        vertical-align: top;\n",
       "    }\n",
       "\n",
       "    .dataframe thead th {\n",
       "        text-align: right;\n",
       "    }\n",
       "</style>\n",
       "<table border=\"1\" class=\"dataframe\">\n",
       "  <thead>\n",
       "    <tr style=\"text-align: right;\">\n",
       "      <th></th>\n",
       "      <th>Attrition</th>\n",
       "      <th>BusinessTravel</th>\n",
       "      <th>Department</th>\n",
       "      <th>EducationField</th>\n",
       "      <th>Gender</th>\n",
       "      <th>JobRole</th>\n",
       "      <th>MaritalStatus</th>\n",
       "      <th>Over18</th>\n",
       "      <th>OverTime</th>\n",
       "      <th>DateOfResignation</th>\n",
       "    </tr>\n",
       "  </thead>\n",
       "  <tbody>\n",
       "    <tr>\n",
       "      <th>count</th>\n",
       "      <td>1470</td>\n",
       "      <td>1470</td>\n",
       "      <td>1470</td>\n",
       "      <td>1470</td>\n",
       "      <td>1470</td>\n",
       "      <td>1470</td>\n",
       "      <td>1470</td>\n",
       "      <td>1470</td>\n",
       "      <td>1470</td>\n",
       "      <td>1470</td>\n",
       "    </tr>\n",
       "    <tr>\n",
       "      <th>unique</th>\n",
       "      <td>2</td>\n",
       "      <td>3</td>\n",
       "      <td>3</td>\n",
       "      <td>6</td>\n",
       "      <td>2</td>\n",
       "      <td>9</td>\n",
       "      <td>3</td>\n",
       "      <td>1</td>\n",
       "      <td>2</td>\n",
       "      <td>1027</td>\n",
       "    </tr>\n",
       "    <tr>\n",
       "      <th>top</th>\n",
       "      <td>No</td>\n",
       "      <td>Travel_Rarely</td>\n",
       "      <td>Research &amp; Development</td>\n",
       "      <td>Life Sciences</td>\n",
       "      <td>Male</td>\n",
       "      <td>Sales Executive</td>\n",
       "      <td>Married</td>\n",
       "      <td>Y</td>\n",
       "      <td>No</td>\n",
       "      <td>5/23/2017 10:30</td>\n",
       "    </tr>\n",
       "    <tr>\n",
       "      <th>freq</th>\n",
       "      <td>1233</td>\n",
       "      <td>1043</td>\n",
       "      <td>961</td>\n",
       "      <td>606</td>\n",
       "      <td>882</td>\n",
       "      <td>326</td>\n",
       "      <td>673</td>\n",
       "      <td>1470</td>\n",
       "      <td>1054</td>\n",
       "      <td>5</td>\n",
       "    </tr>\n",
       "  </tbody>\n",
       "</table>\n",
       "</div>"
      ],
      "text/plain": [
       "       Attrition BusinessTravel              Department EducationField Gender  \\\n",
       "count       1470           1470                    1470           1470   1470   \n",
       "unique         2              3                       3              6      2   \n",
       "top           No  Travel_Rarely  Research & Development  Life Sciences   Male   \n",
       "freq        1233           1043                     961            606    882   \n",
       "\n",
       "                JobRole MaritalStatus Over18 OverTime DateOfResignation  \n",
       "count              1470          1470   1470     1470              1470  \n",
       "unique                9             3      1        2              1027  \n",
       "top     Sales Executive       Married      Y       No   5/23/2017 10:30  \n",
       "freq                326           673   1470     1054                 5  "
      ]
     },
     "metadata": {},
     "output_type": "display_data"
    },
    {
     "data": {
      "text/html": [
       "<div>\n",
       "<style scoped>\n",
       "    .dataframe tbody tr th:only-of-type {\n",
       "        vertical-align: middle;\n",
       "    }\n",
       "\n",
       "    .dataframe tbody tr th {\n",
       "        vertical-align: top;\n",
       "    }\n",
       "\n",
       "    .dataframe thead th {\n",
       "        text-align: right;\n",
       "    }\n",
       "</style>\n",
       "<table border=\"1\" class=\"dataframe\">\n",
       "  <thead>\n",
       "    <tr style=\"text-align: right;\">\n",
       "      <th></th>\n",
       "      <th></th>\n",
       "      <th>count</th>\n",
       "    </tr>\n",
       "    <tr>\n",
       "      <th>column</th>\n",
       "      <th>value</th>\n",
       "      <th></th>\n",
       "    </tr>\n",
       "  </thead>\n",
       "  <tbody>\n",
       "    <tr>\n",
       "      <th rowspan=\"2\" valign=\"top\">Attrition</th>\n",
       "      <th>Yes</th>\n",
       "      <td>237</td>\n",
       "    </tr>\n",
       "    <tr>\n",
       "      <th>No</th>\n",
       "      <td>1233</td>\n",
       "    </tr>\n",
       "    <tr>\n",
       "      <th rowspan=\"3\" valign=\"top\">BusinessTravel</th>\n",
       "      <th>Non-Travel</th>\n",
       "      <td>150</td>\n",
       "    </tr>\n",
       "    <tr>\n",
       "      <th>Travel_Frequently</th>\n",
       "      <td>277</td>\n",
       "    </tr>\n",
       "    <tr>\n",
       "      <th>Travel_Rarely</th>\n",
       "      <td>1043</td>\n",
       "    </tr>\n",
       "    <tr>\n",
       "      <th>...</th>\n",
       "      <th>...</th>\n",
       "      <td>...</td>\n",
       "    </tr>\n",
       "    <tr>\n",
       "      <th rowspan=\"2\" valign=\"top\">MaritalStatus</th>\n",
       "      <th>Single</th>\n",
       "      <td>470</td>\n",
       "    </tr>\n",
       "    <tr>\n",
       "      <th>Married</th>\n",
       "      <td>673</td>\n",
       "    </tr>\n",
       "    <tr>\n",
       "      <th>Over18</th>\n",
       "      <th>Y</th>\n",
       "      <td>1470</td>\n",
       "    </tr>\n",
       "    <tr>\n",
       "      <th rowspan=\"2\" valign=\"top\">OverTime</th>\n",
       "      <th>Yes</th>\n",
       "      <td>416</td>\n",
       "    </tr>\n",
       "    <tr>\n",
       "      <th>No</th>\n",
       "      <td>1054</td>\n",
       "    </tr>\n",
       "  </tbody>\n",
       "</table>\n",
       "<p>1058 rows × 1 columns</p>\n",
       "</div>"
      ],
      "text/plain": [
       "                                  count\n",
       "column         value                   \n",
       "Attrition      Yes                  237\n",
       "               No                  1233\n",
       "BusinessTravel Non-Travel           150\n",
       "               Travel_Frequently    277\n",
       "               Travel_Rarely       1043\n",
       "...                                 ...\n",
       "MaritalStatus  Single               470\n",
       "               Married              673\n",
       "Over18         Y                   1470\n",
       "OverTime       Yes                  416\n",
       "               No                  1054\n",
       "\n",
       "[1058 rows x 1 columns]"
      ]
     },
     "metadata": {},
     "output_type": "display_data"
    }
   ],
   "source": [
    "cat_cols=data.select_dtypes(include=object).columns.tolist()\n",
    "cat_df=pd.DataFrame(data[cat_cols].melt(var_name='column', value_name='value')\n",
    "                    .value_counts()).rename(columns={0: 'count'}).sort_values(by=['column', 'count'])\n",
    "display(data.select_dtypes(include=object).describe())\n",
    "display(cat_df)"
   ]
  },
  {
   "cell_type": "markdown",
   "id": "79266033",
   "metadata": {},
   "source": [
    "## EDA"
   ]
  },
  {
   "cell_type": "code",
   "execution_count": 164,
   "id": "abc6e4ee",
   "metadata": {},
   "outputs": [
    {
     "data": {
      "application/vnd.plotly.v1+json": {
       "config": {
        "plotlyServerURL": "https://plot.ly"
       },
       "data": [
        {
         "hovertemplate": "Employee Attrition Rate<br>%{x}: %{y:.3}%<extra></extra>",
         "marker": {
          "color": [
           "#C02B34",
           "#CDBBA7"
          ],
          "line": {
           "color": "#28221D",
           "width": 1
          }
         },
         "opacity": 0.8,
         "showlegend": false,
         "text": {
          "bdata": "iMb60FgfMEBeTsHLKfhUQA==",
          "dtype": "f8"
         },
         "textfont": {
          "color": "black",
          "size": 14
         },
         "textposition": "outside",
         "texttemplate": "%{text:.3s}%",
         "type": "bar",
         "x": [
          "Former Employees",
          "Current Employees"
         ],
         "xaxis": "x",
         "y": {
          "bdata": "iMb60FgfMEBeTsHLKfhUQA==",
          "dtype": "f8"
         },
         "yaxis": "y"
        },
        {
         "domain": {
          "x": [
           0.55,
           1
          ],
          "y": [
           0,
           1
          ]
         },
         "hole": 0.4,
         "hovertemplate": "%{label}<br>Attrition Rate: %{value:.3}%<extra></extra>",
         "labels": [
          "Research & Development",
          "Sales",
          "Human Resources"
         ],
         "marker": {
          "colors": [
           "#587D65",
           "#ADC4B2",
           "#D1C9C2"
          ],
          "line": {
           "color": "#28221D",
           "width": 1
          }
         },
         "opacity": 0.85,
         "textfont": {
          "color": "black",
          "size": 14
         },
         "type": "pie",
         "values": {
          "bdata": "dEksUx8PTEB8IUXAxmhDQIKodGTPQBRA",
          "dtype": "f8"
         }
        }
       ],
       "layout": {
        "annotations": [
         {
          "font": {
           "size": 16
          },
          "showarrow": false,
          "text": "Employee Attrition by Department",
          "x": 0.775,
          "xanchor": "center",
          "xref": "paper",
          "y": 1,
          "yanchor": "bottom",
          "yref": "paper"
         }
        ],
        "font": {
         "color": "#28221D"
        },
        "paper_bgcolor": "#F4F2F0",
        "plot_bgcolor": "#F4F2F0",
        "template": {
         "data": {
          "bar": [
           {
            "error_x": {
             "color": "#2a3f5f"
            },
            "error_y": {
             "color": "#2a3f5f"
            },
            "marker": {
             "line": {
              "color": "#E5ECF6",
              "width": 0.5
             },
             "pattern": {
              "fillmode": "overlay",
              "size": 10,
              "solidity": 0.2
             }
            },
            "type": "bar"
           }
          ],
          "barpolar": [
           {
            "marker": {
             "line": {
              "color": "#E5ECF6",
              "width": 0.5
             },
             "pattern": {
              "fillmode": "overlay",
              "size": 10,
              "solidity": 0.2
             }
            },
            "type": "barpolar"
           }
          ],
          "carpet": [
           {
            "aaxis": {
             "endlinecolor": "#2a3f5f",
             "gridcolor": "white",
             "linecolor": "white",
             "minorgridcolor": "white",
             "startlinecolor": "#2a3f5f"
            },
            "baxis": {
             "endlinecolor": "#2a3f5f",
             "gridcolor": "white",
             "linecolor": "white",
             "minorgridcolor": "white",
             "startlinecolor": "#2a3f5f"
            },
            "type": "carpet"
           }
          ],
          "choropleth": [
           {
            "colorbar": {
             "outlinewidth": 0,
             "ticks": ""
            },
            "type": "choropleth"
           }
          ],
          "contour": [
           {
            "colorbar": {
             "outlinewidth": 0,
             "ticks": ""
            },
            "colorscale": [
             [
              0,
              "#0d0887"
             ],
             [
              0.1111111111111111,
              "#46039f"
             ],
             [
              0.2222222222222222,
              "#7201a8"
             ],
             [
              0.3333333333333333,
              "#9c179e"
             ],
             [
              0.4444444444444444,
              "#bd3786"
             ],
             [
              0.5555555555555556,
              "#d8576b"
             ],
             [
              0.6666666666666666,
              "#ed7953"
             ],
             [
              0.7777777777777778,
              "#fb9f3a"
             ],
             [
              0.8888888888888888,
              "#fdca26"
             ],
             [
              1,
              "#f0f921"
             ]
            ],
            "type": "contour"
           }
          ],
          "contourcarpet": [
           {
            "colorbar": {
             "outlinewidth": 0,
             "ticks": ""
            },
            "type": "contourcarpet"
           }
          ],
          "heatmap": [
           {
            "colorbar": {
             "outlinewidth": 0,
             "ticks": ""
            },
            "colorscale": [
             [
              0,
              "#0d0887"
             ],
             [
              0.1111111111111111,
              "#46039f"
             ],
             [
              0.2222222222222222,
              "#7201a8"
             ],
             [
              0.3333333333333333,
              "#9c179e"
             ],
             [
              0.4444444444444444,
              "#bd3786"
             ],
             [
              0.5555555555555556,
              "#d8576b"
             ],
             [
              0.6666666666666666,
              "#ed7953"
             ],
             [
              0.7777777777777778,
              "#fb9f3a"
             ],
             [
              0.8888888888888888,
              "#fdca26"
             ],
             [
              1,
              "#f0f921"
             ]
            ],
            "type": "heatmap"
           }
          ],
          "histogram": [
           {
            "marker": {
             "pattern": {
              "fillmode": "overlay",
              "size": 10,
              "solidity": 0.2
             }
            },
            "type": "histogram"
           }
          ],
          "histogram2d": [
           {
            "colorbar": {
             "outlinewidth": 0,
             "ticks": ""
            },
            "colorscale": [
             [
              0,
              "#0d0887"
             ],
             [
              0.1111111111111111,
              "#46039f"
             ],
             [
              0.2222222222222222,
              "#7201a8"
             ],
             [
              0.3333333333333333,
              "#9c179e"
             ],
             [
              0.4444444444444444,
              "#bd3786"
             ],
             [
              0.5555555555555556,
              "#d8576b"
             ],
             [
              0.6666666666666666,
              "#ed7953"
             ],
             [
              0.7777777777777778,
              "#fb9f3a"
             ],
             [
              0.8888888888888888,
              "#fdca26"
             ],
             [
              1,
              "#f0f921"
             ]
            ],
            "type": "histogram2d"
           }
          ],
          "histogram2dcontour": [
           {
            "colorbar": {
             "outlinewidth": 0,
             "ticks": ""
            },
            "colorscale": [
             [
              0,
              "#0d0887"
             ],
             [
              0.1111111111111111,
              "#46039f"
             ],
             [
              0.2222222222222222,
              "#7201a8"
             ],
             [
              0.3333333333333333,
              "#9c179e"
             ],
             [
              0.4444444444444444,
              "#bd3786"
             ],
             [
              0.5555555555555556,
              "#d8576b"
             ],
             [
              0.6666666666666666,
              "#ed7953"
             ],
             [
              0.7777777777777778,
              "#fb9f3a"
             ],
             [
              0.8888888888888888,
              "#fdca26"
             ],
             [
              1,
              "#f0f921"
             ]
            ],
            "type": "histogram2dcontour"
           }
          ],
          "mesh3d": [
           {
            "colorbar": {
             "outlinewidth": 0,
             "ticks": ""
            },
            "type": "mesh3d"
           }
          ],
          "parcoords": [
           {
            "line": {
             "colorbar": {
              "outlinewidth": 0,
              "ticks": ""
             }
            },
            "type": "parcoords"
           }
          ],
          "pie": [
           {
            "automargin": true,
            "type": "pie"
           }
          ],
          "scatter": [
           {
            "fillpattern": {
             "fillmode": "overlay",
             "size": 10,
             "solidity": 0.2
            },
            "type": "scatter"
           }
          ],
          "scatter3d": [
           {
            "line": {
             "colorbar": {
              "outlinewidth": 0,
              "ticks": ""
             }
            },
            "marker": {
             "colorbar": {
              "outlinewidth": 0,
              "ticks": ""
             }
            },
            "type": "scatter3d"
           }
          ],
          "scattercarpet": [
           {
            "marker": {
             "colorbar": {
              "outlinewidth": 0,
              "ticks": ""
             }
            },
            "type": "scattercarpet"
           }
          ],
          "scattergeo": [
           {
            "marker": {
             "colorbar": {
              "outlinewidth": 0,
              "ticks": ""
             }
            },
            "type": "scattergeo"
           }
          ],
          "scattergl": [
           {
            "marker": {
             "colorbar": {
              "outlinewidth": 0,
              "ticks": ""
             }
            },
            "type": "scattergl"
           }
          ],
          "scattermap": [
           {
            "marker": {
             "colorbar": {
              "outlinewidth": 0,
              "ticks": ""
             }
            },
            "type": "scattermap"
           }
          ],
          "scattermapbox": [
           {
            "marker": {
             "colorbar": {
              "outlinewidth": 0,
              "ticks": ""
             }
            },
            "type": "scattermapbox"
           }
          ],
          "scatterpolar": [
           {
            "marker": {
             "colorbar": {
              "outlinewidth": 0,
              "ticks": ""
             }
            },
            "type": "scatterpolar"
           }
          ],
          "scatterpolargl": [
           {
            "marker": {
             "colorbar": {
              "outlinewidth": 0,
              "ticks": ""
             }
            },
            "type": "scatterpolargl"
           }
          ],
          "scatterternary": [
           {
            "marker": {
             "colorbar": {
              "outlinewidth": 0,
              "ticks": ""
             }
            },
            "type": "scatterternary"
           }
          ],
          "surface": [
           {
            "colorbar": {
             "outlinewidth": 0,
             "ticks": ""
            },
            "colorscale": [
             [
              0,
              "#0d0887"
             ],
             [
              0.1111111111111111,
              "#46039f"
             ],
             [
              0.2222222222222222,
              "#7201a8"
             ],
             [
              0.3333333333333333,
              "#9c179e"
             ],
             [
              0.4444444444444444,
              "#bd3786"
             ],
             [
              0.5555555555555556,
              "#d8576b"
             ],
             [
              0.6666666666666666,
              "#ed7953"
             ],
             [
              0.7777777777777778,
              "#fb9f3a"
             ],
             [
              0.8888888888888888,
              "#fdca26"
             ],
             [
              1,
              "#f0f921"
             ]
            ],
            "type": "surface"
           }
          ],
          "table": [
           {
            "cells": {
             "fill": {
              "color": "#EBF0F8"
             },
             "line": {
              "color": "white"
             }
            },
            "header": {
             "fill": {
              "color": "#C8D4E3"
             },
             "line": {
              "color": "white"
             }
            },
            "type": "table"
           }
          ]
         },
         "layout": {
          "annotationdefaults": {
           "arrowcolor": "#2a3f5f",
           "arrowhead": 0,
           "arrowwidth": 1
          },
          "autotypenumbers": "strict",
          "coloraxis": {
           "colorbar": {
            "outlinewidth": 0,
            "ticks": ""
           }
          },
          "colorscale": {
           "diverging": [
            [
             0,
             "#8e0152"
            ],
            [
             0.1,
             "#c51b7d"
            ],
            [
             0.2,
             "#de77ae"
            ],
            [
             0.3,
             "#f1b6da"
            ],
            [
             0.4,
             "#fde0ef"
            ],
            [
             0.5,
             "#f7f7f7"
            ],
            [
             0.6,
             "#e6f5d0"
            ],
            [
             0.7,
             "#b8e186"
            ],
            [
             0.8,
             "#7fbc41"
            ],
            [
             0.9,
             "#4d9221"
            ],
            [
             1,
             "#276419"
            ]
           ],
           "sequential": [
            [
             0,
             "#0d0887"
            ],
            [
             0.1111111111111111,
             "#46039f"
            ],
            [
             0.2222222222222222,
             "#7201a8"
            ],
            [
             0.3333333333333333,
             "#9c179e"
            ],
            [
             0.4444444444444444,
             "#bd3786"
            ],
            [
             0.5555555555555556,
             "#d8576b"
            ],
            [
             0.6666666666666666,
             "#ed7953"
            ],
            [
             0.7777777777777778,
             "#fb9f3a"
            ],
            [
             0.8888888888888888,
             "#fdca26"
            ],
            [
             1,
             "#f0f921"
            ]
           ],
           "sequentialminus": [
            [
             0,
             "#0d0887"
            ],
            [
             0.1111111111111111,
             "#46039f"
            ],
            [
             0.2222222222222222,
             "#7201a8"
            ],
            [
             0.3333333333333333,
             "#9c179e"
            ],
            [
             0.4444444444444444,
             "#bd3786"
            ],
            [
             0.5555555555555556,
             "#d8576b"
            ],
            [
             0.6666666666666666,
             "#ed7953"
            ],
            [
             0.7777777777777778,
             "#fb9f3a"
            ],
            [
             0.8888888888888888,
             "#fdca26"
            ],
            [
             1,
             "#f0f921"
            ]
           ]
          },
          "colorway": [
           "#636efa",
           "#EF553B",
           "#00cc96",
           "#ab63fa",
           "#FFA15A",
           "#19d3f3",
           "#FF6692",
           "#B6E880",
           "#FF97FF",
           "#FECB52"
          ],
          "font": {
           "color": "#2a3f5f"
          },
          "geo": {
           "bgcolor": "white",
           "lakecolor": "white",
           "landcolor": "#E5ECF6",
           "showlakes": true,
           "showland": true,
           "subunitcolor": "white"
          },
          "hoverlabel": {
           "align": "left"
          },
          "hovermode": "closest",
          "mapbox": {
           "style": "light"
          },
          "paper_bgcolor": "white",
          "plot_bgcolor": "#E5ECF6",
          "polar": {
           "angularaxis": {
            "gridcolor": "white",
            "linecolor": "white",
            "ticks": ""
           },
           "bgcolor": "#E5ECF6",
           "radialaxis": {
            "gridcolor": "white",
            "linecolor": "white",
            "ticks": ""
           }
          },
          "scene": {
           "xaxis": {
            "backgroundcolor": "#E5ECF6",
            "gridcolor": "white",
            "gridwidth": 2,
            "linecolor": "white",
            "showbackground": true,
            "ticks": "",
            "zerolinecolor": "white"
           },
           "yaxis": {
            "backgroundcolor": "#E5ECF6",
            "gridcolor": "white",
            "gridwidth": 2,
            "linecolor": "white",
            "showbackground": true,
            "ticks": "",
            "zerolinecolor": "white"
           },
           "zaxis": {
            "backgroundcolor": "#E5ECF6",
            "gridcolor": "white",
            "gridwidth": 2,
            "linecolor": "white",
            "showbackground": true,
            "ticks": "",
            "zerolinecolor": "white"
           }
          },
          "shapedefaults": {
           "line": {
            "color": "#2a3f5f"
           }
          },
          "ternary": {
           "aaxis": {
            "gridcolor": "white",
            "linecolor": "white",
            "ticks": ""
           },
           "baxis": {
            "gridcolor": "white",
            "linecolor": "white",
            "ticks": ""
           },
           "bgcolor": "#E5ECF6",
           "caxis": {
            "gridcolor": "white",
            "linecolor": "white",
            "ticks": ""
           }
          },
          "title": {
           "x": 0.05
          },
          "xaxis": {
           "automargin": true,
           "gridcolor": "white",
           "linecolor": "white",
           "ticks": "",
           "title": {
            "standoff": 15
           },
           "zerolinecolor": "white",
           "zerolinewidth": 2
          },
          "yaxis": {
           "automargin": true,
           "gridcolor": "white",
           "linecolor": "white",
           "ticks": "",
           "title": {
            "standoff": 15
           },
           "zerolinecolor": "white",
           "zerolinewidth": 2
          }
         }
        },
        "title": {
         "text": "Employee Attrition Statistics"
        },
        "xaxis": {
         "anchor": "y",
         "domain": [
          0,
          0.45
         ]
        },
        "yaxis": {
         "anchor": "x",
         "domain": [
          0,
          1
         ],
         "dtick": 5,
         "range": [
          0,
          90
         ],
         "tickmode": "array",
         "ticksuffix": "%",
         "zeroline": true,
         "zerolinecolor": "gray",
         "zerolinewidth": 1
        }
       }
      }
     },
     "metadata": {},
     "output_type": "display_data"
    }
   ],
   "source": [
    "fig=make_subplots(rows=1, cols=2, \n",
    "                  subplot_titles=(\"\", \"Employee Attrition by Department\"),\n",
    "                  specs=[[{\"type\": \"bar\"}, {\"type\": \"pie\"}]])\n",
    "\n",
    "# Bar chart\n",
    "plot_df=data['Attrition'].value_counts(normalize=True)\n",
    "plot_df=plot_df.mul(100).rename('Percent').reset_index().sort_values('Percent')\n",
    "plot_df.rename(columns={'index':'Attrition'}, inplace=True)\n",
    "plot_df['Attrition']=['Former Employees' if i == 'Yes' else 'Current Employees' for i in plot_df['Attrition']]\n",
    "x=plot_df['Attrition']\n",
    "y=plot_df['Percent']\n",
    "fig.add_trace(\n",
    "    go.Bar(x=x, y=y, text=y,opacity=.8,\n",
    "           hovertemplate='Employee Attrition Rate<br>%{x}: %{y:.3}%<extra></extra>',\n",
    "           showlegend=False), row=1, col=1)\n",
    "fig.update_traces(texttemplate='%{text:.3s}%', textposition='outside', \n",
    "                  marker_line=dict(width=1, color='#1F0202'), marker_color=['#C02B34','#CDBBA7'])\n",
    "fig.update_yaxes(zeroline=True, zerolinewidth=1, zerolinecolor='gray')\n",
    "fig.update_layout(yaxis_ticksuffix = '%')\n",
    "\n",
    "# Pie chart\n",
    "plot_df2=data[data.Attrition=='Yes']\n",
    "plot_df2=plot_df2['Department'].value_counts(normalize=True)\n",
    "plot_df2=plot_df2.mul(100).rename('Percent').reset_index().sort_values('Percent', ascending=False)\n",
    "plot_df2.rename(columns={'index':'Department'}, inplace=True)\n",
    "fig.add_trace(go.Pie(labels=plot_df2['Department'], values=plot_df2['Percent'], opacity=0.85, hole=0.4,\n",
    "                     hovertemplate='%{label}<br>Attrition Rate: %{value:.3}%<extra></extra>',\n",
    "                     marker_colors=['#587D65','#ADC4B2','#D1C9C2']), row=1, col=2)\n",
    "fig.update_yaxes(tickmode = 'array', range=[0, 90], dtick=5)\n",
    "fig.update_traces(textfont_size=14,textfont_color='black',marker=dict(line=dict(color='#28221D', width=1)))\n",
    "fig.update_layout(title_text=\"Employee Attrition Statistics\", font_color='#28221D',\n",
    "                  paper_bgcolor='#F4F2F0', plot_bgcolor='#F4F2F0')      \n",
    "fig.show()"
   ]
  },
  {
   "cell_type": "code",
   "execution_count": 165,
   "id": "608a1150",
   "metadata": {},
   "outputs": [
    {
     "data": {
      "application/vnd.plotly.v1+json": {
       "config": {
        "plotlyServerURL": "https://plot.ly"
       },
       "data": [
        {
         "alignmentgroup": "True",
         "hovertemplate": "Attrition=Yes<br>Gender=Female<br>Department=%{x}<br>Percent=%{text}<extra></extra>",
         "legendgroup": "Yes",
         "marker": {
          "color": "#C02B34",
          "line": {
           "color": "#28221D",
           "width": 1
          },
          "opacity": 0.75,
          "pattern": {
           "shape": ""
          }
         },
         "name": "Yes",
         "offsetgroup": "Yes",
         "orientation": "v",
         "showlegend": true,
         "text": {
          "bdata": "AAAAAAAAPkAcVeaR+LAmQLHBxQYXGzRA",
          "dtype": "f8"
         },
         "textposition": "outside",
         "texttemplate": "%{text:.3s}%",
         "type": "bar",
         "width": 0.4,
         "x": [
          "Human Resources",
          "Research & Development",
          "Sales"
         ],
         "xaxis": "x",
         "y": {
          "bdata": "AAAAAAAAPkAcVeaR+LAmQLHBxQYXGzRA",
          "dtype": "f8"
         },
         "yaxis": "y"
        },
        {
         "alignmentgroup": "True",
         "hovertemplate": "Attrition=Yes<br>Gender=Male<br>Department=%{x}<br>Percent=%{text}<extra></extra>",
         "legendgroup": "Yes",
         "marker": {
          "color": "#C02B34",
          "line": {
           "color": "#28221D",
           "width": 1
          },
          "opacity": 0.75,
          "pattern": {
           "shape": ""
          }
         },
         "name": "Yes",
         "offsetgroup": "Yes",
         "orientation": "v",
         "showlegend": false,
         "text": {
          "bdata": "+oK+oC/oK0BneRKZhu0uQP0C/QL9AjVA",
          "dtype": "f8"
         },
         "textposition": "outside",
         "texttemplate": "%{text:.3s}%",
         "type": "bar",
         "width": 0.4,
         "x": [
          "Human Resources",
          "Research & Development",
          "Sales"
         ],
         "xaxis": "x2",
         "y": {
          "bdata": "+oK+oC/oK0BneRKZhu0uQP0C/QL9AjVA",
          "dtype": "f8"
         },
         "yaxis": "y2"
        },
        {
         "alignmentgroup": "True",
         "hovertemplate": "Attrition=No<br>Gender=Female<br>Department=%{x}<br>Percent=%{text}<extra></extra>",
         "legendgroup": "No",
         "marker": {
          "color": "#CDBBA7",
          "line": {
           "color": "#28221D",
           "width": 1
          },
          "opacity": 0.75,
          "pattern": {
           "shape": ""
          }
         },
         "name": "No",
         "offsetgroup": "No",
         "orientation": "v",
         "showlegend": true,
         "text": {
          "bdata": "AAAAAACAUUBcNcPt4ClWQJSPTj46+VNA",
          "dtype": "f8"
         },
         "textposition": "outside",
         "texttemplate": "%{text:.3s}%",
         "type": "bar",
         "width": 0.4,
         "x": [
          "Human Resources",
          "Research & Development",
          "Sales"
         ],
         "xaxis": "x",
         "y": {
          "bdata": "AAAAAACAUUBcNcPt4ClWQJSPTj46+VNA",
          "dtype": "f8"
         },
         "yaxis": "y"
        },
        {
         "alignmentgroup": "True",
         "hovertemplate": "Attrition=No<br>Gender=Male<br>Department=%{x}<br>Percent=%{text}<extra></extra>",
         "legendgroup": "No",
         "marker": {
          "color": "#CDBBA7",
          "line": {
           "color": "#28221D",
           "width": 1
          },
          "opacity": 0.75,
          "pattern": {
           "shape": ""
          }
         },
         "name": "No",
         "offsetgroup": "No",
         "orientation": "v",
         "showlegend": false,
         "text": {
          "bdata": "oS/oC/qCVUDTsN0sTyJVQEG/QL9Av1NA",
          "dtype": "f8"
         },
         "textposition": "outside",
         "texttemplate": "%{text:.3s}%",
         "type": "bar",
         "width": 0.4,
         "x": [
          "Human Resources",
          "Research & Development",
          "Sales"
         ],
         "xaxis": "x2",
         "y": {
          "bdata": "oS/oC/qCVUDTsN0sTyJVQEG/QL9Av1NA",
          "dtype": "f8"
         },
         "yaxis": "y2"
        }
       ],
       "layout": {
        "annotations": [
         {
          "font": {},
          "showarrow": false,
          "text": "Gender=Female",
          "x": 0.245,
          "xanchor": "center",
          "xref": "paper",
          "y": 1,
          "yanchor": "bottom",
          "yref": "paper"
         },
         {
          "font": {},
          "showarrow": false,
          "text": "Gender=Male",
          "x": 0.755,
          "xanchor": "center",
          "xref": "paper",
          "y": 1,
          "yanchor": "bottom",
          "yref": "paper"
         }
        ],
        "barmode": "group",
        "font": {
         "color": "#28221D"
        },
        "height": 500,
        "legend": {
         "title": {
          "text": "Attrition"
         },
         "tracegroupgap": 0
        },
        "margin": {
         "t": 60
        },
        "paper_bgcolor": "#F4F2F0",
        "plot_bgcolor": "#F4F2F0",
        "template": {
         "data": {
          "bar": [
           {
            "error_x": {
             "color": "#2a3f5f"
            },
            "error_y": {
             "color": "#2a3f5f"
            },
            "marker": {
             "line": {
              "color": "#E5ECF6",
              "width": 0.5
             },
             "pattern": {
              "fillmode": "overlay",
              "size": 10,
              "solidity": 0.2
             }
            },
            "type": "bar"
           }
          ],
          "barpolar": [
           {
            "marker": {
             "line": {
              "color": "#E5ECF6",
              "width": 0.5
             },
             "pattern": {
              "fillmode": "overlay",
              "size": 10,
              "solidity": 0.2
             }
            },
            "type": "barpolar"
           }
          ],
          "carpet": [
           {
            "aaxis": {
             "endlinecolor": "#2a3f5f",
             "gridcolor": "white",
             "linecolor": "white",
             "minorgridcolor": "white",
             "startlinecolor": "#2a3f5f"
            },
            "baxis": {
             "endlinecolor": "#2a3f5f",
             "gridcolor": "white",
             "linecolor": "white",
             "minorgridcolor": "white",
             "startlinecolor": "#2a3f5f"
            },
            "type": "carpet"
           }
          ],
          "choropleth": [
           {
            "colorbar": {
             "outlinewidth": 0,
             "ticks": ""
            },
            "type": "choropleth"
           }
          ],
          "contour": [
           {
            "colorbar": {
             "outlinewidth": 0,
             "ticks": ""
            },
            "colorscale": [
             [
              0,
              "#0d0887"
             ],
             [
              0.1111111111111111,
              "#46039f"
             ],
             [
              0.2222222222222222,
              "#7201a8"
             ],
             [
              0.3333333333333333,
              "#9c179e"
             ],
             [
              0.4444444444444444,
              "#bd3786"
             ],
             [
              0.5555555555555556,
              "#d8576b"
             ],
             [
              0.6666666666666666,
              "#ed7953"
             ],
             [
              0.7777777777777778,
              "#fb9f3a"
             ],
             [
              0.8888888888888888,
              "#fdca26"
             ],
             [
              1,
              "#f0f921"
             ]
            ],
            "type": "contour"
           }
          ],
          "contourcarpet": [
           {
            "colorbar": {
             "outlinewidth": 0,
             "ticks": ""
            },
            "type": "contourcarpet"
           }
          ],
          "heatmap": [
           {
            "colorbar": {
             "outlinewidth": 0,
             "ticks": ""
            },
            "colorscale": [
             [
              0,
              "#0d0887"
             ],
             [
              0.1111111111111111,
              "#46039f"
             ],
             [
              0.2222222222222222,
              "#7201a8"
             ],
             [
              0.3333333333333333,
              "#9c179e"
             ],
             [
              0.4444444444444444,
              "#bd3786"
             ],
             [
              0.5555555555555556,
              "#d8576b"
             ],
             [
              0.6666666666666666,
              "#ed7953"
             ],
             [
              0.7777777777777778,
              "#fb9f3a"
             ],
             [
              0.8888888888888888,
              "#fdca26"
             ],
             [
              1,
              "#f0f921"
             ]
            ],
            "type": "heatmap"
           }
          ],
          "histogram": [
           {
            "marker": {
             "pattern": {
              "fillmode": "overlay",
              "size": 10,
              "solidity": 0.2
             }
            },
            "type": "histogram"
           }
          ],
          "histogram2d": [
           {
            "colorbar": {
             "outlinewidth": 0,
             "ticks": ""
            },
            "colorscale": [
             [
              0,
              "#0d0887"
             ],
             [
              0.1111111111111111,
              "#46039f"
             ],
             [
              0.2222222222222222,
              "#7201a8"
             ],
             [
              0.3333333333333333,
              "#9c179e"
             ],
             [
              0.4444444444444444,
              "#bd3786"
             ],
             [
              0.5555555555555556,
              "#d8576b"
             ],
             [
              0.6666666666666666,
              "#ed7953"
             ],
             [
              0.7777777777777778,
              "#fb9f3a"
             ],
             [
              0.8888888888888888,
              "#fdca26"
             ],
             [
              1,
              "#f0f921"
             ]
            ],
            "type": "histogram2d"
           }
          ],
          "histogram2dcontour": [
           {
            "colorbar": {
             "outlinewidth": 0,
             "ticks": ""
            },
            "colorscale": [
             [
              0,
              "#0d0887"
             ],
             [
              0.1111111111111111,
              "#46039f"
             ],
             [
              0.2222222222222222,
              "#7201a8"
             ],
             [
              0.3333333333333333,
              "#9c179e"
             ],
             [
              0.4444444444444444,
              "#bd3786"
             ],
             [
              0.5555555555555556,
              "#d8576b"
             ],
             [
              0.6666666666666666,
              "#ed7953"
             ],
             [
              0.7777777777777778,
              "#fb9f3a"
             ],
             [
              0.8888888888888888,
              "#fdca26"
             ],
             [
              1,
              "#f0f921"
             ]
            ],
            "type": "histogram2dcontour"
           }
          ],
          "mesh3d": [
           {
            "colorbar": {
             "outlinewidth": 0,
             "ticks": ""
            },
            "type": "mesh3d"
           }
          ],
          "parcoords": [
           {
            "line": {
             "colorbar": {
              "outlinewidth": 0,
              "ticks": ""
             }
            },
            "type": "parcoords"
           }
          ],
          "pie": [
           {
            "automargin": true,
            "type": "pie"
           }
          ],
          "scatter": [
           {
            "fillpattern": {
             "fillmode": "overlay",
             "size": 10,
             "solidity": 0.2
            },
            "type": "scatter"
           }
          ],
          "scatter3d": [
           {
            "line": {
             "colorbar": {
              "outlinewidth": 0,
              "ticks": ""
             }
            },
            "marker": {
             "colorbar": {
              "outlinewidth": 0,
              "ticks": ""
             }
            },
            "type": "scatter3d"
           }
          ],
          "scattercarpet": [
           {
            "marker": {
             "colorbar": {
              "outlinewidth": 0,
              "ticks": ""
             }
            },
            "type": "scattercarpet"
           }
          ],
          "scattergeo": [
           {
            "marker": {
             "colorbar": {
              "outlinewidth": 0,
              "ticks": ""
             }
            },
            "type": "scattergeo"
           }
          ],
          "scattergl": [
           {
            "marker": {
             "colorbar": {
              "outlinewidth": 0,
              "ticks": ""
             }
            },
            "type": "scattergl"
           }
          ],
          "scattermap": [
           {
            "marker": {
             "colorbar": {
              "outlinewidth": 0,
              "ticks": ""
             }
            },
            "type": "scattermap"
           }
          ],
          "scattermapbox": [
           {
            "marker": {
             "colorbar": {
              "outlinewidth": 0,
              "ticks": ""
             }
            },
            "type": "scattermapbox"
           }
          ],
          "scatterpolar": [
           {
            "marker": {
             "colorbar": {
              "outlinewidth": 0,
              "ticks": ""
             }
            },
            "type": "scatterpolar"
           }
          ],
          "scatterpolargl": [
           {
            "marker": {
             "colorbar": {
              "outlinewidth": 0,
              "ticks": ""
             }
            },
            "type": "scatterpolargl"
           }
          ],
          "scatterternary": [
           {
            "marker": {
             "colorbar": {
              "outlinewidth": 0,
              "ticks": ""
             }
            },
            "type": "scatterternary"
           }
          ],
          "surface": [
           {
            "colorbar": {
             "outlinewidth": 0,
             "ticks": ""
            },
            "colorscale": [
             [
              0,
              "#0d0887"
             ],
             [
              0.1111111111111111,
              "#46039f"
             ],
             [
              0.2222222222222222,
              "#7201a8"
             ],
             [
              0.3333333333333333,
              "#9c179e"
             ],
             [
              0.4444444444444444,
              "#bd3786"
             ],
             [
              0.5555555555555556,
              "#d8576b"
             ],
             [
              0.6666666666666666,
              "#ed7953"
             ],
             [
              0.7777777777777778,
              "#fb9f3a"
             ],
             [
              0.8888888888888888,
              "#fdca26"
             ],
             [
              1,
              "#f0f921"
             ]
            ],
            "type": "surface"
           }
          ],
          "table": [
           {
            "cells": {
             "fill": {
              "color": "#EBF0F8"
             },
             "line": {
              "color": "white"
             }
            },
            "header": {
             "fill": {
              "color": "#C8D4E3"
             },
             "line": {
              "color": "white"
             }
            },
            "type": "table"
           }
          ]
         },
         "layout": {
          "annotationdefaults": {
           "arrowcolor": "#2a3f5f",
           "arrowhead": 0,
           "arrowwidth": 1
          },
          "autotypenumbers": "strict",
          "coloraxis": {
           "colorbar": {
            "outlinewidth": 0,
            "ticks": ""
           }
          },
          "colorscale": {
           "diverging": [
            [
             0,
             "#8e0152"
            ],
            [
             0.1,
             "#c51b7d"
            ],
            [
             0.2,
             "#de77ae"
            ],
            [
             0.3,
             "#f1b6da"
            ],
            [
             0.4,
             "#fde0ef"
            ],
            [
             0.5,
             "#f7f7f7"
            ],
            [
             0.6,
             "#e6f5d0"
            ],
            [
             0.7,
             "#b8e186"
            ],
            [
             0.8,
             "#7fbc41"
            ],
            [
             0.9,
             "#4d9221"
            ],
            [
             1,
             "#276419"
            ]
           ],
           "sequential": [
            [
             0,
             "#0d0887"
            ],
            [
             0.1111111111111111,
             "#46039f"
            ],
            [
             0.2222222222222222,
             "#7201a8"
            ],
            [
             0.3333333333333333,
             "#9c179e"
            ],
            [
             0.4444444444444444,
             "#bd3786"
            ],
            [
             0.5555555555555556,
             "#d8576b"
            ],
            [
             0.6666666666666666,
             "#ed7953"
            ],
            [
             0.7777777777777778,
             "#fb9f3a"
            ],
            [
             0.8888888888888888,
             "#fdca26"
            ],
            [
             1,
             "#f0f921"
            ]
           ],
           "sequentialminus": [
            [
             0,
             "#0d0887"
            ],
            [
             0.1111111111111111,
             "#46039f"
            ],
            [
             0.2222222222222222,
             "#7201a8"
            ],
            [
             0.3333333333333333,
             "#9c179e"
            ],
            [
             0.4444444444444444,
             "#bd3786"
            ],
            [
             0.5555555555555556,
             "#d8576b"
            ],
            [
             0.6666666666666666,
             "#ed7953"
            ],
            [
             0.7777777777777778,
             "#fb9f3a"
            ],
            [
             0.8888888888888888,
             "#fdca26"
            ],
            [
             1,
             "#f0f921"
            ]
           ]
          },
          "colorway": [
           "#636efa",
           "#EF553B",
           "#00cc96",
           "#ab63fa",
           "#FFA15A",
           "#19d3f3",
           "#FF6692",
           "#B6E880",
           "#FF97FF",
           "#FECB52"
          ],
          "font": {
           "color": "#2a3f5f"
          },
          "geo": {
           "bgcolor": "white",
           "lakecolor": "white",
           "landcolor": "#E5ECF6",
           "showlakes": true,
           "showland": true,
           "subunitcolor": "white"
          },
          "hoverlabel": {
           "align": "left"
          },
          "hovermode": "closest",
          "mapbox": {
           "style": "light"
          },
          "paper_bgcolor": "white",
          "plot_bgcolor": "#E5ECF6",
          "polar": {
           "angularaxis": {
            "gridcolor": "white",
            "linecolor": "white",
            "ticks": ""
           },
           "bgcolor": "#E5ECF6",
           "radialaxis": {
            "gridcolor": "white",
            "linecolor": "white",
            "ticks": ""
           }
          },
          "scene": {
           "xaxis": {
            "backgroundcolor": "#E5ECF6",
            "gridcolor": "white",
            "gridwidth": 2,
            "linecolor": "white",
            "showbackground": true,
            "ticks": "",
            "zerolinecolor": "white"
           },
           "yaxis": {
            "backgroundcolor": "#E5ECF6",
            "gridcolor": "white",
            "gridwidth": 2,
            "linecolor": "white",
            "showbackground": true,
            "ticks": "",
            "zerolinecolor": "white"
           },
           "zaxis": {
            "backgroundcolor": "#E5ECF6",
            "gridcolor": "white",
            "gridwidth": 2,
            "linecolor": "white",
            "showbackground": true,
            "ticks": "",
            "zerolinecolor": "white"
           }
          },
          "shapedefaults": {
           "line": {
            "color": "#2a3f5f"
           }
          },
          "ternary": {
           "aaxis": {
            "gridcolor": "white",
            "linecolor": "white",
            "ticks": ""
           },
           "baxis": {
            "gridcolor": "white",
            "linecolor": "white",
            "ticks": ""
           },
           "bgcolor": "#E5ECF6",
           "caxis": {
            "gridcolor": "white",
            "linecolor": "white",
            "ticks": ""
           }
          },
          "title": {
           "x": 0.05
          },
          "xaxis": {
           "automargin": true,
           "gridcolor": "white",
           "linecolor": "white",
           "ticks": "",
           "title": {
            "standoff": 15
           },
           "zerolinecolor": "white",
           "zerolinewidth": 2
          },
          "yaxis": {
           "automargin": true,
           "gridcolor": "white",
           "linecolor": "white",
           "ticks": "",
           "title": {
            "standoff": 15
           },
           "zerolinecolor": "white",
           "zerolinewidth": 2
          }
         }
        },
        "title": {
         "text": "Attrition Rates by Department and Gender"
        },
        "xaxis": {
         "anchor": "y",
         "domain": [
          0,
          0.49
         ],
         "tickangle": 30,
         "title": {
          "text": "Department"
         }
        },
        "xaxis2": {
         "anchor": "y2",
         "domain": [
          0.51,
          1
         ],
         "matches": "x",
         "showticklabels": true,
         "tickangle": 30,
         "title": {
          "text": "Department"
         }
        },
        "yaxis": {
         "anchor": "x",
         "domain": [
          0,
          1
         ],
         "ticksuffix": "%",
         "title": {
          "text": ""
         },
         "zeroline": true,
         "zerolinecolor": "#28221D",
         "zerolinewidth": 1
        },
        "yaxis2": {
         "anchor": "x2",
         "domain": [
          0,
          1
         ],
         "matches": "y",
         "showticklabels": false,
         "title": {
          "text": ""
         },
         "zeroline": true,
         "zerolinecolor": "#28221D",
         "zerolinewidth": 1
        }
       }
      }
     },
     "metadata": {},
     "output_type": "display_data"
    }
   ],
   "source": [
    "plot_df = data.groupby(['Gender','Department'])['Attrition'].value_counts(normalize=True)\n",
    "plot_df = plot_df.mul(100).rename('Percent').reset_index()\n",
    "fig = px.bar(plot_df, x=\"Department\", y=\"Percent\", color=\"Attrition\", barmode=\"group\",\n",
    "            text='Percent', opacity=.75, facet_col=\"Gender\", category_orders={'Attrition': ['Yes', 'No']},\n",
    "            color_discrete_map={'Yes': '#C02B34','No': '#CDBBA7'}) \n",
    "fig.update_traces(texttemplate='%{text:.3s}%', textposition='outside',\n",
    "                  marker_line=dict(width=1, color='#28221D'),  width=.4)\n",
    "fig.update_layout(title_text='Attrition Rates by Department and Gender', yaxis_ticksuffix = '%',\n",
    "                  paper_bgcolor='#F4F2F0', plot_bgcolor='#F4F2F0',font_color='#28221D',\n",
    "                  height=500, xaxis=dict(tickangle=30))\n",
    "fig.update_xaxes(showticklabels=True,tickangle=30,col=2)\n",
    "fig.update_yaxes(title = \"\", zeroline=True, zerolinewidth=1, zerolinecolor='#28221D')\n",
    "fig.show()"
   ]
  },
  {
   "cell_type": "code",
   "execution_count": 166,
   "id": "b423ad33",
   "metadata": {},
   "outputs": [
    {
     "data": {
      "application/vnd.plotly.v1+json": {
       "config": {
        "plotlyServerURL": "https://plot.ly"
       },
       "data": [
        {
         "alignmentgroup": "True",
         "hovertemplate": "Attrition=Yes<br>Gender=Female<br>WorkLifeBalance=%{x}<br>Percent=%{text}<extra></extra>",
         "legendgroup": "Yes",
         "marker": {
          "color": "#C02B34",
          "line": {
           "color": "#28221D",
           "width": 1
          },
          "opacity": 0.75,
          "pattern": {
           "shape": ""
          }
         },
         "name": "Yes",
         "offsetgroup": "Yes",
         "orientation": "v",
         "showlegend": true,
         "text": {
          "bdata": "VVVVVVVVN0Dx8PDw8PArQA4cOHDgwClA+wjuI7iPOEA=",
          "dtype": "f8"
         },
         "textposition": "outside",
         "texttemplate": "%{text:.2s}%",
         "type": "bar",
         "x": {
          "bdata": "AQIDBA==",
          "dtype": "i1"
         },
         "xaxis": "x2",
         "y": {
          "bdata": "VVVVVVVVN0Dx8PDw8PArQA4cOHDgwClA+wjuI7iPOEA=",
          "dtype": "f8"
         },
         "yaxis": "y2"
        },
        {
         "alignmentgroup": "True",
         "hovertemplate": "Attrition=Yes<br>Gender=Male<br>WorkLifeBalance=%{x}<br>Percent=%{text}<extra></extra>",
         "legendgroup": "Yes",
         "marker": {
          "color": "#C02B34",
          "line": {
           "color": "#28221D",
           "width": 1
          },
          "opacity": 0.75,
          "pattern": {
           "shape": ""
          }
         },
         "name": "Yes",
         "offsetgroup": "Yes",
         "orientation": "v",
         "showlegend": false,
         "text": {
          "bdata": "AAAAAAAAQkAAAAAAAMAyQE422WSTTS5AVVVVVVUVK0A=",
          "dtype": "f8"
         },
         "textposition": "outside",
         "texttemplate": "%{text:.2s}%",
         "type": "bar",
         "x": {
          "bdata": "AQIDBA==",
          "dtype": "i1"
         },
         "xaxis": "x",
         "y": {
          "bdata": "AAAAAAAAQkAAAAAAAMAyQE422WSTTS5AVVVVVVUVK0A=",
          "dtype": "f8"
         },
         "yaxis": "y"
        },
        {
         "alignmentgroup": "True",
         "hovertemplate": "Attrition=No<br>Gender=Female<br>WorkLifeBalance=%{x}<br>Percent=%{text}<extra></extra>",
         "legendgroup": "No",
         "marker": {
          "color": "#CDBBA7",
          "line": {
           "color": "#28221D",
           "width": 1
          },
          "opacity": 0.75,
          "pattern": {
           "shape": ""
          }
         },
         "name": "No",
         "offsetgroup": "No",
         "orientation": "v",
         "showlegend": true,
         "text": {
          "bdata": "q6qqqqoqU0Di4eHh4YFVQH78+PHjx1VAwX0E9xHcUkA=",
          "dtype": "f8"
         },
         "textposition": "outside",
         "texttemplate": "%{text:.2s}%",
         "type": "bar",
         "x": {
          "bdata": "AQIDBA==",
          "dtype": "i1"
         },
         "xaxis": "x2",
         "y": {
          "bdata": "q6qqqqoqU0Di4eHh4YFVQH78+PHjx1VAwX0E9xHcUkA=",
          "dtype": "f8"
         },
         "yaxis": "y2"
        },
        {
         "alignmentgroup": "True",
         "hovertemplate": "Attrition=No<br>Gender=Male<br>WorkLifeBalance=%{x}<br>Percent=%{text}<extra></extra>",
         "legendgroup": "No",
         "marker": {
          "color": "#CDBBA7",
          "line": {
           "color": "#28221D",
           "width": 1
          },
          "opacity": 0.75,
          "pattern": {
           "shape": ""
          }
         },
         "name": "No",
         "offsetgroup": "No",
         "orientation": "v",
         "showlegend": false,
         "text": {
          "bdata": "AAAAAAAAUEAAAAAAAFBUQDbZZJNNNlVAVlVVVVWdVUA=",
          "dtype": "f8"
         },
         "textposition": "outside",
         "texttemplate": "%{text:.2s}%",
         "type": "bar",
         "x": {
          "bdata": "AQIDBA==",
          "dtype": "i1"
         },
         "xaxis": "x",
         "y": {
          "bdata": "AAAAAAAAUEAAAAAAAFBUQDbZZJNNNlVAVlVVVVWdVUA=",
          "dtype": "f8"
         },
         "yaxis": "y"
        }
       ],
       "layout": {
        "annotations": [
         {
          "font": {},
          "showarrow": false,
          "text": "Gender=Male",
          "textangle": 90,
          "x": 0.98,
          "xanchor": "left",
          "xref": "paper",
          "y": 0.2425,
          "yanchor": "middle",
          "yref": "paper"
         },
         {
          "font": {},
          "showarrow": false,
          "text": "Gender=Female",
          "textangle": 90,
          "x": 0.98,
          "xanchor": "left",
          "xref": "paper",
          "y": 0.7575000000000001,
          "yanchor": "middle",
          "yref": "paper"
         }
        ],
        "barmode": "group",
        "font": {
         "color": "#28221D"
        },
        "height": 750,
        "legend": {
         "title": {
          "text": "Attrition"
         },
         "tracegroupgap": 0
        },
        "margin": {
         "t": 60
        },
        "paper_bgcolor": "#F4F2F0",
        "plot_bgcolor": "#F4F2F0",
        "template": {
         "data": {
          "bar": [
           {
            "error_x": {
             "color": "#2a3f5f"
            },
            "error_y": {
             "color": "#2a3f5f"
            },
            "marker": {
             "line": {
              "color": "#E5ECF6",
              "width": 0.5
             },
             "pattern": {
              "fillmode": "overlay",
              "size": 10,
              "solidity": 0.2
             }
            },
            "type": "bar"
           }
          ],
          "barpolar": [
           {
            "marker": {
             "line": {
              "color": "#E5ECF6",
              "width": 0.5
             },
             "pattern": {
              "fillmode": "overlay",
              "size": 10,
              "solidity": 0.2
             }
            },
            "type": "barpolar"
           }
          ],
          "carpet": [
           {
            "aaxis": {
             "endlinecolor": "#2a3f5f",
             "gridcolor": "white",
             "linecolor": "white",
             "minorgridcolor": "white",
             "startlinecolor": "#2a3f5f"
            },
            "baxis": {
             "endlinecolor": "#2a3f5f",
             "gridcolor": "white",
             "linecolor": "white",
             "minorgridcolor": "white",
             "startlinecolor": "#2a3f5f"
            },
            "type": "carpet"
           }
          ],
          "choropleth": [
           {
            "colorbar": {
             "outlinewidth": 0,
             "ticks": ""
            },
            "type": "choropleth"
           }
          ],
          "contour": [
           {
            "colorbar": {
             "outlinewidth": 0,
             "ticks": ""
            },
            "colorscale": [
             [
              0,
              "#0d0887"
             ],
             [
              0.1111111111111111,
              "#46039f"
             ],
             [
              0.2222222222222222,
              "#7201a8"
             ],
             [
              0.3333333333333333,
              "#9c179e"
             ],
             [
              0.4444444444444444,
              "#bd3786"
             ],
             [
              0.5555555555555556,
              "#d8576b"
             ],
             [
              0.6666666666666666,
              "#ed7953"
             ],
             [
              0.7777777777777778,
              "#fb9f3a"
             ],
             [
              0.8888888888888888,
              "#fdca26"
             ],
             [
              1,
              "#f0f921"
             ]
            ],
            "type": "contour"
           }
          ],
          "contourcarpet": [
           {
            "colorbar": {
             "outlinewidth": 0,
             "ticks": ""
            },
            "type": "contourcarpet"
           }
          ],
          "heatmap": [
           {
            "colorbar": {
             "outlinewidth": 0,
             "ticks": ""
            },
            "colorscale": [
             [
              0,
              "#0d0887"
             ],
             [
              0.1111111111111111,
              "#46039f"
             ],
             [
              0.2222222222222222,
              "#7201a8"
             ],
             [
              0.3333333333333333,
              "#9c179e"
             ],
             [
              0.4444444444444444,
              "#bd3786"
             ],
             [
              0.5555555555555556,
              "#d8576b"
             ],
             [
              0.6666666666666666,
              "#ed7953"
             ],
             [
              0.7777777777777778,
              "#fb9f3a"
             ],
             [
              0.8888888888888888,
              "#fdca26"
             ],
             [
              1,
              "#f0f921"
             ]
            ],
            "type": "heatmap"
           }
          ],
          "histogram": [
           {
            "marker": {
             "pattern": {
              "fillmode": "overlay",
              "size": 10,
              "solidity": 0.2
             }
            },
            "type": "histogram"
           }
          ],
          "histogram2d": [
           {
            "colorbar": {
             "outlinewidth": 0,
             "ticks": ""
            },
            "colorscale": [
             [
              0,
              "#0d0887"
             ],
             [
              0.1111111111111111,
              "#46039f"
             ],
             [
              0.2222222222222222,
              "#7201a8"
             ],
             [
              0.3333333333333333,
              "#9c179e"
             ],
             [
              0.4444444444444444,
              "#bd3786"
             ],
             [
              0.5555555555555556,
              "#d8576b"
             ],
             [
              0.6666666666666666,
              "#ed7953"
             ],
             [
              0.7777777777777778,
              "#fb9f3a"
             ],
             [
              0.8888888888888888,
              "#fdca26"
             ],
             [
              1,
              "#f0f921"
             ]
            ],
            "type": "histogram2d"
           }
          ],
          "histogram2dcontour": [
           {
            "colorbar": {
             "outlinewidth": 0,
             "ticks": ""
            },
            "colorscale": [
             [
              0,
              "#0d0887"
             ],
             [
              0.1111111111111111,
              "#46039f"
             ],
             [
              0.2222222222222222,
              "#7201a8"
             ],
             [
              0.3333333333333333,
              "#9c179e"
             ],
             [
              0.4444444444444444,
              "#bd3786"
             ],
             [
              0.5555555555555556,
              "#d8576b"
             ],
             [
              0.6666666666666666,
              "#ed7953"
             ],
             [
              0.7777777777777778,
              "#fb9f3a"
             ],
             [
              0.8888888888888888,
              "#fdca26"
             ],
             [
              1,
              "#f0f921"
             ]
            ],
            "type": "histogram2dcontour"
           }
          ],
          "mesh3d": [
           {
            "colorbar": {
             "outlinewidth": 0,
             "ticks": ""
            },
            "type": "mesh3d"
           }
          ],
          "parcoords": [
           {
            "line": {
             "colorbar": {
              "outlinewidth": 0,
              "ticks": ""
             }
            },
            "type": "parcoords"
           }
          ],
          "pie": [
           {
            "automargin": true,
            "type": "pie"
           }
          ],
          "scatter": [
           {
            "fillpattern": {
             "fillmode": "overlay",
             "size": 10,
             "solidity": 0.2
            },
            "type": "scatter"
           }
          ],
          "scatter3d": [
           {
            "line": {
             "colorbar": {
              "outlinewidth": 0,
              "ticks": ""
             }
            },
            "marker": {
             "colorbar": {
              "outlinewidth": 0,
              "ticks": ""
             }
            },
            "type": "scatter3d"
           }
          ],
          "scattercarpet": [
           {
            "marker": {
             "colorbar": {
              "outlinewidth": 0,
              "ticks": ""
             }
            },
            "type": "scattercarpet"
           }
          ],
          "scattergeo": [
           {
            "marker": {
             "colorbar": {
              "outlinewidth": 0,
              "ticks": ""
             }
            },
            "type": "scattergeo"
           }
          ],
          "scattergl": [
           {
            "marker": {
             "colorbar": {
              "outlinewidth": 0,
              "ticks": ""
             }
            },
            "type": "scattergl"
           }
          ],
          "scattermap": [
           {
            "marker": {
             "colorbar": {
              "outlinewidth": 0,
              "ticks": ""
             }
            },
            "type": "scattermap"
           }
          ],
          "scattermapbox": [
           {
            "marker": {
             "colorbar": {
              "outlinewidth": 0,
              "ticks": ""
             }
            },
            "type": "scattermapbox"
           }
          ],
          "scatterpolar": [
           {
            "marker": {
             "colorbar": {
              "outlinewidth": 0,
              "ticks": ""
             }
            },
            "type": "scatterpolar"
           }
          ],
          "scatterpolargl": [
           {
            "marker": {
             "colorbar": {
              "outlinewidth": 0,
              "ticks": ""
             }
            },
            "type": "scatterpolargl"
           }
          ],
          "scatterternary": [
           {
            "marker": {
             "colorbar": {
              "outlinewidth": 0,
              "ticks": ""
             }
            },
            "type": "scatterternary"
           }
          ],
          "surface": [
           {
            "colorbar": {
             "outlinewidth": 0,
             "ticks": ""
            },
            "colorscale": [
             [
              0,
              "#0d0887"
             ],
             [
              0.1111111111111111,
              "#46039f"
             ],
             [
              0.2222222222222222,
              "#7201a8"
             ],
             [
              0.3333333333333333,
              "#9c179e"
             ],
             [
              0.4444444444444444,
              "#bd3786"
             ],
             [
              0.5555555555555556,
              "#d8576b"
             ],
             [
              0.6666666666666666,
              "#ed7953"
             ],
             [
              0.7777777777777778,
              "#fb9f3a"
             ],
             [
              0.8888888888888888,
              "#fdca26"
             ],
             [
              1,
              "#f0f921"
             ]
            ],
            "type": "surface"
           }
          ],
          "table": [
           {
            "cells": {
             "fill": {
              "color": "#EBF0F8"
             },
             "line": {
              "color": "white"
             }
            },
            "header": {
             "fill": {
              "color": "#C8D4E3"
             },
             "line": {
              "color": "white"
             }
            },
            "type": "table"
           }
          ]
         },
         "layout": {
          "annotationdefaults": {
           "arrowcolor": "#2a3f5f",
           "arrowhead": 0,
           "arrowwidth": 1
          },
          "autotypenumbers": "strict",
          "coloraxis": {
           "colorbar": {
            "outlinewidth": 0,
            "ticks": ""
           }
          },
          "colorscale": {
           "diverging": [
            [
             0,
             "#8e0152"
            ],
            [
             0.1,
             "#c51b7d"
            ],
            [
             0.2,
             "#de77ae"
            ],
            [
             0.3,
             "#f1b6da"
            ],
            [
             0.4,
             "#fde0ef"
            ],
            [
             0.5,
             "#f7f7f7"
            ],
            [
             0.6,
             "#e6f5d0"
            ],
            [
             0.7,
             "#b8e186"
            ],
            [
             0.8,
             "#7fbc41"
            ],
            [
             0.9,
             "#4d9221"
            ],
            [
             1,
             "#276419"
            ]
           ],
           "sequential": [
            [
             0,
             "#0d0887"
            ],
            [
             0.1111111111111111,
             "#46039f"
            ],
            [
             0.2222222222222222,
             "#7201a8"
            ],
            [
             0.3333333333333333,
             "#9c179e"
            ],
            [
             0.4444444444444444,
             "#bd3786"
            ],
            [
             0.5555555555555556,
             "#d8576b"
            ],
            [
             0.6666666666666666,
             "#ed7953"
            ],
            [
             0.7777777777777778,
             "#fb9f3a"
            ],
            [
             0.8888888888888888,
             "#fdca26"
            ],
            [
             1,
             "#f0f921"
            ]
           ],
           "sequentialminus": [
            [
             0,
             "#0d0887"
            ],
            [
             0.1111111111111111,
             "#46039f"
            ],
            [
             0.2222222222222222,
             "#7201a8"
            ],
            [
             0.3333333333333333,
             "#9c179e"
            ],
            [
             0.4444444444444444,
             "#bd3786"
            ],
            [
             0.5555555555555556,
             "#d8576b"
            ],
            [
             0.6666666666666666,
             "#ed7953"
            ],
            [
             0.7777777777777778,
             "#fb9f3a"
            ],
            [
             0.8888888888888888,
             "#fdca26"
            ],
            [
             1,
             "#f0f921"
            ]
           ]
          },
          "colorway": [
           "#636efa",
           "#EF553B",
           "#00cc96",
           "#ab63fa",
           "#FFA15A",
           "#19d3f3",
           "#FF6692",
           "#B6E880",
           "#FF97FF",
           "#FECB52"
          ],
          "font": {
           "color": "#2a3f5f"
          },
          "geo": {
           "bgcolor": "white",
           "lakecolor": "white",
           "landcolor": "#E5ECF6",
           "showlakes": true,
           "showland": true,
           "subunitcolor": "white"
          },
          "hoverlabel": {
           "align": "left"
          },
          "hovermode": "closest",
          "mapbox": {
           "style": "light"
          },
          "paper_bgcolor": "white",
          "plot_bgcolor": "#E5ECF6",
          "polar": {
           "angularaxis": {
            "gridcolor": "white",
            "linecolor": "white",
            "ticks": ""
           },
           "bgcolor": "#E5ECF6",
           "radialaxis": {
            "gridcolor": "white",
            "linecolor": "white",
            "ticks": ""
           }
          },
          "scene": {
           "xaxis": {
            "backgroundcolor": "#E5ECF6",
            "gridcolor": "white",
            "gridwidth": 2,
            "linecolor": "white",
            "showbackground": true,
            "ticks": "",
            "zerolinecolor": "white"
           },
           "yaxis": {
            "backgroundcolor": "#E5ECF6",
            "gridcolor": "white",
            "gridwidth": 2,
            "linecolor": "white",
            "showbackground": true,
            "ticks": "",
            "zerolinecolor": "white"
           },
           "zaxis": {
            "backgroundcolor": "#E5ECF6",
            "gridcolor": "white",
            "gridwidth": 2,
            "linecolor": "white",
            "showbackground": true,
            "ticks": "",
            "zerolinecolor": "white"
           }
          },
          "shapedefaults": {
           "line": {
            "color": "#2a3f5f"
           }
          },
          "ternary": {
           "aaxis": {
            "gridcolor": "white",
            "linecolor": "white",
            "ticks": ""
           },
           "baxis": {
            "gridcolor": "white",
            "linecolor": "white",
            "ticks": ""
           },
           "bgcolor": "#E5ECF6",
           "caxis": {
            "gridcolor": "white",
            "linecolor": "white",
            "ticks": ""
           }
          },
          "title": {
           "x": 0.05
          },
          "xaxis": {
           "automargin": true,
           "gridcolor": "white",
           "linecolor": "white",
           "ticks": "",
           "title": {
            "standoff": 15
           },
           "zerolinecolor": "white",
           "zerolinewidth": 2
          },
          "yaxis": {
           "automargin": true,
           "gridcolor": "white",
           "linecolor": "white",
           "ticks": "",
           "title": {
            "standoff": 15
           },
           "zerolinecolor": "white",
           "zerolinewidth": 2
          }
         }
        },
        "title": {
         "text": "Attrition Rates by Work Life Balance and Gender"
        },
        "xaxis": {
         "anchor": "y",
         "domain": [
          0,
          0.98
         ],
         "tickmode": "array",
         "ticktext": [
          "Poor",
          "Neutral",
          "Good",
          "Excellent"
         ],
         "tickvals": [
          1,
          2,
          3,
          4
         ],
         "title": {
          "text": "Work Life Balance"
         }
        },
        "xaxis2": {
         "anchor": "y2",
         "domain": [
          0,
          0.98
         ],
         "matches": "x",
         "showticklabels": false
        },
        "yaxis": {
         "anchor": "x",
         "domain": [
          0,
          0.485
         ],
         "ticksuffix": "%",
         "title": {
          "text": ""
         },
         "zeroline": true,
         "zerolinecolor": "#1F0202",
         "zerolinewidth": 1
        },
        "yaxis2": {
         "anchor": "x2",
         "domain": [
          0.515,
          1
         ],
         "matches": "y",
         "ticksuffix": "%",
         "title": {
          "text": ""
         },
         "zeroline": true,
         "zerolinecolor": "#1F0202",
         "zerolinewidth": 1
        }
       }
      }
     },
     "metadata": {},
     "output_type": "display_data"
    }
   ],
   "source": [
    "plot_df = data.groupby(['WorkLifeBalance','Gender'])['Attrition'].value_counts(normalize=True)\n",
    "plot_df = plot_df.mul(100).rename('Percent').reset_index()\n",
    "fig = px.bar(plot_df, x='WorkLifeBalance', y='Percent', color='Attrition',\n",
    "             facet_row='Gender', text='Percent', opacity=0.75, barmode='group', \n",
    "             category_orders={'Attrition': ['Yes', 'No']},\n",
    "             color_discrete_map={'Yes': '#C02B34','No': '#CDBBA7'})\n",
    "fig.update_traces(texttemplate='%{text:.2s}%', textposition='outside', \n",
    "                  marker_line=dict(width=1, color='#28221D'))\n",
    "fig.update_yaxes(title=\"\",zeroline=True, zerolinewidth=1, zerolinecolor='#1F0202',ticksuffix = '%')\n",
    "fig.update_layout(title_text='Attrition Rates by Work Life Balance and Gender',height=750,font_color='#28221D',\n",
    "                  xaxis_title='Work Life Balance', paper_bgcolor='#F4F2F0', plot_bgcolor='#F4F2F0', \n",
    "                  xaxis = dict(tickmode = 'array', tickvals = [1, 2, 3, 4],\n",
    "                               ticktext = ['Poor', 'Neutral', 'Good', 'Excellent']))\n",
    "fig.show()"
   ]
  },
  {
   "cell_type": "code",
   "execution_count": 167,
   "id": "382167f8",
   "metadata": {},
   "outputs": [
    {
     "data": {
      "application/vnd.plotly.v1+json": {
       "config": {
        "plotlyServerURL": "https://plot.ly"
       },
       "data": [
        {
         "hovertemplate": "Attrition=Yes<br>JobSatisfaction=%{x}<br>Percent=%{text}<extra></extra>",
         "legendgroup": "",
         "marker": {
          "color": [
           "#B6735F",
           "#D7C2B0",
           "#497B7A",
           "#9EB5A3"
          ],
          "line": {
           "color": "#28221D",
           "width": 1
          },
          "opacity": 0.8,
          "pattern": {
           "shape": ""
          }
         },
         "name": "",
         "orientation": "v",
         "showlegend": false,
         "text": {
          "bdata": "smcgKh3ZO0B8IUXAxmgzQEbAxmg7zT5AjbbTrODwNUA=",
          "dtype": "f8"
         },
         "textposition": "outside",
         "texttemplate": "%{text:.2s}%",
         "type": "bar",
         "x": [
          "Poor",
          "Neutral",
          "Good",
          "Excellent"
         ],
         "xaxis": "x",
         "y": {
          "bdata": "smcgKh3ZO0B8IUXAxmgzQEbAxmg7zT5AjbbTrODwNUA=",
          "dtype": "f8"
         },
         "yaxis": "y"
        },
        {
         "hovertemplate": "Attrition=No<br>JobSatisfaction=%{x}<br>Percent=%{text}<extra></extra>",
         "legendgroup": "",
         "marker": {
          "color": [
           "#B6735F",
           "#D7C2B0",
           "#497B7A",
           "#9EB5A3"
          ],
          "line": {
           "color": "#28221D",
           "width": 1
          },
          "opacity": 0.8,
          "pattern": {
           "shape": ""
          }
         },
         "name": "",
         "orientation": "v",
         "showlegend": false,
         "text": {
          "bdata": "nEGEEwIWMkBmQbXnZPoyQK2EsVlQ7T1AKXyKVSSBQEA=",
          "dtype": "f8"
         },
         "textposition": "outside",
         "texttemplate": "%{text:.2s}%",
         "type": "bar",
         "x": [
          "Poor",
          "Neutral",
          "Good",
          "Excellent"
         ],
         "xaxis": "x2",
         "y": {
          "bdata": "nEGEEwIWMkBmQbXnZPoyQK2EsVlQ7T1AKXyKVSSBQEA=",
          "dtype": "f8"
         },
         "yaxis": "y2"
        }
       ],
       "layout": {
        "annotations": [
         {
          "font": {},
          "showarrow": false,
          "text": "Attrition=Yes",
          "x": 0.245,
          "xanchor": "center",
          "xref": "paper",
          "y": 1,
          "yanchor": "bottom",
          "yref": "paper"
         },
         {
          "font": {},
          "showarrow": false,
          "text": "Attrition=No",
          "x": 0.755,
          "xanchor": "center",
          "xref": "paper",
          "y": 1,
          "yanchor": "bottom",
          "yref": "paper"
         }
        ],
        "bargap": 0.09,
        "barmode": "relative",
        "font": {
         "color": "#28221D"
        },
        "legend": {
         "tracegroupgap": 0
        },
        "margin": {
         "t": 60
        },
        "paper_bgcolor": "#F4F2F0",
        "plot_bgcolor": "#F4F2F0",
        "template": {
         "data": {
          "bar": [
           {
            "error_x": {
             "color": "#2a3f5f"
            },
            "error_y": {
             "color": "#2a3f5f"
            },
            "marker": {
             "line": {
              "color": "#E5ECF6",
              "width": 0.5
             },
             "pattern": {
              "fillmode": "overlay",
              "size": 10,
              "solidity": 0.2
             }
            },
            "type": "bar"
           }
          ],
          "barpolar": [
           {
            "marker": {
             "line": {
              "color": "#E5ECF6",
              "width": 0.5
             },
             "pattern": {
              "fillmode": "overlay",
              "size": 10,
              "solidity": 0.2
             }
            },
            "type": "barpolar"
           }
          ],
          "carpet": [
           {
            "aaxis": {
             "endlinecolor": "#2a3f5f",
             "gridcolor": "white",
             "linecolor": "white",
             "minorgridcolor": "white",
             "startlinecolor": "#2a3f5f"
            },
            "baxis": {
             "endlinecolor": "#2a3f5f",
             "gridcolor": "white",
             "linecolor": "white",
             "minorgridcolor": "white",
             "startlinecolor": "#2a3f5f"
            },
            "type": "carpet"
           }
          ],
          "choropleth": [
           {
            "colorbar": {
             "outlinewidth": 0,
             "ticks": ""
            },
            "type": "choropleth"
           }
          ],
          "contour": [
           {
            "colorbar": {
             "outlinewidth": 0,
             "ticks": ""
            },
            "colorscale": [
             [
              0,
              "#0d0887"
             ],
             [
              0.1111111111111111,
              "#46039f"
             ],
             [
              0.2222222222222222,
              "#7201a8"
             ],
             [
              0.3333333333333333,
              "#9c179e"
             ],
             [
              0.4444444444444444,
              "#bd3786"
             ],
             [
              0.5555555555555556,
              "#d8576b"
             ],
             [
              0.6666666666666666,
              "#ed7953"
             ],
             [
              0.7777777777777778,
              "#fb9f3a"
             ],
             [
              0.8888888888888888,
              "#fdca26"
             ],
             [
              1,
              "#f0f921"
             ]
            ],
            "type": "contour"
           }
          ],
          "contourcarpet": [
           {
            "colorbar": {
             "outlinewidth": 0,
             "ticks": ""
            },
            "type": "contourcarpet"
           }
          ],
          "heatmap": [
           {
            "colorbar": {
             "outlinewidth": 0,
             "ticks": ""
            },
            "colorscale": [
             [
              0,
              "#0d0887"
             ],
             [
              0.1111111111111111,
              "#46039f"
             ],
             [
              0.2222222222222222,
              "#7201a8"
             ],
             [
              0.3333333333333333,
              "#9c179e"
             ],
             [
              0.4444444444444444,
              "#bd3786"
             ],
             [
              0.5555555555555556,
              "#d8576b"
             ],
             [
              0.6666666666666666,
              "#ed7953"
             ],
             [
              0.7777777777777778,
              "#fb9f3a"
             ],
             [
              0.8888888888888888,
              "#fdca26"
             ],
             [
              1,
              "#f0f921"
             ]
            ],
            "type": "heatmap"
           }
          ],
          "histogram": [
           {
            "marker": {
             "pattern": {
              "fillmode": "overlay",
              "size": 10,
              "solidity": 0.2
             }
            },
            "type": "histogram"
           }
          ],
          "histogram2d": [
           {
            "colorbar": {
             "outlinewidth": 0,
             "ticks": ""
            },
            "colorscale": [
             [
              0,
              "#0d0887"
             ],
             [
              0.1111111111111111,
              "#46039f"
             ],
             [
              0.2222222222222222,
              "#7201a8"
             ],
             [
              0.3333333333333333,
              "#9c179e"
             ],
             [
              0.4444444444444444,
              "#bd3786"
             ],
             [
              0.5555555555555556,
              "#d8576b"
             ],
             [
              0.6666666666666666,
              "#ed7953"
             ],
             [
              0.7777777777777778,
              "#fb9f3a"
             ],
             [
              0.8888888888888888,
              "#fdca26"
             ],
             [
              1,
              "#f0f921"
             ]
            ],
            "type": "histogram2d"
           }
          ],
          "histogram2dcontour": [
           {
            "colorbar": {
             "outlinewidth": 0,
             "ticks": ""
            },
            "colorscale": [
             [
              0,
              "#0d0887"
             ],
             [
              0.1111111111111111,
              "#46039f"
             ],
             [
              0.2222222222222222,
              "#7201a8"
             ],
             [
              0.3333333333333333,
              "#9c179e"
             ],
             [
              0.4444444444444444,
              "#bd3786"
             ],
             [
              0.5555555555555556,
              "#d8576b"
             ],
             [
              0.6666666666666666,
              "#ed7953"
             ],
             [
              0.7777777777777778,
              "#fb9f3a"
             ],
             [
              0.8888888888888888,
              "#fdca26"
             ],
             [
              1,
              "#f0f921"
             ]
            ],
            "type": "histogram2dcontour"
           }
          ],
          "mesh3d": [
           {
            "colorbar": {
             "outlinewidth": 0,
             "ticks": ""
            },
            "type": "mesh3d"
           }
          ],
          "parcoords": [
           {
            "line": {
             "colorbar": {
              "outlinewidth": 0,
              "ticks": ""
             }
            },
            "type": "parcoords"
           }
          ],
          "pie": [
           {
            "automargin": true,
            "type": "pie"
           }
          ],
          "scatter": [
           {
            "fillpattern": {
             "fillmode": "overlay",
             "size": 10,
             "solidity": 0.2
            },
            "type": "scatter"
           }
          ],
          "scatter3d": [
           {
            "line": {
             "colorbar": {
              "outlinewidth": 0,
              "ticks": ""
             }
            },
            "marker": {
             "colorbar": {
              "outlinewidth": 0,
              "ticks": ""
             }
            },
            "type": "scatter3d"
           }
          ],
          "scattercarpet": [
           {
            "marker": {
             "colorbar": {
              "outlinewidth": 0,
              "ticks": ""
             }
            },
            "type": "scattercarpet"
           }
          ],
          "scattergeo": [
           {
            "marker": {
             "colorbar": {
              "outlinewidth": 0,
              "ticks": ""
             }
            },
            "type": "scattergeo"
           }
          ],
          "scattergl": [
           {
            "marker": {
             "colorbar": {
              "outlinewidth": 0,
              "ticks": ""
             }
            },
            "type": "scattergl"
           }
          ],
          "scattermap": [
           {
            "marker": {
             "colorbar": {
              "outlinewidth": 0,
              "ticks": ""
             }
            },
            "type": "scattermap"
           }
          ],
          "scattermapbox": [
           {
            "marker": {
             "colorbar": {
              "outlinewidth": 0,
              "ticks": ""
             }
            },
            "type": "scattermapbox"
           }
          ],
          "scatterpolar": [
           {
            "marker": {
             "colorbar": {
              "outlinewidth": 0,
              "ticks": ""
             }
            },
            "type": "scatterpolar"
           }
          ],
          "scatterpolargl": [
           {
            "marker": {
             "colorbar": {
              "outlinewidth": 0,
              "ticks": ""
             }
            },
            "type": "scatterpolargl"
           }
          ],
          "scatterternary": [
           {
            "marker": {
             "colorbar": {
              "outlinewidth": 0,
              "ticks": ""
             }
            },
            "type": "scatterternary"
           }
          ],
          "surface": [
           {
            "colorbar": {
             "outlinewidth": 0,
             "ticks": ""
            },
            "colorscale": [
             [
              0,
              "#0d0887"
             ],
             [
              0.1111111111111111,
              "#46039f"
             ],
             [
              0.2222222222222222,
              "#7201a8"
             ],
             [
              0.3333333333333333,
              "#9c179e"
             ],
             [
              0.4444444444444444,
              "#bd3786"
             ],
             [
              0.5555555555555556,
              "#d8576b"
             ],
             [
              0.6666666666666666,
              "#ed7953"
             ],
             [
              0.7777777777777778,
              "#fb9f3a"
             ],
             [
              0.8888888888888888,
              "#fdca26"
             ],
             [
              1,
              "#f0f921"
             ]
            ],
            "type": "surface"
           }
          ],
          "table": [
           {
            "cells": {
             "fill": {
              "color": "#EBF0F8"
             },
             "line": {
              "color": "white"
             }
            },
            "header": {
             "fill": {
              "color": "#C8D4E3"
             },
             "line": {
              "color": "white"
             }
            },
            "type": "table"
           }
          ]
         },
         "layout": {
          "annotationdefaults": {
           "arrowcolor": "#2a3f5f",
           "arrowhead": 0,
           "arrowwidth": 1
          },
          "autotypenumbers": "strict",
          "coloraxis": {
           "colorbar": {
            "outlinewidth": 0,
            "ticks": ""
           }
          },
          "colorscale": {
           "diverging": [
            [
             0,
             "#8e0152"
            ],
            [
             0.1,
             "#c51b7d"
            ],
            [
             0.2,
             "#de77ae"
            ],
            [
             0.3,
             "#f1b6da"
            ],
            [
             0.4,
             "#fde0ef"
            ],
            [
             0.5,
             "#f7f7f7"
            ],
            [
             0.6,
             "#e6f5d0"
            ],
            [
             0.7,
             "#b8e186"
            ],
            [
             0.8,
             "#7fbc41"
            ],
            [
             0.9,
             "#4d9221"
            ],
            [
             1,
             "#276419"
            ]
           ],
           "sequential": [
            [
             0,
             "#0d0887"
            ],
            [
             0.1111111111111111,
             "#46039f"
            ],
            [
             0.2222222222222222,
             "#7201a8"
            ],
            [
             0.3333333333333333,
             "#9c179e"
            ],
            [
             0.4444444444444444,
             "#bd3786"
            ],
            [
             0.5555555555555556,
             "#d8576b"
            ],
            [
             0.6666666666666666,
             "#ed7953"
            ],
            [
             0.7777777777777778,
             "#fb9f3a"
            ],
            [
             0.8888888888888888,
             "#fdca26"
            ],
            [
             1,
             "#f0f921"
            ]
           ],
           "sequentialminus": [
            [
             0,
             "#0d0887"
            ],
            [
             0.1111111111111111,
             "#46039f"
            ],
            [
             0.2222222222222222,
             "#7201a8"
            ],
            [
             0.3333333333333333,
             "#9c179e"
            ],
            [
             0.4444444444444444,
             "#bd3786"
            ],
            [
             0.5555555555555556,
             "#d8576b"
            ],
            [
             0.6666666666666666,
             "#ed7953"
            ],
            [
             0.7777777777777778,
             "#fb9f3a"
            ],
            [
             0.8888888888888888,
             "#fdca26"
            ],
            [
             1,
             "#f0f921"
            ]
           ]
          },
          "colorway": [
           "#636efa",
           "#EF553B",
           "#00cc96",
           "#ab63fa",
           "#FFA15A",
           "#19d3f3",
           "#FF6692",
           "#B6E880",
           "#FF97FF",
           "#FECB52"
          ],
          "font": {
           "color": "#2a3f5f"
          },
          "geo": {
           "bgcolor": "white",
           "lakecolor": "white",
           "landcolor": "#E5ECF6",
           "showlakes": true,
           "showland": true,
           "subunitcolor": "white"
          },
          "hoverlabel": {
           "align": "left"
          },
          "hovermode": "closest",
          "mapbox": {
           "style": "light"
          },
          "paper_bgcolor": "white",
          "plot_bgcolor": "#E5ECF6",
          "polar": {
           "angularaxis": {
            "gridcolor": "white",
            "linecolor": "white",
            "ticks": ""
           },
           "bgcolor": "#E5ECF6",
           "radialaxis": {
            "gridcolor": "white",
            "linecolor": "white",
            "ticks": ""
           }
          },
          "scene": {
           "xaxis": {
            "backgroundcolor": "#E5ECF6",
            "gridcolor": "white",
            "gridwidth": 2,
            "linecolor": "white",
            "showbackground": true,
            "ticks": "",
            "zerolinecolor": "white"
           },
           "yaxis": {
            "backgroundcolor": "#E5ECF6",
            "gridcolor": "white",
            "gridwidth": 2,
            "linecolor": "white",
            "showbackground": true,
            "ticks": "",
            "zerolinecolor": "white"
           },
           "zaxis": {
            "backgroundcolor": "#E5ECF6",
            "gridcolor": "white",
            "gridwidth": 2,
            "linecolor": "white",
            "showbackground": true,
            "ticks": "",
            "zerolinecolor": "white"
           }
          },
          "shapedefaults": {
           "line": {
            "color": "#2a3f5f"
           }
          },
          "ternary": {
           "aaxis": {
            "gridcolor": "white",
            "linecolor": "white",
            "ticks": ""
           },
           "baxis": {
            "gridcolor": "white",
            "linecolor": "white",
            "ticks": ""
           },
           "bgcolor": "#E5ECF6",
           "caxis": {
            "gridcolor": "white",
            "linecolor": "white",
            "ticks": ""
           }
          },
          "title": {
           "x": 0.05
          },
          "xaxis": {
           "automargin": true,
           "gridcolor": "white",
           "linecolor": "white",
           "ticks": "",
           "title": {
            "standoff": 15
           },
           "zerolinecolor": "white",
           "zerolinewidth": 2
          },
          "yaxis": {
           "automargin": true,
           "gridcolor": "white",
           "linecolor": "white",
           "ticks": "",
           "title": {
            "standoff": 15
           },
           "zerolinecolor": "white",
           "zerolinewidth": 2
          }
         }
        },
        "title": {
         "text": "Attrition Rates by Job Satisfaction"
        },
        "xaxis": {
         "anchor": "y",
         "domain": [
          0,
          0.49
         ],
         "title": {
          "text": "Job Satisfaction"
         }
        },
        "xaxis2": {
         "anchor": "y2",
         "domain": [
          0.51,
          1
         ],
         "matches": "x",
         "title": {
          "text": "JobSatisfaction"
         }
        },
        "yaxis": {
         "anchor": "x",
         "domain": [
          0,
          1
         ],
         "ticksuffix": "%",
         "title": {
          "text": ""
         },
         "zeroline": true,
         "zerolinecolor": "#28221D",
         "zerolinewidth": 1
        },
        "yaxis2": {
         "anchor": "x2",
         "domain": [
          0,
          1
         ],
         "matches": "y",
         "showticklabels": false,
         "ticksuffix": "%",
         "title": {
          "text": ""
         },
         "zeroline": true,
         "zerolinecolor": "#28221D",
         "zerolinewidth": 1
        }
       }
      }
     },
     "metadata": {},
     "output_type": "display_data"
    }
   ],
   "source": [
    "plot_df = data.groupby(['Attrition'])['JobSatisfaction'].value_counts(normalize=True)\n",
    "plot_df = plot_df.mul(100).rename('Percent').reset_index().sort_values('JobSatisfaction')\n",
    "plot_df.JobSatisfaction=pd.Categorical(plot_df.JobSatisfaction).rename_categories(\n",
    "    {1:'Poor', 2:'Neutral', 3:'Good', 4:'Excellent'})\n",
    "fig = px.bar(plot_df, x='JobSatisfaction', y='Percent', text='Percent', opacity=0.8,\n",
    "             facet_col=\"Attrition\", category_orders={\"Attrition\": [\"Yes\", \"No\"]})\n",
    "fig.update_traces(texttemplate='%{text:.2s}%', textposition='outside', \n",
    "                  marker_color=['#B6735F', '#D7C2B0', '#497B7A', '#9EB5A3'],\n",
    "                  marker_line=dict(width=1, color='#28221D'))\n",
    "fig.update_yaxes(title=\"\",zeroline=True, zerolinewidth=1, zerolinecolor='#28221D', ticksuffix='%')\n",
    "fig.update_layout(title_text='Attrition Rates by Job Satisfaction', bargap=.09,font_color='#28221D',\n",
    "                  xaxis_title='Job Satisfaction',paper_bgcolor='#F4F2F0', plot_bgcolor='#F4F2F0')\n",
    "fig.show()"
   ]
  },
  {
   "cell_type": "code",
   "execution_count": 168,
   "id": "9f0648a5",
   "metadata": {},
   "outputs": [
    {
     "data": {
      "application/vnd.plotly.v1+json": {
       "config": {
        "plotlyServerURL": "https://plot.ly"
       },
       "data": [
        {
         "alignmentgroup": "True",
         "hovertemplate": "Gender=Female<br>Department=%{x}<br>Salary=%{text}<extra></extra>",
         "legendgroup": "Female",
         "marker": {
          "color": "#214D5C",
          "line": {
           "color": "#28221D",
           "width": 1
          },
          "opacity": 0.75,
          "pattern": {
           "shape": ""
          }
         },
         "name": "Female",
         "offsetgroup": "Female",
         "orientation": "v",
         "showlegend": true,
         "text": {
          "bdata": "AAAAAABI9UBiGIZhGG30QMBsbbpEFfNA",
          "dtype": "f8"
         },
         "textposition": "outside",
         "texttemplate": "$%{text:,.0f}",
         "type": "bar",
         "x": [
          "Human Resources",
          "Sales",
          "Research & Development"
         ],
         "xaxis": "x",
         "y": {
          "bdata": "AAAAAABI9UBiGIZhGG30QMBsbbpEFfNA",
          "dtype": "f8"
         },
         "yaxis": "y"
        },
        {
         "alignmentgroup": "True",
         "hovertemplate": "Gender=Male<br>Department=%{x}<br>Salary=%{text}<extra></extra>",
         "legendgroup": "Male",
         "marker": {
          "color": "#ACBCC2",
          "line": {
           "color": "#28221D",
           "width": 1
          },
          "opacity": 0.75,
          "pattern": {
           "shape": ""
          }
         },
         "name": "Male",
         "offsetgroup": "Male",
         "orientation": "v",
         "showlegend": true,
         "text": {
          "bdata": "/AP8Azxc9EBH3BF3RKryQHL1g45q9fFA",
          "dtype": "f8"
         },
         "textposition": "outside",
         "texttemplate": "$%{text:,.0f}",
         "type": "bar",
         "x": [
          "Sales",
          "Human Resources",
          "Research & Development"
         ],
         "xaxis": "x",
         "y": {
          "bdata": "/AP8Azxc9EBH3BF3RKryQHL1g45q9fFA",
          "dtype": "f8"
         },
         "yaxis": "y"
        }
       ],
       "layout": {
        "barmode": "group",
        "font": {
         "color": "#28221D"
        },
        "legend": {
         "title": {
          "text": "Gender"
         },
         "tracegroupgap": 0
        },
        "margin": {
         "t": 60
        },
        "paper_bgcolor": "#F4F2F0",
        "plot_bgcolor": "#F4F2F0",
        "template": {
         "data": {
          "bar": [
           {
            "error_x": {
             "color": "#2a3f5f"
            },
            "error_y": {
             "color": "#2a3f5f"
            },
            "marker": {
             "line": {
              "color": "#E5ECF6",
              "width": 0.5
             },
             "pattern": {
              "fillmode": "overlay",
              "size": 10,
              "solidity": 0.2
             }
            },
            "type": "bar"
           }
          ],
          "barpolar": [
           {
            "marker": {
             "line": {
              "color": "#E5ECF6",
              "width": 0.5
             },
             "pattern": {
              "fillmode": "overlay",
              "size": 10,
              "solidity": 0.2
             }
            },
            "type": "barpolar"
           }
          ],
          "carpet": [
           {
            "aaxis": {
             "endlinecolor": "#2a3f5f",
             "gridcolor": "white",
             "linecolor": "white",
             "minorgridcolor": "white",
             "startlinecolor": "#2a3f5f"
            },
            "baxis": {
             "endlinecolor": "#2a3f5f",
             "gridcolor": "white",
             "linecolor": "white",
             "minorgridcolor": "white",
             "startlinecolor": "#2a3f5f"
            },
            "type": "carpet"
           }
          ],
          "choropleth": [
           {
            "colorbar": {
             "outlinewidth": 0,
             "ticks": ""
            },
            "type": "choropleth"
           }
          ],
          "contour": [
           {
            "colorbar": {
             "outlinewidth": 0,
             "ticks": ""
            },
            "colorscale": [
             [
              0,
              "#0d0887"
             ],
             [
              0.1111111111111111,
              "#46039f"
             ],
             [
              0.2222222222222222,
              "#7201a8"
             ],
             [
              0.3333333333333333,
              "#9c179e"
             ],
             [
              0.4444444444444444,
              "#bd3786"
             ],
             [
              0.5555555555555556,
              "#d8576b"
             ],
             [
              0.6666666666666666,
              "#ed7953"
             ],
             [
              0.7777777777777778,
              "#fb9f3a"
             ],
             [
              0.8888888888888888,
              "#fdca26"
             ],
             [
              1,
              "#f0f921"
             ]
            ],
            "type": "contour"
           }
          ],
          "contourcarpet": [
           {
            "colorbar": {
             "outlinewidth": 0,
             "ticks": ""
            },
            "type": "contourcarpet"
           }
          ],
          "heatmap": [
           {
            "colorbar": {
             "outlinewidth": 0,
             "ticks": ""
            },
            "colorscale": [
             [
              0,
              "#0d0887"
             ],
             [
              0.1111111111111111,
              "#46039f"
             ],
             [
              0.2222222222222222,
              "#7201a8"
             ],
             [
              0.3333333333333333,
              "#9c179e"
             ],
             [
              0.4444444444444444,
              "#bd3786"
             ],
             [
              0.5555555555555556,
              "#d8576b"
             ],
             [
              0.6666666666666666,
              "#ed7953"
             ],
             [
              0.7777777777777778,
              "#fb9f3a"
             ],
             [
              0.8888888888888888,
              "#fdca26"
             ],
             [
              1,
              "#f0f921"
             ]
            ],
            "type": "heatmap"
           }
          ],
          "histogram": [
           {
            "marker": {
             "pattern": {
              "fillmode": "overlay",
              "size": 10,
              "solidity": 0.2
             }
            },
            "type": "histogram"
           }
          ],
          "histogram2d": [
           {
            "colorbar": {
             "outlinewidth": 0,
             "ticks": ""
            },
            "colorscale": [
             [
              0,
              "#0d0887"
             ],
             [
              0.1111111111111111,
              "#46039f"
             ],
             [
              0.2222222222222222,
              "#7201a8"
             ],
             [
              0.3333333333333333,
              "#9c179e"
             ],
             [
              0.4444444444444444,
              "#bd3786"
             ],
             [
              0.5555555555555556,
              "#d8576b"
             ],
             [
              0.6666666666666666,
              "#ed7953"
             ],
             [
              0.7777777777777778,
              "#fb9f3a"
             ],
             [
              0.8888888888888888,
              "#fdca26"
             ],
             [
              1,
              "#f0f921"
             ]
            ],
            "type": "histogram2d"
           }
          ],
          "histogram2dcontour": [
           {
            "colorbar": {
             "outlinewidth": 0,
             "ticks": ""
            },
            "colorscale": [
             [
              0,
              "#0d0887"
             ],
             [
              0.1111111111111111,
              "#46039f"
             ],
             [
              0.2222222222222222,
              "#7201a8"
             ],
             [
              0.3333333333333333,
              "#9c179e"
             ],
             [
              0.4444444444444444,
              "#bd3786"
             ],
             [
              0.5555555555555556,
              "#d8576b"
             ],
             [
              0.6666666666666666,
              "#ed7953"
             ],
             [
              0.7777777777777778,
              "#fb9f3a"
             ],
             [
              0.8888888888888888,
              "#fdca26"
             ],
             [
              1,
              "#f0f921"
             ]
            ],
            "type": "histogram2dcontour"
           }
          ],
          "mesh3d": [
           {
            "colorbar": {
             "outlinewidth": 0,
             "ticks": ""
            },
            "type": "mesh3d"
           }
          ],
          "parcoords": [
           {
            "line": {
             "colorbar": {
              "outlinewidth": 0,
              "ticks": ""
             }
            },
            "type": "parcoords"
           }
          ],
          "pie": [
           {
            "automargin": true,
            "type": "pie"
           }
          ],
          "scatter": [
           {
            "fillpattern": {
             "fillmode": "overlay",
             "size": 10,
             "solidity": 0.2
            },
            "type": "scatter"
           }
          ],
          "scatter3d": [
           {
            "line": {
             "colorbar": {
              "outlinewidth": 0,
              "ticks": ""
             }
            },
            "marker": {
             "colorbar": {
              "outlinewidth": 0,
              "ticks": ""
             }
            },
            "type": "scatter3d"
           }
          ],
          "scattercarpet": [
           {
            "marker": {
             "colorbar": {
              "outlinewidth": 0,
              "ticks": ""
             }
            },
            "type": "scattercarpet"
           }
          ],
          "scattergeo": [
           {
            "marker": {
             "colorbar": {
              "outlinewidth": 0,
              "ticks": ""
             }
            },
            "type": "scattergeo"
           }
          ],
          "scattergl": [
           {
            "marker": {
             "colorbar": {
              "outlinewidth": 0,
              "ticks": ""
             }
            },
            "type": "scattergl"
           }
          ],
          "scattermap": [
           {
            "marker": {
             "colorbar": {
              "outlinewidth": 0,
              "ticks": ""
             }
            },
            "type": "scattermap"
           }
          ],
          "scattermapbox": [
           {
            "marker": {
             "colorbar": {
              "outlinewidth": 0,
              "ticks": ""
             }
            },
            "type": "scattermapbox"
           }
          ],
          "scatterpolar": [
           {
            "marker": {
             "colorbar": {
              "outlinewidth": 0,
              "ticks": ""
             }
            },
            "type": "scatterpolar"
           }
          ],
          "scatterpolargl": [
           {
            "marker": {
             "colorbar": {
              "outlinewidth": 0,
              "ticks": ""
             }
            },
            "type": "scatterpolargl"
           }
          ],
          "scatterternary": [
           {
            "marker": {
             "colorbar": {
              "outlinewidth": 0,
              "ticks": ""
             }
            },
            "type": "scatterternary"
           }
          ],
          "surface": [
           {
            "colorbar": {
             "outlinewidth": 0,
             "ticks": ""
            },
            "colorscale": [
             [
              0,
              "#0d0887"
             ],
             [
              0.1111111111111111,
              "#46039f"
             ],
             [
              0.2222222222222222,
              "#7201a8"
             ],
             [
              0.3333333333333333,
              "#9c179e"
             ],
             [
              0.4444444444444444,
              "#bd3786"
             ],
             [
              0.5555555555555556,
              "#d8576b"
             ],
             [
              0.6666666666666666,
              "#ed7953"
             ],
             [
              0.7777777777777778,
              "#fb9f3a"
             ],
             [
              0.8888888888888888,
              "#fdca26"
             ],
             [
              1,
              "#f0f921"
             ]
            ],
            "type": "surface"
           }
          ],
          "table": [
           {
            "cells": {
             "fill": {
              "color": "#EBF0F8"
             },
             "line": {
              "color": "white"
             }
            },
            "header": {
             "fill": {
              "color": "#C8D4E3"
             },
             "line": {
              "color": "white"
             }
            },
            "type": "table"
           }
          ]
         },
         "layout": {
          "annotationdefaults": {
           "arrowcolor": "#2a3f5f",
           "arrowhead": 0,
           "arrowwidth": 1
          },
          "autotypenumbers": "strict",
          "coloraxis": {
           "colorbar": {
            "outlinewidth": 0,
            "ticks": ""
           }
          },
          "colorscale": {
           "diverging": [
            [
             0,
             "#8e0152"
            ],
            [
             0.1,
             "#c51b7d"
            ],
            [
             0.2,
             "#de77ae"
            ],
            [
             0.3,
             "#f1b6da"
            ],
            [
             0.4,
             "#fde0ef"
            ],
            [
             0.5,
             "#f7f7f7"
            ],
            [
             0.6,
             "#e6f5d0"
            ],
            [
             0.7,
             "#b8e186"
            ],
            [
             0.8,
             "#7fbc41"
            ],
            [
             0.9,
             "#4d9221"
            ],
            [
             1,
             "#276419"
            ]
           ],
           "sequential": [
            [
             0,
             "#0d0887"
            ],
            [
             0.1111111111111111,
             "#46039f"
            ],
            [
             0.2222222222222222,
             "#7201a8"
            ],
            [
             0.3333333333333333,
             "#9c179e"
            ],
            [
             0.4444444444444444,
             "#bd3786"
            ],
            [
             0.5555555555555556,
             "#d8576b"
            ],
            [
             0.6666666666666666,
             "#ed7953"
            ],
            [
             0.7777777777777778,
             "#fb9f3a"
            ],
            [
             0.8888888888888888,
             "#fdca26"
            ],
            [
             1,
             "#f0f921"
            ]
           ],
           "sequentialminus": [
            [
             0,
             "#0d0887"
            ],
            [
             0.1111111111111111,
             "#46039f"
            ],
            [
             0.2222222222222222,
             "#7201a8"
            ],
            [
             0.3333333333333333,
             "#9c179e"
            ],
            [
             0.4444444444444444,
             "#bd3786"
            ],
            [
             0.5555555555555556,
             "#d8576b"
            ],
            [
             0.6666666666666666,
             "#ed7953"
            ],
            [
             0.7777777777777778,
             "#fb9f3a"
            ],
            [
             0.8888888888888888,
             "#fdca26"
            ],
            [
             1,
             "#f0f921"
            ]
           ]
          },
          "colorway": [
           "#636efa",
           "#EF553B",
           "#00cc96",
           "#ab63fa",
           "#FFA15A",
           "#19d3f3",
           "#FF6692",
           "#B6E880",
           "#FF97FF",
           "#FECB52"
          ],
          "font": {
           "color": "#2a3f5f"
          },
          "geo": {
           "bgcolor": "white",
           "lakecolor": "white",
           "landcolor": "#E5ECF6",
           "showlakes": true,
           "showland": true,
           "subunitcolor": "white"
          },
          "hoverlabel": {
           "align": "left"
          },
          "hovermode": "closest",
          "mapbox": {
           "style": "light"
          },
          "paper_bgcolor": "white",
          "plot_bgcolor": "#E5ECF6",
          "polar": {
           "angularaxis": {
            "gridcolor": "white",
            "linecolor": "white",
            "ticks": ""
           },
           "bgcolor": "#E5ECF6",
           "radialaxis": {
            "gridcolor": "white",
            "linecolor": "white",
            "ticks": ""
           }
          },
          "scene": {
           "xaxis": {
            "backgroundcolor": "#E5ECF6",
            "gridcolor": "white",
            "gridwidth": 2,
            "linecolor": "white",
            "showbackground": true,
            "ticks": "",
            "zerolinecolor": "white"
           },
           "yaxis": {
            "backgroundcolor": "#E5ECF6",
            "gridcolor": "white",
            "gridwidth": 2,
            "linecolor": "white",
            "showbackground": true,
            "ticks": "",
            "zerolinecolor": "white"
           },
           "zaxis": {
            "backgroundcolor": "#E5ECF6",
            "gridcolor": "white",
            "gridwidth": 2,
            "linecolor": "white",
            "showbackground": true,
            "ticks": "",
            "zerolinecolor": "white"
           }
          },
          "shapedefaults": {
           "line": {
            "color": "#2a3f5f"
           }
          },
          "ternary": {
           "aaxis": {
            "gridcolor": "white",
            "linecolor": "white",
            "ticks": ""
           },
           "baxis": {
            "gridcolor": "white",
            "linecolor": "white",
            "ticks": ""
           },
           "bgcolor": "#E5ECF6",
           "caxis": {
            "gridcolor": "white",
            "linecolor": "white",
            "ticks": ""
           }
          },
          "title": {
           "x": 0.05
          },
          "xaxis": {
           "automargin": true,
           "gridcolor": "white",
           "linecolor": "white",
           "ticks": "",
           "title": {
            "standoff": 15
           },
           "zerolinecolor": "white",
           "zerolinewidth": 2
          },
          "yaxis": {
           "automargin": true,
           "gridcolor": "white",
           "linecolor": "white",
           "ticks": "",
           "title": {
            "standoff": 15
           },
           "zerolinecolor": "white",
           "zerolinewidth": 2
          }
         }
        },
        "title": {
         "text": "Average Salaries by Department & Gender"
        },
        "xaxis": {
         "anchor": "y",
         "domain": [
          0,
          1
         ],
         "title": {
          "text": "Department"
         }
        },
        "yaxis": {
         "anchor": "x",
         "domain": [
          0,
          1
         ],
         "tickprefix": "$",
         "title": {
          "text": "Salary"
         },
         "zeroline": true,
         "zerolinecolor": "#28221D",
         "zerolinewidth": 1
        }
       }
      }
     },
     "metadata": {},
     "output_type": "display_data"
    }
   ],
   "source": [
    "plot_df = data.groupby(['Department', 'Gender'])['MonthlyIncome'].mean()\n",
    "plot_df = plot_df.mul(12).rename('Salary').reset_index().sort_values('Salary', ascending=False)\n",
    "fig = px.bar(plot_df, x='Department', y='Salary', color='Gender', text='Salary',  \n",
    "             barmode='group', opacity=0.75, color_discrete_map={'Female': '#214D5C','Male': '#ACBCC2'})\n",
    "fig.update_traces(texttemplate='$%{text:,.0f}', textposition='outside',\n",
    "                  marker_line=dict(width=1, color='#28221D'))\n",
    "fig.update_yaxes(zeroline=True, zerolinewidth=1, zerolinecolor='#28221D')\n",
    "fig.update_layout(title_text='Average Salaries by Department & Gender', font_color='#28221D',\n",
    "                  yaxis=dict(title='Salary',tickprefix='$'), paper_bgcolor='#F4F2F0', plot_bgcolor='#F4F2F0')\n",
    "fig.show()"
   ]
  },
  {
   "cell_type": "code",
   "execution_count": 169,
   "id": "18398254",
   "metadata": {},
   "outputs": [
    {
     "data": {
      "application/vnd.plotly.v1+json": {
       "config": {
        "plotlyServerURL": "https://plot.ly"
       },
       "data": [
        {
         "alignmentgroup": "True",
         "hovertemplate": "Gender=Female<br>Attrition=Yes<br>Department=%{x}<br>Salary=%{text}<extra></extra>",
         "legendgroup": "Female",
         "marker": {
          "color": "#214D5C",
          "line": {
           "color": "#28221D",
           "width": 1
          },
          "opacity": 0.75,
          "pattern": {
           "shape": ""
          }
         },
         "name": "Female",
         "offsetgroup": "Female",
         "orientation": "v",
         "showlegend": true,
         "text": {
          "bdata": "AAAAAADi6kAAAAAAQBDgQAAAAAAAud9A",
          "dtype": "f8"
         },
         "textposition": "outside",
         "texttemplate": "$%{text:,.0f}",
         "type": "bar",
         "x": [
          "Sales",
          "Human Resources",
          "Research & Development"
         ],
         "xaxis": "x",
         "y": {
          "bdata": "AAAAAADi6kAAAAAAQBDgQAAAAAAAud9A",
          "dtype": "f8"
         },
         "yaxis": "y"
        },
        {
         "alignmentgroup": "True",
         "hovertemplate": "Gender=Male<br>Attrition=Yes<br>Department=%{x}<br>Salary=%{text}<extra></extra>",
         "legendgroup": "Male",
         "marker": {
          "color": "#ACBCC2",
          "line": {
           "color": "#28221D",
           "width": 1
          },
          "opacity": 0.75,
          "pattern": {
           "shape": ""
          }
         },
         "name": "Male",
         "offsetgroup": "Male",
         "orientation": "v",
         "showlegend": true,
         "text": {
          "bdata": "AAAAAGCk8EAAAAAAAIzgQAAAAACAtNxA",
          "dtype": "f8"
         },
         "textposition": "outside",
         "texttemplate": "$%{text:,.0f}",
         "type": "bar",
         "x": [
          "Sales",
          "Research & Development",
          "Human Resources"
         ],
         "xaxis": "x",
         "y": {
          "bdata": "AAAAAGCk8EAAAAAAAIzgQAAAAACAtNxA",
          "dtype": "f8"
         },
         "yaxis": "y"
        },
        {
         "alignmentgroup": "True",
         "hovertemplate": "Gender=Female<br>Attrition=No<br>Department=%{x}<br>Salary=%{text}<extra></extra>",
         "legendgroup": "Female",
         "marker": {
          "color": "#214D5C",
          "line": {
           "color": "#28221D",
           "width": 1
          },
          "opacity": 0.75,
          "pattern": {
           "shape": ""
          }
         },
         "name": "Female",
         "offsetgroup": "Female",
         "orientation": "v",
         "showlegend": false,
         "text": {
          "bdata": "AAAAAEAg8kAAAAAAAM7wQAAAAACAjexA",
          "dtype": "f8"
         },
         "textposition": "outside",
         "texttemplate": "$%{text:,.0f}",
         "type": "bar",
         "x": [
          "Human Resources",
          "Sales",
          "Research & Development"
         ],
         "xaxis": "x2",
         "y": {
          "bdata": "AAAAAEAg8kAAAAAAAM7wQAAAAACAjexA",
          "dtype": "f8"
         },
         "yaxis": "y2"
        },
        {
         "alignmentgroup": "True",
         "hovertemplate": "Gender=Male<br>Attrition=No<br>Department=%{x}<br>Salary=%{text}<extra></extra>",
         "legendgroup": "Male",
         "marker": {
          "color": "#ACBCC2",
          "line": {
           "color": "#28221D",
           "width": 1
          },
          "opacity": 0.75,
          "pattern": {
           "shape": ""
          }
         },
         "name": "Male",
         "offsetgroup": "Male",
         "orientation": "v",
         "showlegend": false,
         "text": {
          "bdata": "AAAAAMAw8kAAAAAAQGzqQAAAAACAVOlA",
          "dtype": "f8"
         },
         "textposition": "outside",
         "texttemplate": "$%{text:,.0f}",
         "type": "bar",
         "x": [
          "Sales",
          "Research & Development",
          "Human Resources"
         ],
         "xaxis": "x2",
         "y": {
          "bdata": "AAAAAMAw8kAAAAAAQGzqQAAAAACAVOlA",
          "dtype": "f8"
         },
         "yaxis": "y2"
        }
       ],
       "layout": {
        "annotations": [
         {
          "font": {},
          "showarrow": false,
          "text": "Attrition=Yes",
          "x": 0.245,
          "xanchor": "center",
          "xref": "paper",
          "y": 1,
          "yanchor": "bottom",
          "yref": "paper"
         },
         {
          "font": {},
          "showarrow": false,
          "text": "Attrition=No",
          "x": 0.755,
          "xanchor": "center",
          "xref": "paper",
          "y": 1,
          "yanchor": "bottom",
          "yref": "paper"
         }
        ],
        "barmode": "group",
        "font": {
         "color": "#28221D"
        },
        "height": 500,
        "legend": {
         "title": {
          "text": "Gender"
         },
         "tracegroupgap": 0
        },
        "margin": {
         "t": 60
        },
        "paper_bgcolor": "#F4F2F0",
        "plot_bgcolor": "#F4F2F0",
        "template": {
         "data": {
          "bar": [
           {
            "error_x": {
             "color": "#2a3f5f"
            },
            "error_y": {
             "color": "#2a3f5f"
            },
            "marker": {
             "line": {
              "color": "#E5ECF6",
              "width": 0.5
             },
             "pattern": {
              "fillmode": "overlay",
              "size": 10,
              "solidity": 0.2
             }
            },
            "type": "bar"
           }
          ],
          "barpolar": [
           {
            "marker": {
             "line": {
              "color": "#E5ECF6",
              "width": 0.5
             },
             "pattern": {
              "fillmode": "overlay",
              "size": 10,
              "solidity": 0.2
             }
            },
            "type": "barpolar"
           }
          ],
          "carpet": [
           {
            "aaxis": {
             "endlinecolor": "#2a3f5f",
             "gridcolor": "white",
             "linecolor": "white",
             "minorgridcolor": "white",
             "startlinecolor": "#2a3f5f"
            },
            "baxis": {
             "endlinecolor": "#2a3f5f",
             "gridcolor": "white",
             "linecolor": "white",
             "minorgridcolor": "white",
             "startlinecolor": "#2a3f5f"
            },
            "type": "carpet"
           }
          ],
          "choropleth": [
           {
            "colorbar": {
             "outlinewidth": 0,
             "ticks": ""
            },
            "type": "choropleth"
           }
          ],
          "contour": [
           {
            "colorbar": {
             "outlinewidth": 0,
             "ticks": ""
            },
            "colorscale": [
             [
              0,
              "#0d0887"
             ],
             [
              0.1111111111111111,
              "#46039f"
             ],
             [
              0.2222222222222222,
              "#7201a8"
             ],
             [
              0.3333333333333333,
              "#9c179e"
             ],
             [
              0.4444444444444444,
              "#bd3786"
             ],
             [
              0.5555555555555556,
              "#d8576b"
             ],
             [
              0.6666666666666666,
              "#ed7953"
             ],
             [
              0.7777777777777778,
              "#fb9f3a"
             ],
             [
              0.8888888888888888,
              "#fdca26"
             ],
             [
              1,
              "#f0f921"
             ]
            ],
            "type": "contour"
           }
          ],
          "contourcarpet": [
           {
            "colorbar": {
             "outlinewidth": 0,
             "ticks": ""
            },
            "type": "contourcarpet"
           }
          ],
          "heatmap": [
           {
            "colorbar": {
             "outlinewidth": 0,
             "ticks": ""
            },
            "colorscale": [
             [
              0,
              "#0d0887"
             ],
             [
              0.1111111111111111,
              "#46039f"
             ],
             [
              0.2222222222222222,
              "#7201a8"
             ],
             [
              0.3333333333333333,
              "#9c179e"
             ],
             [
              0.4444444444444444,
              "#bd3786"
             ],
             [
              0.5555555555555556,
              "#d8576b"
             ],
             [
              0.6666666666666666,
              "#ed7953"
             ],
             [
              0.7777777777777778,
              "#fb9f3a"
             ],
             [
              0.8888888888888888,
              "#fdca26"
             ],
             [
              1,
              "#f0f921"
             ]
            ],
            "type": "heatmap"
           }
          ],
          "histogram": [
           {
            "marker": {
             "pattern": {
              "fillmode": "overlay",
              "size": 10,
              "solidity": 0.2
             }
            },
            "type": "histogram"
           }
          ],
          "histogram2d": [
           {
            "colorbar": {
             "outlinewidth": 0,
             "ticks": ""
            },
            "colorscale": [
             [
              0,
              "#0d0887"
             ],
             [
              0.1111111111111111,
              "#46039f"
             ],
             [
              0.2222222222222222,
              "#7201a8"
             ],
             [
              0.3333333333333333,
              "#9c179e"
             ],
             [
              0.4444444444444444,
              "#bd3786"
             ],
             [
              0.5555555555555556,
              "#d8576b"
             ],
             [
              0.6666666666666666,
              "#ed7953"
             ],
             [
              0.7777777777777778,
              "#fb9f3a"
             ],
             [
              0.8888888888888888,
              "#fdca26"
             ],
             [
              1,
              "#f0f921"
             ]
            ],
            "type": "histogram2d"
           }
          ],
          "histogram2dcontour": [
           {
            "colorbar": {
             "outlinewidth": 0,
             "ticks": ""
            },
            "colorscale": [
             [
              0,
              "#0d0887"
             ],
             [
              0.1111111111111111,
              "#46039f"
             ],
             [
              0.2222222222222222,
              "#7201a8"
             ],
             [
              0.3333333333333333,
              "#9c179e"
             ],
             [
              0.4444444444444444,
              "#bd3786"
             ],
             [
              0.5555555555555556,
              "#d8576b"
             ],
             [
              0.6666666666666666,
              "#ed7953"
             ],
             [
              0.7777777777777778,
              "#fb9f3a"
             ],
             [
              0.8888888888888888,
              "#fdca26"
             ],
             [
              1,
              "#f0f921"
             ]
            ],
            "type": "histogram2dcontour"
           }
          ],
          "mesh3d": [
           {
            "colorbar": {
             "outlinewidth": 0,
             "ticks": ""
            },
            "type": "mesh3d"
           }
          ],
          "parcoords": [
           {
            "line": {
             "colorbar": {
              "outlinewidth": 0,
              "ticks": ""
             }
            },
            "type": "parcoords"
           }
          ],
          "pie": [
           {
            "automargin": true,
            "type": "pie"
           }
          ],
          "scatter": [
           {
            "fillpattern": {
             "fillmode": "overlay",
             "size": 10,
             "solidity": 0.2
            },
            "type": "scatter"
           }
          ],
          "scatter3d": [
           {
            "line": {
             "colorbar": {
              "outlinewidth": 0,
              "ticks": ""
             }
            },
            "marker": {
             "colorbar": {
              "outlinewidth": 0,
              "ticks": ""
             }
            },
            "type": "scatter3d"
           }
          ],
          "scattercarpet": [
           {
            "marker": {
             "colorbar": {
              "outlinewidth": 0,
              "ticks": ""
             }
            },
            "type": "scattercarpet"
           }
          ],
          "scattergeo": [
           {
            "marker": {
             "colorbar": {
              "outlinewidth": 0,
              "ticks": ""
             }
            },
            "type": "scattergeo"
           }
          ],
          "scattergl": [
           {
            "marker": {
             "colorbar": {
              "outlinewidth": 0,
              "ticks": ""
             }
            },
            "type": "scattergl"
           }
          ],
          "scattermap": [
           {
            "marker": {
             "colorbar": {
              "outlinewidth": 0,
              "ticks": ""
             }
            },
            "type": "scattermap"
           }
          ],
          "scattermapbox": [
           {
            "marker": {
             "colorbar": {
              "outlinewidth": 0,
              "ticks": ""
             }
            },
            "type": "scattermapbox"
           }
          ],
          "scatterpolar": [
           {
            "marker": {
             "colorbar": {
              "outlinewidth": 0,
              "ticks": ""
             }
            },
            "type": "scatterpolar"
           }
          ],
          "scatterpolargl": [
           {
            "marker": {
             "colorbar": {
              "outlinewidth": 0,
              "ticks": ""
             }
            },
            "type": "scatterpolargl"
           }
          ],
          "scatterternary": [
           {
            "marker": {
             "colorbar": {
              "outlinewidth": 0,
              "ticks": ""
             }
            },
            "type": "scatterternary"
           }
          ],
          "surface": [
           {
            "colorbar": {
             "outlinewidth": 0,
             "ticks": ""
            },
            "colorscale": [
             [
              0,
              "#0d0887"
             ],
             [
              0.1111111111111111,
              "#46039f"
             ],
             [
              0.2222222222222222,
              "#7201a8"
             ],
             [
              0.3333333333333333,
              "#9c179e"
             ],
             [
              0.4444444444444444,
              "#bd3786"
             ],
             [
              0.5555555555555556,
              "#d8576b"
             ],
             [
              0.6666666666666666,
              "#ed7953"
             ],
             [
              0.7777777777777778,
              "#fb9f3a"
             ],
             [
              0.8888888888888888,
              "#fdca26"
             ],
             [
              1,
              "#f0f921"
             ]
            ],
            "type": "surface"
           }
          ],
          "table": [
           {
            "cells": {
             "fill": {
              "color": "#EBF0F8"
             },
             "line": {
              "color": "white"
             }
            },
            "header": {
             "fill": {
              "color": "#C8D4E3"
             },
             "line": {
              "color": "white"
             }
            },
            "type": "table"
           }
          ]
         },
         "layout": {
          "annotationdefaults": {
           "arrowcolor": "#2a3f5f",
           "arrowhead": 0,
           "arrowwidth": 1
          },
          "autotypenumbers": "strict",
          "coloraxis": {
           "colorbar": {
            "outlinewidth": 0,
            "ticks": ""
           }
          },
          "colorscale": {
           "diverging": [
            [
             0,
             "#8e0152"
            ],
            [
             0.1,
             "#c51b7d"
            ],
            [
             0.2,
             "#de77ae"
            ],
            [
             0.3,
             "#f1b6da"
            ],
            [
             0.4,
             "#fde0ef"
            ],
            [
             0.5,
             "#f7f7f7"
            ],
            [
             0.6,
             "#e6f5d0"
            ],
            [
             0.7,
             "#b8e186"
            ],
            [
             0.8,
             "#7fbc41"
            ],
            [
             0.9,
             "#4d9221"
            ],
            [
             1,
             "#276419"
            ]
           ],
           "sequential": [
            [
             0,
             "#0d0887"
            ],
            [
             0.1111111111111111,
             "#46039f"
            ],
            [
             0.2222222222222222,
             "#7201a8"
            ],
            [
             0.3333333333333333,
             "#9c179e"
            ],
            [
             0.4444444444444444,
             "#bd3786"
            ],
            [
             0.5555555555555556,
             "#d8576b"
            ],
            [
             0.6666666666666666,
             "#ed7953"
            ],
            [
             0.7777777777777778,
             "#fb9f3a"
            ],
            [
             0.8888888888888888,
             "#fdca26"
            ],
            [
             1,
             "#f0f921"
            ]
           ],
           "sequentialminus": [
            [
             0,
             "#0d0887"
            ],
            [
             0.1111111111111111,
             "#46039f"
            ],
            [
             0.2222222222222222,
             "#7201a8"
            ],
            [
             0.3333333333333333,
             "#9c179e"
            ],
            [
             0.4444444444444444,
             "#bd3786"
            ],
            [
             0.5555555555555556,
             "#d8576b"
            ],
            [
             0.6666666666666666,
             "#ed7953"
            ],
            [
             0.7777777777777778,
             "#fb9f3a"
            ],
            [
             0.8888888888888888,
             "#fdca26"
            ],
            [
             1,
             "#f0f921"
            ]
           ]
          },
          "colorway": [
           "#636efa",
           "#EF553B",
           "#00cc96",
           "#ab63fa",
           "#FFA15A",
           "#19d3f3",
           "#FF6692",
           "#B6E880",
           "#FF97FF",
           "#FECB52"
          ],
          "font": {
           "color": "#2a3f5f"
          },
          "geo": {
           "bgcolor": "white",
           "lakecolor": "white",
           "landcolor": "#E5ECF6",
           "showlakes": true,
           "showland": true,
           "subunitcolor": "white"
          },
          "hoverlabel": {
           "align": "left"
          },
          "hovermode": "closest",
          "mapbox": {
           "style": "light"
          },
          "paper_bgcolor": "white",
          "plot_bgcolor": "#E5ECF6",
          "polar": {
           "angularaxis": {
            "gridcolor": "white",
            "linecolor": "white",
            "ticks": ""
           },
           "bgcolor": "#E5ECF6",
           "radialaxis": {
            "gridcolor": "white",
            "linecolor": "white",
            "ticks": ""
           }
          },
          "scene": {
           "xaxis": {
            "backgroundcolor": "#E5ECF6",
            "gridcolor": "white",
            "gridwidth": 2,
            "linecolor": "white",
            "showbackground": true,
            "ticks": "",
            "zerolinecolor": "white"
           },
           "yaxis": {
            "backgroundcolor": "#E5ECF6",
            "gridcolor": "white",
            "gridwidth": 2,
            "linecolor": "white",
            "showbackground": true,
            "ticks": "",
            "zerolinecolor": "white"
           },
           "zaxis": {
            "backgroundcolor": "#E5ECF6",
            "gridcolor": "white",
            "gridwidth": 2,
            "linecolor": "white",
            "showbackground": true,
            "ticks": "",
            "zerolinecolor": "white"
           }
          },
          "shapedefaults": {
           "line": {
            "color": "#2a3f5f"
           }
          },
          "ternary": {
           "aaxis": {
            "gridcolor": "white",
            "linecolor": "white",
            "ticks": ""
           },
           "baxis": {
            "gridcolor": "white",
            "linecolor": "white",
            "ticks": ""
           },
           "bgcolor": "#E5ECF6",
           "caxis": {
            "gridcolor": "white",
            "linecolor": "white",
            "ticks": ""
           }
          },
          "title": {
           "x": 0.05
          },
          "xaxis": {
           "automargin": true,
           "gridcolor": "white",
           "linecolor": "white",
           "ticks": "",
           "title": {
            "standoff": 15
           },
           "zerolinecolor": "white",
           "zerolinewidth": 2
          },
          "yaxis": {
           "automargin": true,
           "gridcolor": "white",
           "linecolor": "white",
           "ticks": "",
           "title": {
            "standoff": 15
           },
           "zerolinecolor": "white",
           "zerolinewidth": 2
          }
         }
        },
        "title": {
         "text": "Median Salaries by Department and Attrition Status"
        },
        "width": 950,
        "xaxis": {
         "anchor": "y",
         "domain": [
          0,
          0.49
         ],
         "title": {
          "text": "Department"
         }
        },
        "xaxis2": {
         "anchor": "y2",
         "domain": [
          0.51,
          1
         ],
         "matches": "x",
         "title": {
          "text": "Department"
         }
        },
        "yaxis": {
         "anchor": "x",
         "domain": [
          0,
          1
         ],
         "range": [
          0,
          79900
         ],
         "tickprefix": "$",
         "title": {
          "text": "Salary"
         },
         "zeroline": true,
         "zerolinecolor": "#28221D",
         "zerolinewidth": 1
        },
        "yaxis2": {
         "anchor": "x2",
         "domain": [
          0,
          1
         ],
         "matches": "y",
         "showticklabels": false,
         "zeroline": true,
         "zerolinecolor": "#28221D",
         "zerolinewidth": 1
        }
       }
      }
     },
     "metadata": {},
     "output_type": "display_data"
    }
   ],
   "source": [
    "plot_df = data.groupby(['Department', 'Attrition', 'Gender'])['MonthlyIncome'].median()\n",
    "plot_df = plot_df.mul(12).rename('Salary').reset_index().sort_values('Salary', ascending=False).sort_values('Gender')\n",
    "fig = px.bar(plot_df, x='Department', y='Salary', color='Gender', text='Salary',  \n",
    "             barmode='group', opacity=0.75, color_discrete_map={'Female': '#214D5C','Male': '#ACBCC2'},\n",
    "             facet_col='Attrition', category_orders={'Attrition': ['Yes', 'No']})\n",
    "fig.update_traces(texttemplate='$%{text:,.0f}', textposition='outside',\n",
    "                  marker_line=dict(width=1, color='#28221D'))\n",
    "fig.update_yaxes(zeroline=True, zerolinewidth=1, zerolinecolor='#28221D')\n",
    "fig.update_layout(title_text='Median Salaries by Department and Attrition Status', font_color='#28221D',\n",
    "                  yaxis=dict(title='Salary',tickprefix='$',range=(0,79900)),width=950,height=500,\n",
    "                  paper_bgcolor='#F4F2F0', plot_bgcolor='#F4F2F0')\n",
    "fig.show()"
   ]
  },
  {
   "cell_type": "code",
   "execution_count": 170,
   "id": "48ebc3d9",
   "metadata": {},
   "outputs": [
    {
     "data": {
      "application/vnd.plotly.v1+json": {
       "config": {
        "plotlyServerURL": "https://plot.ly"
       },
       "data": [
        {
         "hovertemplate": "JobRole=%{x}<br>Salary=%{text}<extra></extra>",
         "legendgroup": "",
         "marker": {
          "color": "#3A5F53",
          "line": {
           "color": "#28221D",
           "width": 1
          },
          "opacity": 0.7,
          "pattern": {
           "shape": ""
          }
         },
         "name": "",
         "orientation": "v",
         "showlegend": false,
         "text": {
          "bdata": "8PDw8CArCUHMzMzMlHwHQfxVnJCSDvZAqBGWe1pf9UBw81eYNUn0QAAAAACg0ehAr169evX74kCkHks8wffiQAAAAAAAxt5A",
          "dtype": "f8"
         },
         "textposition": "outside",
         "texttemplate": "$%{text:,.0f}",
         "type": "bar",
         "x": [
          "Manager",
          "Research Director",
          "Healthcare Representative",
          "Manufacturing Director",
          "Sales Executive",
          "Human Resources",
          "Research Scientist",
          "Laboratory Technician",
          "Sales Representative"
         ],
         "xaxis": "x",
         "y": {
          "bdata": "8PDw8CArCUHMzMzMlHwHQfxVnJCSDvZAqBGWe1pf9UBw81eYNUn0QAAAAACg0ehAr169evX74kCkHks8wffiQAAAAAAAxt5A",
          "dtype": "f8"
         },
         "yaxis": "y"
        }
       ],
       "layout": {
        "barmode": "relative",
        "font": {
         "color": "#28221D"
        },
        "height": 500,
        "legend": {
         "tracegroupgap": 0
        },
        "margin": {
         "t": 60
        },
        "paper_bgcolor": "#F4F2F0",
        "plot_bgcolor": "#F4F2F0",
        "template": {
         "data": {
          "bar": [
           {
            "error_x": {
             "color": "#2a3f5f"
            },
            "error_y": {
             "color": "#2a3f5f"
            },
            "marker": {
             "line": {
              "color": "#E5ECF6",
              "width": 0.5
             },
             "pattern": {
              "fillmode": "overlay",
              "size": 10,
              "solidity": 0.2
             }
            },
            "type": "bar"
           }
          ],
          "barpolar": [
           {
            "marker": {
             "line": {
              "color": "#E5ECF6",
              "width": 0.5
             },
             "pattern": {
              "fillmode": "overlay",
              "size": 10,
              "solidity": 0.2
             }
            },
            "type": "barpolar"
           }
          ],
          "carpet": [
           {
            "aaxis": {
             "endlinecolor": "#2a3f5f",
             "gridcolor": "white",
             "linecolor": "white",
             "minorgridcolor": "white",
             "startlinecolor": "#2a3f5f"
            },
            "baxis": {
             "endlinecolor": "#2a3f5f",
             "gridcolor": "white",
             "linecolor": "white",
             "minorgridcolor": "white",
             "startlinecolor": "#2a3f5f"
            },
            "type": "carpet"
           }
          ],
          "choropleth": [
           {
            "colorbar": {
             "outlinewidth": 0,
             "ticks": ""
            },
            "type": "choropleth"
           }
          ],
          "contour": [
           {
            "colorbar": {
             "outlinewidth": 0,
             "ticks": ""
            },
            "colorscale": [
             [
              0,
              "#0d0887"
             ],
             [
              0.1111111111111111,
              "#46039f"
             ],
             [
              0.2222222222222222,
              "#7201a8"
             ],
             [
              0.3333333333333333,
              "#9c179e"
             ],
             [
              0.4444444444444444,
              "#bd3786"
             ],
             [
              0.5555555555555556,
              "#d8576b"
             ],
             [
              0.6666666666666666,
              "#ed7953"
             ],
             [
              0.7777777777777778,
              "#fb9f3a"
             ],
             [
              0.8888888888888888,
              "#fdca26"
             ],
             [
              1,
              "#f0f921"
             ]
            ],
            "type": "contour"
           }
          ],
          "contourcarpet": [
           {
            "colorbar": {
             "outlinewidth": 0,
             "ticks": ""
            },
            "type": "contourcarpet"
           }
          ],
          "heatmap": [
           {
            "colorbar": {
             "outlinewidth": 0,
             "ticks": ""
            },
            "colorscale": [
             [
              0,
              "#0d0887"
             ],
             [
              0.1111111111111111,
              "#46039f"
             ],
             [
              0.2222222222222222,
              "#7201a8"
             ],
             [
              0.3333333333333333,
              "#9c179e"
             ],
             [
              0.4444444444444444,
              "#bd3786"
             ],
             [
              0.5555555555555556,
              "#d8576b"
             ],
             [
              0.6666666666666666,
              "#ed7953"
             ],
             [
              0.7777777777777778,
              "#fb9f3a"
             ],
             [
              0.8888888888888888,
              "#fdca26"
             ],
             [
              1,
              "#f0f921"
             ]
            ],
            "type": "heatmap"
           }
          ],
          "histogram": [
           {
            "marker": {
             "pattern": {
              "fillmode": "overlay",
              "size": 10,
              "solidity": 0.2
             }
            },
            "type": "histogram"
           }
          ],
          "histogram2d": [
           {
            "colorbar": {
             "outlinewidth": 0,
             "ticks": ""
            },
            "colorscale": [
             [
              0,
              "#0d0887"
             ],
             [
              0.1111111111111111,
              "#46039f"
             ],
             [
              0.2222222222222222,
              "#7201a8"
             ],
             [
              0.3333333333333333,
              "#9c179e"
             ],
             [
              0.4444444444444444,
              "#bd3786"
             ],
             [
              0.5555555555555556,
              "#d8576b"
             ],
             [
              0.6666666666666666,
              "#ed7953"
             ],
             [
              0.7777777777777778,
              "#fb9f3a"
             ],
             [
              0.8888888888888888,
              "#fdca26"
             ],
             [
              1,
              "#f0f921"
             ]
            ],
            "type": "histogram2d"
           }
          ],
          "histogram2dcontour": [
           {
            "colorbar": {
             "outlinewidth": 0,
             "ticks": ""
            },
            "colorscale": [
             [
              0,
              "#0d0887"
             ],
             [
              0.1111111111111111,
              "#46039f"
             ],
             [
              0.2222222222222222,
              "#7201a8"
             ],
             [
              0.3333333333333333,
              "#9c179e"
             ],
             [
              0.4444444444444444,
              "#bd3786"
             ],
             [
              0.5555555555555556,
              "#d8576b"
             ],
             [
              0.6666666666666666,
              "#ed7953"
             ],
             [
              0.7777777777777778,
              "#fb9f3a"
             ],
             [
              0.8888888888888888,
              "#fdca26"
             ],
             [
              1,
              "#f0f921"
             ]
            ],
            "type": "histogram2dcontour"
           }
          ],
          "mesh3d": [
           {
            "colorbar": {
             "outlinewidth": 0,
             "ticks": ""
            },
            "type": "mesh3d"
           }
          ],
          "parcoords": [
           {
            "line": {
             "colorbar": {
              "outlinewidth": 0,
              "ticks": ""
             }
            },
            "type": "parcoords"
           }
          ],
          "pie": [
           {
            "automargin": true,
            "type": "pie"
           }
          ],
          "scatter": [
           {
            "fillpattern": {
             "fillmode": "overlay",
             "size": 10,
             "solidity": 0.2
            },
            "type": "scatter"
           }
          ],
          "scatter3d": [
           {
            "line": {
             "colorbar": {
              "outlinewidth": 0,
              "ticks": ""
             }
            },
            "marker": {
             "colorbar": {
              "outlinewidth": 0,
              "ticks": ""
             }
            },
            "type": "scatter3d"
           }
          ],
          "scattercarpet": [
           {
            "marker": {
             "colorbar": {
              "outlinewidth": 0,
              "ticks": ""
             }
            },
            "type": "scattercarpet"
           }
          ],
          "scattergeo": [
           {
            "marker": {
             "colorbar": {
              "outlinewidth": 0,
              "ticks": ""
             }
            },
            "type": "scattergeo"
           }
          ],
          "scattergl": [
           {
            "marker": {
             "colorbar": {
              "outlinewidth": 0,
              "ticks": ""
             }
            },
            "type": "scattergl"
           }
          ],
          "scattermap": [
           {
            "marker": {
             "colorbar": {
              "outlinewidth": 0,
              "ticks": ""
             }
            },
            "type": "scattermap"
           }
          ],
          "scattermapbox": [
           {
            "marker": {
             "colorbar": {
              "outlinewidth": 0,
              "ticks": ""
             }
            },
            "type": "scattermapbox"
           }
          ],
          "scatterpolar": [
           {
            "marker": {
             "colorbar": {
              "outlinewidth": 0,
              "ticks": ""
             }
            },
            "type": "scatterpolar"
           }
          ],
          "scatterpolargl": [
           {
            "marker": {
             "colorbar": {
              "outlinewidth": 0,
              "ticks": ""
             }
            },
            "type": "scatterpolargl"
           }
          ],
          "scatterternary": [
           {
            "marker": {
             "colorbar": {
              "outlinewidth": 0,
              "ticks": ""
             }
            },
            "type": "scatterternary"
           }
          ],
          "surface": [
           {
            "colorbar": {
             "outlinewidth": 0,
             "ticks": ""
            },
            "colorscale": [
             [
              0,
              "#0d0887"
             ],
             [
              0.1111111111111111,
              "#46039f"
             ],
             [
              0.2222222222222222,
              "#7201a8"
             ],
             [
              0.3333333333333333,
              "#9c179e"
             ],
             [
              0.4444444444444444,
              "#bd3786"
             ],
             [
              0.5555555555555556,
              "#d8576b"
             ],
             [
              0.6666666666666666,
              "#ed7953"
             ],
             [
              0.7777777777777778,
              "#fb9f3a"
             ],
             [
              0.8888888888888888,
              "#fdca26"
             ],
             [
              1,
              "#f0f921"
             ]
            ],
            "type": "surface"
           }
          ],
          "table": [
           {
            "cells": {
             "fill": {
              "color": "#EBF0F8"
             },
             "line": {
              "color": "white"
             }
            },
            "header": {
             "fill": {
              "color": "#C8D4E3"
             },
             "line": {
              "color": "white"
             }
            },
            "type": "table"
           }
          ]
         },
         "layout": {
          "annotationdefaults": {
           "arrowcolor": "#2a3f5f",
           "arrowhead": 0,
           "arrowwidth": 1
          },
          "autotypenumbers": "strict",
          "coloraxis": {
           "colorbar": {
            "outlinewidth": 0,
            "ticks": ""
           }
          },
          "colorscale": {
           "diverging": [
            [
             0,
             "#8e0152"
            ],
            [
             0.1,
             "#c51b7d"
            ],
            [
             0.2,
             "#de77ae"
            ],
            [
             0.3,
             "#f1b6da"
            ],
            [
             0.4,
             "#fde0ef"
            ],
            [
             0.5,
             "#f7f7f7"
            ],
            [
             0.6,
             "#e6f5d0"
            ],
            [
             0.7,
             "#b8e186"
            ],
            [
             0.8,
             "#7fbc41"
            ],
            [
             0.9,
             "#4d9221"
            ],
            [
             1,
             "#276419"
            ]
           ],
           "sequential": [
            [
             0,
             "#0d0887"
            ],
            [
             0.1111111111111111,
             "#46039f"
            ],
            [
             0.2222222222222222,
             "#7201a8"
            ],
            [
             0.3333333333333333,
             "#9c179e"
            ],
            [
             0.4444444444444444,
             "#bd3786"
            ],
            [
             0.5555555555555556,
             "#d8576b"
            ],
            [
             0.6666666666666666,
             "#ed7953"
            ],
            [
             0.7777777777777778,
             "#fb9f3a"
            ],
            [
             0.8888888888888888,
             "#fdca26"
            ],
            [
             1,
             "#f0f921"
            ]
           ],
           "sequentialminus": [
            [
             0,
             "#0d0887"
            ],
            [
             0.1111111111111111,
             "#46039f"
            ],
            [
             0.2222222222222222,
             "#7201a8"
            ],
            [
             0.3333333333333333,
             "#9c179e"
            ],
            [
             0.4444444444444444,
             "#bd3786"
            ],
            [
             0.5555555555555556,
             "#d8576b"
            ],
            [
             0.6666666666666666,
             "#ed7953"
            ],
            [
             0.7777777777777778,
             "#fb9f3a"
            ],
            [
             0.8888888888888888,
             "#fdca26"
            ],
            [
             1,
             "#f0f921"
            ]
           ]
          },
          "colorway": [
           "#636efa",
           "#EF553B",
           "#00cc96",
           "#ab63fa",
           "#FFA15A",
           "#19d3f3",
           "#FF6692",
           "#B6E880",
           "#FF97FF",
           "#FECB52"
          ],
          "font": {
           "color": "#2a3f5f"
          },
          "geo": {
           "bgcolor": "white",
           "lakecolor": "white",
           "landcolor": "#E5ECF6",
           "showlakes": true,
           "showland": true,
           "subunitcolor": "white"
          },
          "hoverlabel": {
           "align": "left"
          },
          "hovermode": "closest",
          "mapbox": {
           "style": "light"
          },
          "paper_bgcolor": "white",
          "plot_bgcolor": "#E5ECF6",
          "polar": {
           "angularaxis": {
            "gridcolor": "white",
            "linecolor": "white",
            "ticks": ""
           },
           "bgcolor": "#E5ECF6",
           "radialaxis": {
            "gridcolor": "white",
            "linecolor": "white",
            "ticks": ""
           }
          },
          "scene": {
           "xaxis": {
            "backgroundcolor": "#E5ECF6",
            "gridcolor": "white",
            "gridwidth": 2,
            "linecolor": "white",
            "showbackground": true,
            "ticks": "",
            "zerolinecolor": "white"
           },
           "yaxis": {
            "backgroundcolor": "#E5ECF6",
            "gridcolor": "white",
            "gridwidth": 2,
            "linecolor": "white",
            "showbackground": true,
            "ticks": "",
            "zerolinecolor": "white"
           },
           "zaxis": {
            "backgroundcolor": "#E5ECF6",
            "gridcolor": "white",
            "gridwidth": 2,
            "linecolor": "white",
            "showbackground": true,
            "ticks": "",
            "zerolinecolor": "white"
           }
          },
          "shapedefaults": {
           "line": {
            "color": "#2a3f5f"
           }
          },
          "ternary": {
           "aaxis": {
            "gridcolor": "white",
            "linecolor": "white",
            "ticks": ""
           },
           "baxis": {
            "gridcolor": "white",
            "linecolor": "white",
            "ticks": ""
           },
           "bgcolor": "#E5ECF6",
           "caxis": {
            "gridcolor": "white",
            "linecolor": "white",
            "ticks": ""
           }
          },
          "title": {
           "x": 0.05
          },
          "xaxis": {
           "automargin": true,
           "gridcolor": "white",
           "linecolor": "white",
           "ticks": "",
           "title": {
            "standoff": 15
           },
           "zerolinecolor": "white",
           "zerolinewidth": 2
          },
          "yaxis": {
           "automargin": true,
           "gridcolor": "white",
           "linecolor": "white",
           "ticks": "",
           "title": {
            "standoff": 15
           },
           "zerolinecolor": "white",
           "zerolinewidth": 2
          }
         }
        },
        "title": {
         "text": "Average Salaries by Job Role"
        },
        "xaxis": {
         "anchor": "y",
         "domain": [
          0,
          1
         ],
         "title": {
          "text": ""
         }
        },
        "yaxis": {
         "anchor": "x",
         "domain": [
          0,
          1
         ],
         "tickprefix": "$",
         "title": {
          "text": "Salary"
         },
         "zeroline": true,
         "zerolinecolor": "#28221D",
         "zerolinewidth": 1
        }
       }
      }
     },
     "metadata": {},
     "output_type": "display_data"
    }
   ],
   "source": [
    "plot_df = data.groupby('JobRole')['MonthlyIncome'].mean()\n",
    "plot_df = plot_df.mul(12).rename('Salary').reset_index().sort_values('Salary', ascending=False)\n",
    "fig = px.bar(plot_df, x='JobRole', y='Salary', text='Salary', opacity=0.7)\n",
    "fig.update_traces(texttemplate='$%{text:,.0f}', textposition='outside',\n",
    "                  marker_line=dict(width=1, color='#28221D'), marker_color='#3A5F53')\n",
    "fig.update_yaxes(zeroline=True, zerolinewidth=1, zerolinecolor='#28221D')\n",
    "fig.update_layout(title_text='Average Salaries by Job Role', font_color='#28221D',\n",
    "                  yaxis=dict(title='Salary',tickprefix='$'), height=500,\n",
    "                  xaxis_title='', paper_bgcolor='#F4F2F0', plot_bgcolor='#F4F2F0')\n",
    "fig.show()"
   ]
  },
  {
   "cell_type": "code",
   "execution_count": 171,
   "id": "d546f70f",
   "metadata": {},
   "outputs": [
    {
     "data": {
      "application/vnd.plotly.v1+json": {
       "config": {
        "plotlyServerURL": "https://plot.ly"
       },
       "data": [
        {
         "bingroup": "x",
         "histnorm": "density",
         "hovertemplate": "Attrition=No<br>MonthlyIncome=%{x}<br>density=%{y}<extra></extra>",
         "legendgroup": "No",
         "marker": {
          "color": "#CDBBA7",
          "opacity": 0.8,
          "pattern": {
           "shape": ""
          }
         },
         "name": "No",
         "orientation": "v",
         "showlegend": true,
         "type": "histogram",
         "x": {
          "bdata": "kwm2EYwu8EESGl8NthsTEnwmRAmNRkEYMAggCFcSFgsbD+NCBxjFRfNK8xRLBlYz5gnaHh8SUwlVDu0X7RrKNpkQBxA1EjQh2A0FTSIV9ydECbINF0kcTTMUnBqxGnNFsA7bBwYpuwiJKIcz+w1WE8Qa3QoMKGwOzxP/Cd8ZihH2SmoIXBEQKYdNuhFlSQk1OwvHBLILvCAlRxkK/D5ZR9UJWjTtB+kYoBJZDrUUlxIVEVwNKQn7GdZAWgwPIb01bhWkJD0IYyopKvoEhw8kE29CyD+gPuwr9BiVGWwMtRIiExsG7xH+DsMPEAisIeEn8QdkCeIohhNPCPQjn0FAD4kW8Q+/M1gYqCruDw4ntAtbFWQp6Bd0Eh8aMgo1FYYL3gwtDp0MQhARQxIIrA1cDQ8WshYzCLQLJkCrEj4kjDn1TLBDNB/6DZIkuCC3CoAYTAl/R00PgxDGMYsT9yqeNZAQYBWYLJQo8ykbBDQQGREOFfEYBU7NGtcHzCALECVLBQscBKwIZR2BCIAu/SW5D/JEJgmAKssYCDRdKnwKlTZDECEO3xbXCXESxhDpJRwJDjVGEhQb0wjrHK4PGQk4Ke8KZBhFGqtMJRttCDEO+wrbS3AV90PeCHwNJETXE8sTyB6PHiIWYBwEOstC+RFfEb4pfguaIjsM500LC0gJ3xQiKEYRshlEEQ0O0ggjFLs04xBSFusJYxb4CZ4SfRHZC9Mcdgq9EaMNtQq7EQYjiUp8DMBF5xATEBAO8giYQngIrkhKGWQUjwrAE84QAUUmGkwenwjPG0wO4CoNElIodyIwDeUmcw8HEi4qdEGjCxwL9UHNKLAQ2wzBD0AzaBOBDOcKYx5+GhYIqkxEKrccOUTnHdIJJCLZFd5AniHgCLdBLg8SF7QSvBAOCPEldQtlECgLZgo+D6YS0UzAS/QKKRZkGRZDqRNVCB8UBBVbFXMWsghoFrIabxUXFfAJig+nH7cZJDQpEYMV1A2pM4AP8BiPGnEZwyXPKNYahgkfECAKghaiFTENNx+YNPwHRwznD4Egoz/TRZEKYBGSCoIhOQh4CygS5A5LCSsWMhsiFOoFqz1MEh0VBw6lJcYaXSijEtlK3xPASaIYCxTcHedLTAmECZoNKxOwNbYoljMMEN0IZgkVCw4TAjXqEzga6iL+FwcnCwqWC9Am/y7JDrkPoQvRBzkW+QryEvwZ3xSFIocJHhWASy8NtS5WHVAXUQvPJQkQVBQqC4sTCxr9FDMLtCGgJvoK+QtgCLkVrwtkCrRMHTTeCiIVyRT7C1gR2Ae5IYkPpA6LCC0WsxhXCgkSWBEXK+wQaQRdEDwzXBUBFYsMdBI3EtQUIRGJFl0IaUrwDO0r/gqfRIIKDBMfEscT4g9PDVgULQxIH+0WFAq9DbAOYjtvFgkfYA9MHooWshOIFjQQwyj9C8pMDRNWFJ1MGQj2Fn4JER3lD/gINUBXFGEVjCdUCOAQ8yW9EOkSBAlLOKsbVAq6FScZ+BiDS5UiLSD+F3MSnxpmEMQmDQhsFYJMnAs/CfcPIiSSCb0XkwnYB68U1TNhCGgTHCZ5TYolSBl2FN8MgChyEy4L4xq6FUMPdBkeGZUNmiBpDXUN5Bt2Do0X0w2lMqEP8QjvC15KzgqzFp4KrhQ9CKQJmxEbFHQLlhgdQEBB/CkTPGQ+iAkbCmQVXhWBFVsQfxLDRBJEuhoWEY423Qc5Fd8KqhsBCagK4xSWEZ4LGSQxEaceQhPHHnELNSXsB4Mqkg/RDQoKXRvqDHsM+BQOCTQRnx+gC5AXWAtJCUwg5xt4PvYsRhjmF48PBB0hHXEOyxgBJykSQgkyCqUIYxrjJf0ZPB2ICn0agBJWF7BD1grYMJkRsBQFE28tzRg/QgoZ1RIcFjUKAhhaFB0vKhaNJREbHRawBI8+bBWHCmYurEIKJokUfEdKEhMLSEvvIo8WvxN7HX4RbBSuCYw2lwk3C3wNihRJC25MyxfMEatAXgohH1kUsSnIILEZnDOSE/1KqgjOEcoSqxFBFRooEgkECpZCJjfcIBsIOBCfLjEIEwlGC3lGpga/NGERahWHEdIIE0HvCUgT1SqFFOgOpBDJEpkIKxScSWEK/EYAKYwZrAmMC8QI0hCKGe00hxPOS3gNADhlEH0QEApTFtoLMDb6B6wdqhHOE2gOUUwYCb4ItQrnDpQayhBpCHUYkRTLBUkR7A2YQSkImRnlFQwToAo+ChoXNBehInwN3RAdQ0gKPBLKMP0mGiGEDLQkFzXnCB9OpjUoCPQX8gveCxIN7iEADGcqkwnWTQYK3yS3CJkKyySOE6EQxAl/HEslIkkCCVlKxApiEWoOLAkHCVkP8AjVKCYj3xCZL3Epyxj5EJ4MZhkWCGVKigzbCSM1uDTOFfQZpxnoQYAIgRSgD9wu5RX9GNU0FgnlCoUR6UjuDHEWQAlDCIUSJxXKESsTsETISoMSVB/qCqMKTRNbD3xKwD49TNsIuAggSw4XVSLuHukKvyGBCIwMcREADPcM7EshCiITExv9H5EZJAm6Kn4LIhlQD0UXXwtrNQJL+CPFRegHxA7ACf5HZBmUEPkOQRmGCp4IHRFcF94K9hBtFdAMDApVCk0MA0riCN0a5hMSGF8IlkrnRK4XjAqpGmwUcEEIKKstygnvEAwR3gfOC/kIhhAmCV8r9RiSCcQJlBqMFlIKuBTKNXwO/hflE70U8QtbDaIQox0AFZ8HJQmCGBYiqw+xDegZJBjYEdhBARTQBLUeUhH5CboVwzedC3UUlyp6CTYlPC40CW8UXwtTC3wZWgxhEPwNhQraHQoU3gy6GV0LjA2dErkR/Av/CeQJbgrlCFQUBEYsE6AQZQoKCcUPYA1DPGgPLRezP/8JqgaZDqsS7ScIMgdD2i6rDzkYMxF3C70p/CZiECYJ0wkCC6cSSBO+GAI24gw3FAkqtiqxDpAY3QibGsEt2RTFCUMdHynTQIIiyRWPCmEVYAlgJi8ZLkylCoAYTwgYR2EXKjwvFjsK80AUC/sSgiVUFWEOJg78JZIIMAiLCNIQmxq0Kp0TBhT8Ji0IKwv/J9MP0RSnC+UQXByYKW8j0ArQHRMKw0FtEkwY3gslLTg/phBIEVYY2BDuHLYZqw61M70zYDXFEmMZ+Q85TBsXrSGVDEgSJxK4H2kXoAq8D3cN8xIDCwEFZgk0SckR1R2uD20jThUjD/VKWSKcJh0VPRDFSt456yiSNGATlyv0HMkdFBX9BxIY2iS5FfYZcCe9ILIYwBukOSMI1QpjCo8igwrlKS0e",
          "dtype": "i2"
         },
         "xaxis": "x",
         "yaxis": "y"
        },
        {
         "hovertemplate": "Attrition=No<br>MonthlyIncome=%{x}<extra></extra>",
         "legendgroup": "No",
         "marker": {
          "color": "#CDBBA7"
         },
         "name": "No",
         "notched": true,
         "showlegend": false,
         "type": "box",
         "x": {
          "bdata": "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",
          "dtype": "i2"
         },
         "xaxis": "x2",
         "yaxis": "y2"
        },
        {
         "bingroup": "x",
         "histnorm": "density",
         "hovertemplate": "Attrition=Yes<br>MonthlyIncome=%{x}<br>density=%{y}<extra></extra>",
         "legendgroup": "Yes",
         "marker": {
          "color": "#C02B34",
          "opacity": 0.8,
          "pattern": {
           "shape": ""
          }
         },
         "name": "Yes",
         "orientation": "v",
         "showlegend": true,
         "type": "histogram",
         "x": {
          "bdata": "QwQZCJALkhziFLMmmimTJR8JLwtwFmYqhwmACf4GYxNPDyoIcQ2MC3UQHBgFFfUIPA2oCSYIPwl7ChsK3iKLBvEVzxE5BGQIaBD1CEga7AcDCU8NIwlZTG4LSCi6F7MS0Ch+JmQJJgk7CCULeAvhEeIUjBrTCb41qByoCDIKICBwB8cKiS9+Cv0YeBIkChQNCQnxA74Q/iCGIzYPQA8TE7UKCw0qH1YHJAlBCmMSiEleBEYL8QeJEEMH4QuiCEkJaw6TTZ8OVAhkCREJ5geKM68J8ApxKVUonQtJCG0J6wpMCfwHhQpLENoKKAp2CT4JKBScEW4l8ijOFBIinQmIBRMJQQbeJg8J+gfiEi5LHhG3CoVNaROpEuYdzBRgJv4IOgmVD1UJhAmTCpIO5RFAJ3YIQBWXDUIonQ0hBkkuaAlZDEUJxBaMBV8KcQUKCOMIXgl3ChUJhQlOBOEfdCFEDMgK9xKECE8a9hcRGtcdiDITBqAoYQooGhwXtRa5J/IlHgztCO0ETwWBHbwQWgm/DyMYggwGEuEKLwl/NfIJBAoYJyo1UA0wEbgUcCc+Dk0TiA12FPQP4gdHCDoJAQpkDBoI9xFdC34IIwuLJOwYtgqcCooOFh2FFmkX",
          "dtype": "i2"
         },
         "xaxis": "x",
         "yaxis": "y"
        },
        {
         "hovertemplate": "Attrition=Yes<br>MonthlyIncome=%{x}<extra></extra>",
         "legendgroup": "Yes",
         "marker": {
          "color": "#C02B34"
         },
         "name": "Yes",
         "notched": true,
         "showlegend": false,
         "type": "box",
         "x": {
          "bdata": "QwQZCJALkhziFLMmmimTJR8JLwtwFmYqhwmACf4GYxNPDyoIcQ2MC3UQHBgFFfUIPA2oCSYIPwl7ChsK3iKLBvEVzxE5BGQIaBD1CEga7AcDCU8NIwlZTG4LSCi6F7MS0Ch+JmQJJgk7CCULeAvhEeIUjBrTCb41qByoCDIKICBwB8cKiS9+Cv0YeBIkChQNCQnxA74Q/iCGIzYPQA8TE7UKCw0qH1YHJAlBCmMSiEleBEYL8QeJEEMH4QuiCEkJaw6TTZ8OVAhkCREJ5geKM68J8ApxKVUonQtJCG0J6wpMCfwHhQpLENoKKAp2CT4JKBScEW4l8ijOFBIinQmIBRMJQQbeJg8J+gfiEi5LHhG3CoVNaROpEuYdzBRgJv4IOgmVD1UJhAmTCpIO5RFAJ3YIQBWXDUIonQ0hBkkuaAlZDEUJxBaMBV8KcQUKCOMIXgl3ChUJhQlOBOEfdCFEDMgK9xKECE8a9hcRGtcdiDITBqAoYQooGhwXtRa5J/IlHgztCO0ETwWBHbwQWgm/DyMYggwGEuEKLwl/NfIJBAoYJyo1UA0wEbgUcCc+Dk0TiA12FPQP4gdHCDoJAQpkDBoI9xFdC34IIwuLJOwYtgqcCooOFh2FFmkX",
          "dtype": "i2"
         },
         "xaxis": "x2",
         "yaxis": "y2"
        }
       ],
       "layout": {
        "barmode": "overlay",
        "font": {
         "color": "#28221D"
        },
        "legend": {
         "title": {
          "text": "Attrition"
         },
         "tracegroupgap": 0,
         "traceorder": "reversed"
        },
        "margin": {
         "t": 60
        },
        "paper_bgcolor": "#F4F2F0",
        "plot_bgcolor": "#F4F2F0",
        "template": {
         "data": {
          "bar": [
           {
            "error_x": {
             "color": "#2a3f5f"
            },
            "error_y": {
             "color": "#2a3f5f"
            },
            "marker": {
             "line": {
              "color": "#E5ECF6",
              "width": 0.5
             },
             "pattern": {
              "fillmode": "overlay",
              "size": 10,
              "solidity": 0.2
             }
            },
            "type": "bar"
           }
          ],
          "barpolar": [
           {
            "marker": {
             "line": {
              "color": "#E5ECF6",
              "width": 0.5
             },
             "pattern": {
              "fillmode": "overlay",
              "size": 10,
              "solidity": 0.2
             }
            },
            "type": "barpolar"
           }
          ],
          "carpet": [
           {
            "aaxis": {
             "endlinecolor": "#2a3f5f",
             "gridcolor": "white",
             "linecolor": "white",
             "minorgridcolor": "white",
             "startlinecolor": "#2a3f5f"
            },
            "baxis": {
             "endlinecolor": "#2a3f5f",
             "gridcolor": "white",
             "linecolor": "white",
             "minorgridcolor": "white",
             "startlinecolor": "#2a3f5f"
            },
            "type": "carpet"
           }
          ],
          "choropleth": [
           {
            "colorbar": {
             "outlinewidth": 0,
             "ticks": ""
            },
            "type": "choropleth"
           }
          ],
          "contour": [
           {
            "colorbar": {
             "outlinewidth": 0,
             "ticks": ""
            },
            "colorscale": [
             [
              0,
              "#0d0887"
             ],
             [
              0.1111111111111111,
              "#46039f"
             ],
             [
              0.2222222222222222,
              "#7201a8"
             ],
             [
              0.3333333333333333,
              "#9c179e"
             ],
             [
              0.4444444444444444,
              "#bd3786"
             ],
             [
              0.5555555555555556,
              "#d8576b"
             ],
             [
              0.6666666666666666,
              "#ed7953"
             ],
             [
              0.7777777777777778,
              "#fb9f3a"
             ],
             [
              0.8888888888888888,
              "#fdca26"
             ],
             [
              1,
              "#f0f921"
             ]
            ],
            "type": "contour"
           }
          ],
          "contourcarpet": [
           {
            "colorbar": {
             "outlinewidth": 0,
             "ticks": ""
            },
            "type": "contourcarpet"
           }
          ],
          "heatmap": [
           {
            "colorbar": {
             "outlinewidth": 0,
             "ticks": ""
            },
            "colorscale": [
             [
              0,
              "#0d0887"
             ],
             [
              0.1111111111111111,
              "#46039f"
             ],
             [
              0.2222222222222222,
              "#7201a8"
             ],
             [
              0.3333333333333333,
              "#9c179e"
             ],
             [
              0.4444444444444444,
              "#bd3786"
             ],
             [
              0.5555555555555556,
              "#d8576b"
             ],
             [
              0.6666666666666666,
              "#ed7953"
             ],
             [
              0.7777777777777778,
              "#fb9f3a"
             ],
             [
              0.8888888888888888,
              "#fdca26"
             ],
             [
              1,
              "#f0f921"
             ]
            ],
            "type": "heatmap"
           }
          ],
          "histogram": [
           {
            "marker": {
             "pattern": {
              "fillmode": "overlay",
              "size": 10,
              "solidity": 0.2
             }
            },
            "type": "histogram"
           }
          ],
          "histogram2d": [
           {
            "colorbar": {
             "outlinewidth": 0,
             "ticks": ""
            },
            "colorscale": [
             [
              0,
              "#0d0887"
             ],
             [
              0.1111111111111111,
              "#46039f"
             ],
             [
              0.2222222222222222,
              "#7201a8"
             ],
             [
              0.3333333333333333,
              "#9c179e"
             ],
             [
              0.4444444444444444,
              "#bd3786"
             ],
             [
              0.5555555555555556,
              "#d8576b"
             ],
             [
              0.6666666666666666,
              "#ed7953"
             ],
             [
              0.7777777777777778,
              "#fb9f3a"
             ],
             [
              0.8888888888888888,
              "#fdca26"
             ],
             [
              1,
              "#f0f921"
             ]
            ],
            "type": "histogram2d"
           }
          ],
          "histogram2dcontour": [
           {
            "colorbar": {
             "outlinewidth": 0,
             "ticks": ""
            },
            "colorscale": [
             [
              0,
              "#0d0887"
             ],
             [
              0.1111111111111111,
              "#46039f"
             ],
             [
              0.2222222222222222,
              "#7201a8"
             ],
             [
              0.3333333333333333,
              "#9c179e"
             ],
             [
              0.4444444444444444,
              "#bd3786"
             ],
             [
              0.5555555555555556,
              "#d8576b"
             ],
             [
              0.6666666666666666,
              "#ed7953"
             ],
             [
              0.7777777777777778,
              "#fb9f3a"
             ],
             [
              0.8888888888888888,
              "#fdca26"
             ],
             [
              1,
              "#f0f921"
             ]
            ],
            "type": "histogram2dcontour"
           }
          ],
          "mesh3d": [
           {
            "colorbar": {
             "outlinewidth": 0,
             "ticks": ""
            },
            "type": "mesh3d"
           }
          ],
          "parcoords": [
           {
            "line": {
             "colorbar": {
              "outlinewidth": 0,
              "ticks": ""
             }
            },
            "type": "parcoords"
           }
          ],
          "pie": [
           {
            "automargin": true,
            "type": "pie"
           }
          ],
          "scatter": [
           {
            "fillpattern": {
             "fillmode": "overlay",
             "size": 10,
             "solidity": 0.2
            },
            "type": "scatter"
           }
          ],
          "scatter3d": [
           {
            "line": {
             "colorbar": {
              "outlinewidth": 0,
              "ticks": ""
             }
            },
            "marker": {
             "colorbar": {
              "outlinewidth": 0,
              "ticks": ""
             }
            },
            "type": "scatter3d"
           }
          ],
          "scattercarpet": [
           {
            "marker": {
             "colorbar": {
              "outlinewidth": 0,
              "ticks": ""
             }
            },
            "type": "scattercarpet"
           }
          ],
          "scattergeo": [
           {
            "marker": {
             "colorbar": {
              "outlinewidth": 0,
              "ticks": ""
             }
            },
            "type": "scattergeo"
           }
          ],
          "scattergl": [
           {
            "marker": {
             "colorbar": {
              "outlinewidth": 0,
              "ticks": ""
             }
            },
            "type": "scattergl"
           }
          ],
          "scattermap": [
           {
            "marker": {
             "colorbar": {
              "outlinewidth": 0,
              "ticks": ""
             }
            },
            "type": "scattermap"
           }
          ],
          "scattermapbox": [
           {
            "marker": {
             "colorbar": {
              "outlinewidth": 0,
              "ticks": ""
             }
            },
            "type": "scattermapbox"
           }
          ],
          "scatterpolar": [
           {
            "marker": {
             "colorbar": {
              "outlinewidth": 0,
              "ticks": ""
             }
            },
            "type": "scatterpolar"
           }
          ],
          "scatterpolargl": [
           {
            "marker": {
             "colorbar": {
              "outlinewidth": 0,
              "ticks": ""
             }
            },
            "type": "scatterpolargl"
           }
          ],
          "scatterternary": [
           {
            "marker": {
             "colorbar": {
              "outlinewidth": 0,
              "ticks": ""
             }
            },
            "type": "scatterternary"
           }
          ],
          "surface": [
           {
            "colorbar": {
             "outlinewidth": 0,
             "ticks": ""
            },
            "colorscale": [
             [
              0,
              "#0d0887"
             ],
             [
              0.1111111111111111,
              "#46039f"
             ],
             [
              0.2222222222222222,
              "#7201a8"
             ],
             [
              0.3333333333333333,
              "#9c179e"
             ],
             [
              0.4444444444444444,
              "#bd3786"
             ],
             [
              0.5555555555555556,
              "#d8576b"
             ],
             [
              0.6666666666666666,
              "#ed7953"
             ],
             [
              0.7777777777777778,
              "#fb9f3a"
             ],
             [
              0.8888888888888888,
              "#fdca26"
             ],
             [
              1,
              "#f0f921"
             ]
            ],
            "type": "surface"
           }
          ],
          "table": [
           {
            "cells": {
             "fill": {
              "color": "#EBF0F8"
             },
             "line": {
              "color": "white"
             }
            },
            "header": {
             "fill": {
              "color": "#C8D4E3"
             },
             "line": {
              "color": "white"
             }
            },
            "type": "table"
           }
          ]
         },
         "layout": {
          "annotationdefaults": {
           "arrowcolor": "#2a3f5f",
           "arrowhead": 0,
           "arrowwidth": 1
          },
          "autotypenumbers": "strict",
          "coloraxis": {
           "colorbar": {
            "outlinewidth": 0,
            "ticks": ""
           }
          },
          "colorscale": {
           "diverging": [
            [
             0,
             "#8e0152"
            ],
            [
             0.1,
             "#c51b7d"
            ],
            [
             0.2,
             "#de77ae"
            ],
            [
             0.3,
             "#f1b6da"
            ],
            [
             0.4,
             "#fde0ef"
            ],
            [
             0.5,
             "#f7f7f7"
            ],
            [
             0.6,
             "#e6f5d0"
            ],
            [
             0.7,
             "#b8e186"
            ],
            [
             0.8,
             "#7fbc41"
            ],
            [
             0.9,
             "#4d9221"
            ],
            [
             1,
             "#276419"
            ]
           ],
           "sequential": [
            [
             0,
             "#0d0887"
            ],
            [
             0.1111111111111111,
             "#46039f"
            ],
            [
             0.2222222222222222,
             "#7201a8"
            ],
            [
             0.3333333333333333,
             "#9c179e"
            ],
            [
             0.4444444444444444,
             "#bd3786"
            ],
            [
             0.5555555555555556,
             "#d8576b"
            ],
            [
             0.6666666666666666,
             "#ed7953"
            ],
            [
             0.7777777777777778,
             "#fb9f3a"
            ],
            [
             0.8888888888888888,
             "#fdca26"
            ],
            [
             1,
             "#f0f921"
            ]
           ],
           "sequentialminus": [
            [
             0,
             "#0d0887"
            ],
            [
             0.1111111111111111,
             "#46039f"
            ],
            [
             0.2222222222222222,
             "#7201a8"
            ],
            [
             0.3333333333333333,
             "#9c179e"
            ],
            [
             0.4444444444444444,
             "#bd3786"
            ],
            [
             0.5555555555555556,
             "#d8576b"
            ],
            [
             0.6666666666666666,
             "#ed7953"
            ],
            [
             0.7777777777777778,
             "#fb9f3a"
            ],
            [
             0.8888888888888888,
             "#fdca26"
            ],
            [
             1,
             "#f0f921"
            ]
           ]
          },
          "colorway": [
           "#636efa",
           "#EF553B",
           "#00cc96",
           "#ab63fa",
           "#FFA15A",
           "#19d3f3",
           "#FF6692",
           "#B6E880",
           "#FF97FF",
           "#FECB52"
          ],
          "font": {
           "color": "#2a3f5f"
          },
          "geo": {
           "bgcolor": "white",
           "lakecolor": "white",
           "landcolor": "#E5ECF6",
           "showlakes": true,
           "showland": true,
           "subunitcolor": "white"
          },
          "hoverlabel": {
           "align": "left"
          },
          "hovermode": "closest",
          "mapbox": {
           "style": "light"
          },
          "paper_bgcolor": "white",
          "plot_bgcolor": "#E5ECF6",
          "polar": {
           "angularaxis": {
            "gridcolor": "white",
            "linecolor": "white",
            "ticks": ""
           },
           "bgcolor": "#E5ECF6",
           "radialaxis": {
            "gridcolor": "white",
            "linecolor": "white",
            "ticks": ""
           }
          },
          "scene": {
           "xaxis": {
            "backgroundcolor": "#E5ECF6",
            "gridcolor": "white",
            "gridwidth": 2,
            "linecolor": "white",
            "showbackground": true,
            "ticks": "",
            "zerolinecolor": "white"
           },
           "yaxis": {
            "backgroundcolor": "#E5ECF6",
            "gridcolor": "white",
            "gridwidth": 2,
            "linecolor": "white",
            "showbackground": true,
            "ticks": "",
            "zerolinecolor": "white"
           },
           "zaxis": {
            "backgroundcolor": "#E5ECF6",
            "gridcolor": "white",
            "gridwidth": 2,
            "linecolor": "white",
            "showbackground": true,
            "ticks": "",
            "zerolinecolor": "white"
           }
          },
          "shapedefaults": {
           "line": {
            "color": "#2a3f5f"
           }
          },
          "ternary": {
           "aaxis": {
            "gridcolor": "white",
            "linecolor": "white",
            "ticks": ""
           },
           "baxis": {
            "gridcolor": "white",
            "linecolor": "white",
            "ticks": ""
           },
           "bgcolor": "#E5ECF6",
           "caxis": {
            "gridcolor": "white",
            "linecolor": "white",
            "ticks": ""
           }
          },
          "title": {
           "x": 0.05
          },
          "xaxis": {
           "automargin": true,
           "gridcolor": "white",
           "linecolor": "white",
           "ticks": "",
           "title": {
            "standoff": 15
           },
           "zerolinecolor": "white",
           "zerolinewidth": 2
          },
          "yaxis": {
           "automargin": true,
           "gridcolor": "white",
           "linecolor": "white",
           "ticks": "",
           "title": {
            "standoff": 15
           },
           "zerolinecolor": "white",
           "zerolinewidth": 2
          }
         }
        },
        "title": {
         "text": "Distribution of Monthly Income by Attrition Status"
        },
        "xaxis": {
         "anchor": "y",
         "domain": [
          0,
          1
         ],
         "title": {
          "text": "Monthly Income, $"
         }
        },
        "xaxis2": {
         "anchor": "y2",
         "domain": [
          0,
          1
         ],
         "matches": "x",
         "showgrid": true,
         "showticklabels": false
        },
        "yaxis": {
         "anchor": "x",
         "domain": [
          0,
          0.7326
         ],
         "title": {
          "text": "Density"
         }
        },
        "yaxis2": {
         "anchor": "x2",
         "domain": [
          0.7426,
          1
         ],
         "matches": "y2",
         "showgrid": false,
         "showline": false,
         "showticklabels": false,
         "ticks": ""
        }
       }
      }
     },
     "metadata": {},
     "output_type": "display_data"
    }
   ],
   "source": [
    "plot_df=data.sort_values(by=\"Attrition\")\n",
    "fig=px.histogram(plot_df, x='MonthlyIncome', color='Attrition', \n",
    "                 opacity=0.8, histnorm='density', barmode='overlay', marginal='box',\n",
    "                 color_discrete_map={'Yes': '#C02B34','No': '#CDBBA7'})\n",
    "fig.update_layout(title_text='Distribution of Monthly Income by Attrition Status',\n",
    "                  xaxis_title='Monthly Income, $', yaxis_title='Density',font_color='#28221D',\n",
    "                  paper_bgcolor='#F4F2F0', plot_bgcolor='#F4F2F0', legend_traceorder='reversed')\n",
    "fig.show()"
   ]
  },
  {
   "cell_type": "code",
   "execution_count": 172,
   "id": "d8bce430",
   "metadata": {},
   "outputs": [
    {
     "data": {
      "application/vnd.plotly.v1+json": {
       "config": {
        "plotlyServerURL": "https://plot.ly"
       },
       "data": [
        {
         "line": {
          "color": "#214D5C"
         },
         "name": "Female",
         "notched": true,
         "type": "box",
         "x": {
          "bdata": "AQMCAwMDAgMCAwMCAgMEAwMDAwICAwMDAgIDAwIDAwMCAQIDAwMCAwIDAwMDAwMCAgIDAwMDBAQDAgMDAwMCAwMDBAQEAwMDAwMCAwMDAwIDAwIDAwMDAgMDAwMEAgIDBAMDAgIDAwMDAgMCAwEDAwMCBAMDAwMDAwIDAgMDAgQCAgMDAgMDAwEEAwMDAwMEAwIDAwQDAgMDAwMBAwMDAgMBAwMBAgQDAgMBBAMCBAMDAwMDAwMDAgMDAwQCAwMCAwIEAwIBBAMCAwQDAwIDAwQDAwIDAwMDBAIDAQIBBAMCAwMCAwMCAwMCAwMDAwMCAwMDAwIDAwQDAwICAwIDAwIDAgMDAwIDAwMEAgICBAIDAwMDAQICAwMBBAMDAwMCAwMDAwMDAwMDAwICAwMDAwMDAQMDAwMDAwIEAwMDAgMDAwIDAgMDAgQDAwMDAwIDBAIDAwIBAgIBAgMDAwICAwIDAwECAwMDBAMCAQMEAwMDAgIDAwEDAwQDBAMDAgMDAgMDAwMEAwMDAgQDAwMEAgIDAgQDAwMEAgQCAgEDAwMBAwMCAwMDAwQEAgQEAwIEAwMDAwIBBAMDAgMDAwMEAQEDAwMDAwMCAwQDAwMCAwIDAwICBAMDAwEDBAECAwMDAwMDAwMDAwMCAwMDAwIDAwMDAgMDAQIEAwICAwIEAgIDAgMDAwMDAgQDAwQDAwMCAwMCAQQDAgMDAwMDAgMDAwICAgMDAwICAwMDAwIDAwMDAgMEAwQDAwEDAwMDAwIDAwMDAwMCAwMDAQID",
          "dtype": "i1"
         },
         "y": {
          "bdata": "aRddC24KYRD8JkM8qw/aLpZKTw8IKANKVQreB1sNABUlCasPWUxOFT0QkjSuD2YJNEnVHXAnpDlhFd4LSBHRFFkU7TSHE24LyRKcSfxGNws8HbBDmRFvLQomEwtjE0AJSCinGYMS+CPPEX4LDhdoEN0QSAqEDMsF5RUmIxINtwjWTcsk7iEVCY4ToRDVKPAIWQ8HCUQMYhHECllKpjXnCEkRkRTXHWkI/SZhChc1KBqhIjQXPgruHlUijAw9TMA+kwpbD7gIXwtQD7oqkRkiEyEK6EEjNdwu5RX9GEMI7gzpSOUK1TSwBCoWHS9mLpcJjDauCWwUvxOPFu8idhSJFAUTASfmF0YY5xtMIHg+QgnYMIASfgj9GaUIIwt8DYoUnApIE+8JE0GkEMQI2gtTFhAKeA2KGdIQqhGHEWERnDOxGatAzBHLF25MyhKrEYIMLwl5RkYL8gncIAQKGijOE8QObyPeJtMPw0G1M6sOtQo4P5sa+xJDHR8p00BgJi8ZRguLCBQL+Q87Cio8YRcTCrIYIwi9IL4QYwq5FbwPJxKtIeERyRHJHfQclyuoCMEttR7KNf4X9RgmCZsa5RMBFCQY/RgMEe8Q0AxtFd4KXBcdEQwKlBBkGU0MDwnMFHBBbBTKCa4XEhjdGuII+QnmHasSPgmzP/8Jtio3FAI2vSnmB/wNbxTwCp0Lwze6FbkRVBTkCZ0S/AeFCt4MSxDaCkkJDglkGDgprg/rHBQbDjUcCd8WRRolG20I+REiFoozZAl8Dd4IcBX7CkMQVAgZETQQ8ymUKJgsKAp2CYsTxjGDEJ41qRIFToVNCDTLGLcKgComCfJEuQ9lHawICxDXB74pfguaIhMJiAUHEjANdyJMDpwRJhrOENkV0gnnHUQqFgjbDCAgYxZSFqgcuzTTCUYR4hQLC+dNOwx9EUoZrkh4CJhCwEWiCLsRtwqGEwwoxBqHM4koBinbB0MHsA6cGjMU/D4ZCrILiElBCmVJuhFcEUQJ9yciFSofFgtXEgsNMAiNRuNCExK2G18NEhrwQYwufCb+CPNKBxDtGu0XGCcfEuYJVjNLBvMU7QfpGOEKBhIfGlsVvzPxD4kWWgmfQYYLLQ6BHbBD9Uw+JE8FqxImQO0EDxYSCBFDQhDeDD4OFh09CLYKWQ6gEoUW9xHxB/4O7xG1EmwMoD64IN5AniH0D/Mlfgn2FicZGgi5Jz8JDQhmEJ8a/hcfEv4K8AxpSokWNxKLDA0TIQbKTMMoNBCyE4oWTB5gDwkfsA69DUgfHUDVM98KORWONhYREkRkFRsKiAlkPvgUewzqDF8KcQvHHp4LlhFAQXQZ3wx2FBwmaBOECHUNyAobFJsRdCGkCT0IpTKNF3YOXglcFTwzMQ3PKMMlZAjeInEZXShgEcYapSUHDh0V6gUiFDIbSwk5CKkz1A3AS5IcphIoCykWtBISF3ULZBkWQykRtxmnH4oPaBZ+JgQVVQjTRYAJLwsLGlQUUQtpBBcrWBGzGC0Wiwi1Lg4TFQuWM7YosDUrE9wdCxQCNTgahSLfFPwZ8hLRB6ELyQ7/LpYL",
          "dtype": "i2"
         }
        },
        {
         "line": {
          "color": "#91ABB4"
         },
         "name": "Male",
         "notched": true,
         "type": "box",
         "x": {
          "bdata": "AwMDAgMDAgMCAwMCAgMDAwMDAwQDBAIDAwIDAwMDAwMCAwICBAMDAwICAwMDAwQEAwIDAwMCAwMDAwIBAgMEAgQDAwQDAwMDAwQCBAMCAgMDAwMDAQIEAwIDAwEBAwMCAwEBAQIDAwICAwQCAgMCAwMEAwIDAQMDBAQDAgEDAgMBAgQDAgMDAwIDAgEEAQMCAwMDAwMDAwMDAgQBAwMBAwMDAwMDAgIEBAICAwIDAwEDAwMDAgMCAwMDAwICAgMDAwMBAwIDAwIDAgMDAwICAwIDAwIDAwIDAwMDAwMCAwMDAwMDAwMDAgMDAwMCAwIDAwMDAwMDAgMBAwQCAwEDAwQEAwMDAwMCAwMDBAIEBAIDAwMDAQMDAwMDAwQDAwMEAwEDBAICAwMDBAMDAgMDAQQDAwMDAwQDAwMDAwIDAwMDAgMCAwMDAgMDAwQCAwMDAQQCAwMDAwMDAgMDAgMDAwQDAwIDAwICAgMDBAECAgIDAgICAwMDAQIDAwMDBAIDAwMDAwMDBAEDAwICAQMDBAIDAwIDAwMEAwMDAQICAwQEAwMEAwMDAgQDAwIDAQMDAgMDAgQDAwMDAgEDAgMDAwICAwQDBAIDAgMDAwMDAwICBAIDAwMDAwIDAwMDAwQCAwMBAwMCAwIEAwMDAgMBAgQDAwMDBAMEAwIDAwMDAQMDAwMDAwIDAwIEAwMDAwIDAgMEAgIDAwQDAwMDAgMCAgICBAMDAgQDAwMDAgMDBAIDAwIDAwMCAwMDAgMDAwMCBAMDBAIDAgMDAgMCAwQDBAICAwECAgQDBAMBBAMDAwMCAgQCAwMCAgIDAgQDAgIDBAMCAQMCAwQBBAMBAwMDAwMDAwEEAwMDAwMCAgEDAwMDAwIBAwIDAwMEAwMDAwICAwIBAwMCAwMDAwMDAwMCAwMDAgIBAwMDAwMDBAQCAwIDAwMCAwMDAwMEBAMCAwQDAwMCAwEEAgQDBAMDAgECAwMDAQIDAwQDAwMDAwMDAgMCAwMDAwMDAwICAwMEAwMCAwMCAQMCAQMCBAMDAwMDBAQCAgMDAwIDAwIDBAIDAwMDAwIDAwMDAQQDAwIDAwIDBAMEAwMBAgQDAgICAgMCAgMDAwIDAwMDAwMCBAICAwIDAwMCAwMEAwIDAwIDAwICAgQCAQIDAwMDBAMDAwMDAwIE",
          "dtype": "i1"
         },
         "y": {
          "bdata": "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",
          "dtype": "i2"
         }
        }
       ],
       "layout": {
        "boxmode": "group",
        "font": {
         "color": "#28221D"
        },
        "paper_bgcolor": "#F4F2F0",
        "plot_bgcolor": "#F4F2F0",
        "template": {
         "data": {
          "bar": [
           {
            "error_x": {
             "color": "#2a3f5f"
            },
            "error_y": {
             "color": "#2a3f5f"
            },
            "marker": {
             "line": {
              "color": "#E5ECF6",
              "width": 0.5
             },
             "pattern": {
              "fillmode": "overlay",
              "size": 10,
              "solidity": 0.2
             }
            },
            "type": "bar"
           }
          ],
          "barpolar": [
           {
            "marker": {
             "line": {
              "color": "#E5ECF6",
              "width": 0.5
             },
             "pattern": {
              "fillmode": "overlay",
              "size": 10,
              "solidity": 0.2
             }
            },
            "type": "barpolar"
           }
          ],
          "carpet": [
           {
            "aaxis": {
             "endlinecolor": "#2a3f5f",
             "gridcolor": "white",
             "linecolor": "white",
             "minorgridcolor": "white",
             "startlinecolor": "#2a3f5f"
            },
            "baxis": {
             "endlinecolor": "#2a3f5f",
             "gridcolor": "white",
             "linecolor": "white",
             "minorgridcolor": "white",
             "startlinecolor": "#2a3f5f"
            },
            "type": "carpet"
           }
          ],
          "choropleth": [
           {
            "colorbar": {
             "outlinewidth": 0,
             "ticks": ""
            },
            "type": "choropleth"
           }
          ],
          "contour": [
           {
            "colorbar": {
             "outlinewidth": 0,
             "ticks": ""
            },
            "colorscale": [
             [
              0,
              "#0d0887"
             ],
             [
              0.1111111111111111,
              "#46039f"
             ],
             [
              0.2222222222222222,
              "#7201a8"
             ],
             [
              0.3333333333333333,
              "#9c179e"
             ],
             [
              0.4444444444444444,
              "#bd3786"
             ],
             [
              0.5555555555555556,
              "#d8576b"
             ],
             [
              0.6666666666666666,
              "#ed7953"
             ],
             [
              0.7777777777777778,
              "#fb9f3a"
             ],
             [
              0.8888888888888888,
              "#fdca26"
             ],
             [
              1,
              "#f0f921"
             ]
            ],
            "type": "contour"
           }
          ],
          "contourcarpet": [
           {
            "colorbar": {
             "outlinewidth": 0,
             "ticks": ""
            },
            "type": "contourcarpet"
           }
          ],
          "heatmap": [
           {
            "colorbar": {
             "outlinewidth": 0,
             "ticks": ""
            },
            "colorscale": [
             [
              0,
              "#0d0887"
             ],
             [
              0.1111111111111111,
              "#46039f"
             ],
             [
              0.2222222222222222,
              "#7201a8"
             ],
             [
              0.3333333333333333,
              "#9c179e"
             ],
             [
              0.4444444444444444,
              "#bd3786"
             ],
             [
              0.5555555555555556,
              "#d8576b"
             ],
             [
              0.6666666666666666,
              "#ed7953"
             ],
             [
              0.7777777777777778,
              "#fb9f3a"
             ],
             [
              0.8888888888888888,
              "#fdca26"
             ],
             [
              1,
              "#f0f921"
             ]
            ],
            "type": "heatmap"
           }
          ],
          "histogram": [
           {
            "marker": {
             "pattern": {
              "fillmode": "overlay",
              "size": 10,
              "solidity": 0.2
             }
            },
            "type": "histogram"
           }
          ],
          "histogram2d": [
           {
            "colorbar": {
             "outlinewidth": 0,
             "ticks": ""
            },
            "colorscale": [
             [
              0,
              "#0d0887"
             ],
             [
              0.1111111111111111,
              "#46039f"
             ],
             [
              0.2222222222222222,
              "#7201a8"
             ],
             [
              0.3333333333333333,
              "#9c179e"
             ],
             [
              0.4444444444444444,
              "#bd3786"
             ],
             [
              0.5555555555555556,
              "#d8576b"
             ],
             [
              0.6666666666666666,
              "#ed7953"
             ],
             [
              0.7777777777777778,
              "#fb9f3a"
             ],
             [
              0.8888888888888888,
              "#fdca26"
             ],
             [
              1,
              "#f0f921"
             ]
            ],
            "type": "histogram2d"
           }
          ],
          "histogram2dcontour": [
           {
            "colorbar": {
             "outlinewidth": 0,
             "ticks": ""
            },
            "colorscale": [
             [
              0,
              "#0d0887"
             ],
             [
              0.1111111111111111,
              "#46039f"
             ],
             [
              0.2222222222222222,
              "#7201a8"
             ],
             [
              0.3333333333333333,
              "#9c179e"
             ],
             [
              0.4444444444444444,
              "#bd3786"
             ],
             [
              0.5555555555555556,
              "#d8576b"
             ],
             [
              0.6666666666666666,
              "#ed7953"
             ],
             [
              0.7777777777777778,
              "#fb9f3a"
             ],
             [
              0.8888888888888888,
              "#fdca26"
             ],
             [
              1,
              "#f0f921"
             ]
            ],
            "type": "histogram2dcontour"
           }
          ],
          "mesh3d": [
           {
            "colorbar": {
             "outlinewidth": 0,
             "ticks": ""
            },
            "type": "mesh3d"
           }
          ],
          "parcoords": [
           {
            "line": {
             "colorbar": {
              "outlinewidth": 0,
              "ticks": ""
             }
            },
            "type": "parcoords"
           }
          ],
          "pie": [
           {
            "automargin": true,
            "type": "pie"
           }
          ],
          "scatter": [
           {
            "fillpattern": {
             "fillmode": "overlay",
             "size": 10,
             "solidity": 0.2
            },
            "type": "scatter"
           }
          ],
          "scatter3d": [
           {
            "line": {
             "colorbar": {
              "outlinewidth": 0,
              "ticks": ""
             }
            },
            "marker": {
             "colorbar": {
              "outlinewidth": 0,
              "ticks": ""
             }
            },
            "type": "scatter3d"
           }
          ],
          "scattercarpet": [
           {
            "marker": {
             "colorbar": {
              "outlinewidth": 0,
              "ticks": ""
             }
            },
            "type": "scattercarpet"
           }
          ],
          "scattergeo": [
           {
            "marker": {
             "colorbar": {
              "outlinewidth": 0,
              "ticks": ""
             }
            },
            "type": "scattergeo"
           }
          ],
          "scattergl": [
           {
            "marker": {
             "colorbar": {
              "outlinewidth": 0,
              "ticks": ""
             }
            },
            "type": "scattergl"
           }
          ],
          "scattermap": [
           {
            "marker": {
             "colorbar": {
              "outlinewidth": 0,
              "ticks": ""
             }
            },
            "type": "scattermap"
           }
          ],
          "scattermapbox": [
           {
            "marker": {
             "colorbar": {
              "outlinewidth": 0,
              "ticks": ""
             }
            },
            "type": "scattermapbox"
           }
          ],
          "scatterpolar": [
           {
            "marker": {
             "colorbar": {
              "outlinewidth": 0,
              "ticks": ""
             }
            },
            "type": "scatterpolar"
           }
          ],
          "scatterpolargl": [
           {
            "marker": {
             "colorbar": {
              "outlinewidth": 0,
              "ticks": ""
             }
            },
            "type": "scatterpolargl"
           }
          ],
          "scatterternary": [
           {
            "marker": {
             "colorbar": {
              "outlinewidth": 0,
              "ticks": ""
             }
            },
            "type": "scatterternary"
           }
          ],
          "surface": [
           {
            "colorbar": {
             "outlinewidth": 0,
             "ticks": ""
            },
            "colorscale": [
             [
              0,
              "#0d0887"
             ],
             [
              0.1111111111111111,
              "#46039f"
             ],
             [
              0.2222222222222222,
              "#7201a8"
             ],
             [
              0.3333333333333333,
              "#9c179e"
             ],
             [
              0.4444444444444444,
              "#bd3786"
             ],
             [
              0.5555555555555556,
              "#d8576b"
             ],
             [
              0.6666666666666666,
              "#ed7953"
             ],
             [
              0.7777777777777778,
              "#fb9f3a"
             ],
             [
              0.8888888888888888,
              "#fdca26"
             ],
             [
              1,
              "#f0f921"
             ]
            ],
            "type": "surface"
           }
          ],
          "table": [
           {
            "cells": {
             "fill": {
              "color": "#EBF0F8"
             },
             "line": {
              "color": "white"
             }
            },
            "header": {
             "fill": {
              "color": "#C8D4E3"
             },
             "line": {
              "color": "white"
             }
            },
            "type": "table"
           }
          ]
         },
         "layout": {
          "annotationdefaults": {
           "arrowcolor": "#2a3f5f",
           "arrowhead": 0,
           "arrowwidth": 1
          },
          "autotypenumbers": "strict",
          "coloraxis": {
           "colorbar": {
            "outlinewidth": 0,
            "ticks": ""
           }
          },
          "colorscale": {
           "diverging": [
            [
             0,
             "#8e0152"
            ],
            [
             0.1,
             "#c51b7d"
            ],
            [
             0.2,
             "#de77ae"
            ],
            [
             0.3,
             "#f1b6da"
            ],
            [
             0.4,
             "#fde0ef"
            ],
            [
             0.5,
             "#f7f7f7"
            ],
            [
             0.6,
             "#e6f5d0"
            ],
            [
             0.7,
             "#b8e186"
            ],
            [
             0.8,
             "#7fbc41"
            ],
            [
             0.9,
             "#4d9221"
            ],
            [
             1,
             "#276419"
            ]
           ],
           "sequential": [
            [
             0,
             "#0d0887"
            ],
            [
             0.1111111111111111,
             "#46039f"
            ],
            [
             0.2222222222222222,
             "#7201a8"
            ],
            [
             0.3333333333333333,
             "#9c179e"
            ],
            [
             0.4444444444444444,
             "#bd3786"
            ],
            [
             0.5555555555555556,
             "#d8576b"
            ],
            [
             0.6666666666666666,
             "#ed7953"
            ],
            [
             0.7777777777777778,
             "#fb9f3a"
            ],
            [
             0.8888888888888888,
             "#fdca26"
            ],
            [
             1,
             "#f0f921"
            ]
           ],
           "sequentialminus": [
            [
             0,
             "#0d0887"
            ],
            [
             0.1111111111111111,
             "#46039f"
            ],
            [
             0.2222222222222222,
             "#7201a8"
            ],
            [
             0.3333333333333333,
             "#9c179e"
            ],
            [
             0.4444444444444444,
             "#bd3786"
            ],
            [
             0.5555555555555556,
             "#d8576b"
            ],
            [
             0.6666666666666666,
             "#ed7953"
            ],
            [
             0.7777777777777778,
             "#fb9f3a"
            ],
            [
             0.8888888888888888,
             "#fdca26"
            ],
            [
             1,
             "#f0f921"
            ]
           ]
          },
          "colorway": [
           "#636efa",
           "#EF553B",
           "#00cc96",
           "#ab63fa",
           "#FFA15A",
           "#19d3f3",
           "#FF6692",
           "#B6E880",
           "#FF97FF",
           "#FECB52"
          ],
          "font": {
           "color": "#2a3f5f"
          },
          "geo": {
           "bgcolor": "white",
           "lakecolor": "white",
           "landcolor": "#E5ECF6",
           "showlakes": true,
           "showland": true,
           "subunitcolor": "white"
          },
          "hoverlabel": {
           "align": "left"
          },
          "hovermode": "closest",
          "mapbox": {
           "style": "light"
          },
          "paper_bgcolor": "white",
          "plot_bgcolor": "#E5ECF6",
          "polar": {
           "angularaxis": {
            "gridcolor": "white",
            "linecolor": "white",
            "ticks": ""
           },
           "bgcolor": "#E5ECF6",
           "radialaxis": {
            "gridcolor": "white",
            "linecolor": "white",
            "ticks": ""
           }
          },
          "scene": {
           "xaxis": {
            "backgroundcolor": "#E5ECF6",
            "gridcolor": "white",
            "gridwidth": 2,
            "linecolor": "white",
            "showbackground": true,
            "ticks": "",
            "zerolinecolor": "white"
           },
           "yaxis": {
            "backgroundcolor": "#E5ECF6",
            "gridcolor": "white",
            "gridwidth": 2,
            "linecolor": "white",
            "showbackground": true,
            "ticks": "",
            "zerolinecolor": "white"
           },
           "zaxis": {
            "backgroundcolor": "#E5ECF6",
            "gridcolor": "white",
            "gridwidth": 2,
            "linecolor": "white",
            "showbackground": true,
            "ticks": "",
            "zerolinecolor": "white"
           }
          },
          "shapedefaults": {
           "line": {
            "color": "#2a3f5f"
           }
          },
          "ternary": {
           "aaxis": {
            "gridcolor": "white",
            "linecolor": "white",
            "ticks": ""
           },
           "baxis": {
            "gridcolor": "white",
            "linecolor": "white",
            "ticks": ""
           },
           "bgcolor": "#E5ECF6",
           "caxis": {
            "gridcolor": "white",
            "linecolor": "white",
            "ticks": ""
           }
          },
          "title": {
           "x": 0.05
          },
          "xaxis": {
           "automargin": true,
           "gridcolor": "white",
           "linecolor": "white",
           "ticks": "",
           "title": {
            "standoff": 15
           },
           "zerolinecolor": "white",
           "zerolinewidth": 2
          },
          "yaxis": {
           "automargin": true,
           "gridcolor": "white",
           "linecolor": "white",
           "ticks": "",
           "title": {
            "standoff": 15
           },
           "zerolinecolor": "white",
           "zerolinewidth": 2
          }
         }
        },
        "title": {
         "text": "Distribution of Monthly Income by Work Life Balance"
        },
        "xaxis": {
         "tickmode": "array",
         "ticktext": [
          "Poor",
          "Fair",
          "Good",
          "Excellent"
         ],
         "tickvals": [
          1,
          2,
          3,
          4
         ],
         "title": {
          "text": "Work Life Balance"
         }
        }
       }
      }
     },
     "metadata": {},
     "output_type": "display_data"
    }
   ],
   "source": [
    "fig=go.Figure()\n",
    "colors=['#214D5C','#91ABB4']\n",
    "for i, j in enumerate(data['Gender'].unique()):\n",
    "    df_plot=data[data['Gender']==j]\n",
    "    fig.add_trace(go.Box(x=df_plot['WorkLifeBalance'], y=df_plot['MonthlyIncome'],\n",
    "                         notched=True, line=dict(color=colors[i]),name=j))\n",
    "fig.update_layout(title='Distribution of Monthly Income by Work Life Balance',\n",
    "                  xaxis_title='Work Life Balance', boxmode='group', font_color='#28221D',\n",
    "                  xaxis = dict(tickmode = 'array', tickvals = [1, 2, 3, 4],\n",
    "                               ticktext = ['Poor', 'Fair', 'Good', 'Excellent']),\n",
    "                  paper_bgcolor='#F4F2F0', plot_bgcolor='#F4F2F0')\n",
    "fig.show()"
   ]
  },
  {
   "cell_type": "code",
   "execution_count": 173,
   "id": "f8cc79b5",
   "metadata": {},
   "outputs": [
    {
     "name": "stdout",
     "output_type": "stream",
     "text": [
      "[1 2 3 4 5]\n"
     ]
    }
   ],
   "source": [
    "print(plot_df['JobLevel'].unique())"
   ]
  },
  {
   "cell_type": "code",
   "execution_count": 174,
   "id": "c8a9a74f",
   "metadata": {},
   "outputs": [
    {
     "data": {
      "application/vnd.plotly.v1+json": {
       "config": {
        "plotlyServerURL": "https://plot.ly"
       },
       "data": [
        {
         "hovertemplate": "JobLevel=Entry level<br>TotalWorkingYears=%{x}<br>MonthlyIncome=%{marker.size}<extra></extra>",
         "legendgroup": "Entry level",
         "marker": {
          "color": "#73AF8E",
          "size": {
           "bdata": "KghdC4wN/AtuCoUKeglfC2UK7AfiDHcLaA9PDdAEkAtPD8AJngj1CFUKewreB1sNnwclCfUIzgvdCHENrg+SCDwNjwrFCd4LKwsSCRsIGQiMC24LSQs3C9YKEws1CmMTQAmLBtsJgxJ+C2gQfA1ICoQMoAq+CMsFEg23CBMJ6AeZCgYKkwneC/ILFQkoCKEQxAlOBPAIWQ8HCUQMag7ECucIKQjsDecOGAlpCGEKCgg+CoEI6QpVCYwM2wiECZMKWw+SDrgIXwtQDyQJIQqjCpcN6gqdDYoMFgieDEMIWQxFCe4M5QoWCYwFaA6wBNUShwqXCa4JiA1HCI8PWAuICkIJfgilCDIKIwt8DWEKnAqZCOgO7wmsCR4MxAjtCNoLEArSCKoIvw9eCoIMLwmmBkYLMQjyCQQKBAqGENAKUA2nCy0INg+rDrUKVgckCWAJpQpPCDAIRgvxByYOiwgUCzsKEwrhC3cN1QojCIMKYwr9B/EDFA0BBQMLoApIEpUMIw+oCHwOUgrHCsQJJgn5CPELfgqxDaIQDBHQDN4KHREMCvkOQQaGCg8JjArKCR4RXwjiCPkJmQ4+CaoGYA3/CbEOSBMCC9MJJgnmBwoJ/A1aDFMLNAnwCp0L5QjrCuQJ/wlMCfwHhQreDNoKSQlkCQ4J2AfvChkJ0whGEhwJbQlxEtcJSQidCyEObQivCREJZAl8Dd4I+wpUCHwKnw4bBCgKdgmTCU0PTAm3CiYJuQ+BCPoHrAgcBAUL1wd+CxMJiAWdCXMPMA0NEp8Iaw5JCQkJJAqjC9IJFgjnCoEM2wwcC48KcAeeEjIK6wnjENIIDQ7TCUQRSAkLCzsM+Al9EdkLeAt4CCUL8ggQDjsIfAyiCLUKdgq3Ct0K+w27CNsHQwewDmwO/wnVCRkKsgvHBF4EOwtBCmoIsg0bDxYLCw0gCDAIRAlAD18N/gg6CdgNVQ5TCeYJSwbtB+EKMgq0C1oJQA+GCy0OnQz6DU8FtAvtBDMIXA0wEawNEgjeDE8IPg49CIoOtgpaDCkJXA1ZDvoEXQtkCWQM8QcQCP4OAQobBmwMOgniB/QPBAnpElQI+Ah+CVQKkwmSCRoIPwmcCw0IcxIZCAwTggpoCf4K8AxdCIsM4g8tDCEGYA+wDr0NFAp2CN8K3QcbCogJqAp7DJUP6gxfCnEFCgrRDewHcQvjCEITMRGeCxMGAQlpDZUNQw8uC98MaBNhCIQIdQ3ICnQLpAk9CJ4KhQnOCvEI0w13CnYOXgkmCUcM/AcxDSAKhglkCJEKBw7qBYwLHwlLCeQOeAs5CJIKgA/0CocJphJmCigLOQSoCQ4IdQsDCRsKig/wCUMEsgiACaMSLwtgCPkL+gozCz8JKguvC2kEVwqLCKQOiQ/YB/sL3gpkCi8NFQtmCd0Img2ECUwJ/gazEiMJhwn5CtEHoQvJDpYL",
           "dtype": "i2"
          },
          "sizemode": "area",
          "sizeref": 49.9975,
          "symbol": "circle"
         },
         "mode": "markers",
         "name": "Entry level",
         "showlegend": true,
         "type": "scattergl",
         "x": {
          "bdata": "BwgGCAwBBgUDBgcBBgoACAoHCgYGAwIGAQEBCAECBAUCBgEFBgMKBwEBAgEGBwoHBQADEggKCQUIBgcBCQYCBgUBDQgGAQ0TBAECBwkEBQgHBwgFBAgIBwcHDQQGBwgNBgQHAhEGCgEGBQUQBQMREwUFAgQABAAGAwkEBQcEBAQIAwoDAREDAQYFBgEHAgMSCAgEBggGAwEDCQYBDAYOCAQIBAgIAAEDBgEHBgEGBgEICAUDAwEKAwUBCgEFCgQUBAoJAQcFBQIGCgIFBQoGBgMHAQEBCgcFCAEGBAgABgYKBgoIBgoEBwYDCAUKBwEICAMCAQMKBggBAQYNDQgFARQQAQEDAwcEAwUIBAcDBQABBAQDCBIDCgYGAQEIBRICARIGCgMEBwEFAQYLAgMGCAcDAAYCBAYKBgEIAgEKAQcCBgYBBgUFBgEHAgIPDAkKAQMMBwUCAQEBCAIFBAIICgUCAgYKAwoGBwcFAAUDBAgIBQwIBwgBCgEGEQYHBQcHCwgHAgcIBgwBBQEEAQYICAEECw8HDAQIAgYHBQMBCgEBCgQIAQEEBgYKBwMACAYFBgoCDxEEAggFBxMBBwgOCgMGBQkBAwoGBgoDCgMGBgIGCQEMBgcFCgEFAQYOBQcNBwYGAwACBAYLCgcDCAEBCBMBAQELAQUFBAgBBggKAQUEBQgGFAcBBQYMBwEDDAUEBggDEAYCAQQOBAgUBAUF",
          "dtype": "i1"
         },
         "xaxis": "x",
         "y": {
          "bdata": "KghdC4wN/AtuCoUKeglfC2UK7AfiDHcLaA9PDdAEkAtPD8AJngj1CFUKewreB1sNnwclCfUIzgvdCHENrg+SCDwNjwrFCd4LKwsSCRsIGQiMC24LSQs3C9YKEws1CmMTQAmLBtsJgxJ+C2gQfA1ICoQMoAq+CMsFEg23CBMJ6AeZCgYKkwneC/ILFQkoCKEQxAlOBPAIWQ8HCUQMag7ECucIKQjsDecOGAlpCGEKCgg+CoEI6QpVCYwM2wiECZMKWw+SDrgIXwtQDyQJIQqjCpcN6gqdDYoMFgieDEMIWQxFCe4M5QoWCYwFaA6wBNUShwqXCa4JiA1HCI8PWAuICkIJfgilCDIKIwt8DWEKnAqZCOgO7wmsCR4MxAjtCNoLEArSCKoIvw9eCoIMLwmmBkYLMQjyCQQKBAqGENAKUA2nCy0INg+rDrUKVgckCWAJpQpPCDAIRgvxByYOiwgUCzsKEwrhC3cN1QojCIMKYwr9B/EDFA0BBQMLoApIEpUMIw+oCHwOUgrHCsQJJgn5CPELfgqxDaIQDBHQDN4KHREMCvkOQQaGCg8JjArKCR4RXwjiCPkJmQ4+CaoGYA3/CbEOSBMCC9MJJgnmBwoJ/A1aDFMLNAnwCp0L5QjrCuQJ/wlMCfwHhQreDNoKSQlkCQ4J2AfvChkJ0whGEhwJbQlxEtcJSQidCyEObQivCREJZAl8Dd4I+wpUCHwKnw4bBCgKdgmTCU0PTAm3CiYJuQ+BCPoHrAgcBAUL1wd+CxMJiAWdCXMPMA0NEp8Iaw5JCQkJJAqjC9IJFgjnCoEM2wwcC48KcAeeEjIK6wnjENIIDQ7TCUQRSAkLCzsM+Al9EdkLeAt4CCUL8ggQDjsIfAyiCLUKdgq3Ct0K+w27CNsHQwewDmwO/wnVCRkKsgvHBF4EOwtBCmoIsg0bDxYLCw0gCDAIRAlAD18N/gg6CdgNVQ5TCeYJSwbtB+EKMgq0C1oJQA+GCy0OnQz6DU8FtAvtBDMIXA0wEawNEgjeDE8IPg49CIoOtgpaDCkJXA1ZDvoEXQtkCWQM8QcQCP4OAQobBmwMOgniB/QPBAnpElQI+Ah+CVQKkwmSCRoIPwmcCw0IcxIZCAwTggpoCf4K8AxdCIsM4g8tDCEGYA+wDr0NFAp2CN8K3QcbCogJqAp7DJUP6gxfCnEFCgrRDewHcQvjCEITMRGeCxMGAQlpDZUNQw8uC98MaBNhCIQIdQ3ICnQLpAk9CJ4KhQnOCvEI0w13CnYOXgkmCUcM/AcxDSAKhglkCJEKBw7qBYwLHwlLCeQOeAs5CJIKgA/0CocJphJmCigLOQSoCQ4IdQsDCRsKig/wCUMEsgiACaMSLwtgCPkL+gozCz8JKguvC2kEVwqLCKQOiQ/YB/sL3gpkCi8NFQtmCd0Img2ECUwJ/gazEiMJhwn5CtEHoQvJDpYL",
          "dtype": "i2"
         },
         "yaxis": "y"
        },
        {
         "hovertemplate": "JobLevel=Mid level<br>TotalWorkingYears=%{x}<br>MonthlyIncome=%{marker.size}<extra></extra>",
         "legendgroup": "Mid level",
         "marker": {
          "color": "#4F909B",
          "size": {
           "bdata": "aRcKFHUUYRCrD6kaQRkmCAAVqw/YEYwWThU9EBsXaRcSGGYJYxlhFUwYSBHYEJ0TBhTRFOUQOBBBFVkUkhOHE30Q+gfJEisUcBa6F5kRAhgcGKcZzxFNEw4XvyHLGN0QPBLlFQIJLAnfEPQX7iEADI4TYhFLJRwXSRGRFJkZdRjKEJQatQoRGgwT/SYoGjQXGhf5EHERAAz3DEUXIhmRGRMbIhOBFIAI9BnOFaAPZhnlFf0YKxPKEScVhRJxFoURxBZqFR0WERsqFmwVHBYKGU0TbBR+EXsdvxOPFnYUShKJFM0YBRNxDiEd5hdGGMsYTCCQF6ALKRJWF4ASsBR9Gv0ZYxqKFIsk7BiMGYUUSBO4FKQQUxZlEHgNihnSEKoRhxFhEbEZzhHMEcsXyhKrEc4TxA7TD1YYbRK2GcUSphCbGtIQ+xLZFMkVYxJgJi8ZgBiJEGEOVBWCJfkPLxZhF8Abshi9IL4QuRX2GS0ejyLzErwPuB8nEuERyREUFYwayR1gEx0VuBSUGv4X9RibGpIJ5RO9FAEUJBjoGf0YghjvEM4UbRX2EFwXlBBkGU0MzBRsFK4XEhjmE90aUhGQGCgUqxItF8UPORgzETcUvhinEmIQoBB8GW8UuhW5EVQULBOdEroZSxBkGK4PFBvGEN8WRRolG18R+REiFssT1xNwFTEOQxAZETQQYBWQEIsTgxCpEvEYzRppE8sY/SXiEgsQzCAHEuUmTA6cEUweJhp4Es4Q2RV+GmMeaBPBD7AQwBMgIGMWUhYjFLIZRhHfFOIUShkTEOcQBiO7EaMNvRHTHIAYZBSGE8QaVhOxGpwaMxTfGboRXBGKEUQJIhVXEkEYExMTEhIathEHGDUSBxCZEO0a7RcfEvMUzxPpGDUVBhIfGnQSIxjoF1sVDifuD1gY8Q+JFrwQPiSrErIWDxZCEPQjhw9uFQ8h+xkVEZcStRSgEiQThRb3Eawhww/vESITtRKVGfQY4Ai9EPMl4BBhFVcU5Q/2FicZ+BjyJb0X9xL3D2wVxCZmEJ8a/heVIroVTw3HEx8SiRYhEdQUNxJ0EgEVWBQNE/0LNBCIFrITihZvFkAV7RZWFK8UORUWEboa5RF/ElsQgRVeFWQV+BTjFJIPNSWnHpYRHhl0GboV4xpyE/YXTxp2FEgZmiCWGBsUmxGuFLMW7wuhD40XXBVdEOcPtRY3H6IVghbiFHUQHxDWGt4icRmPGmARxhodFUwSIhQyGysWKBLwGLMm1A0+DykWZRC8ELQSEhcuD2QZqRODFSkRtxmnHxcVbxWyGmgWcxZ+JlsVBBUfFFUI3xO5Ff0UCxqLE1QUCRDPJfEVUQtQF+wQWBEJErMYLRZYEckUIhXqEw4TDBArEwsUohg4Gh4V6iLfFEga/BnyEjkWuQ/QJgsK/hcOFTQR",
           "dtype": "i2"
          },
          "sizemode": "area",
          "sizeref": 49.9975,
          "symbol": "circle"
         },
         "mode": "markers",
         "name": "Mid level",
         "showlegend": true,
         "type": "scattergl",
         "x": {
          "bdata": "CAoRCgUKCRMKDAoOCQUKBwkKBhQKCxAQChEFCwsLDAQFERARBgkMCAwQBAcRBgwTCRQNFAoKDAwJBQoICgsOCQYHDxEFBwkQEAYEEQkNCQoKBQ0JCgoGBwgGFAoMBQoKCA0JCgsNDAkLDQUNCgsMCQkGFAwGCggIBwgFBA0ECA4HDwcICAoHEgkFCBIUBg0IBQ8GChMLEwcUEw4QDwoJCAoIBQoSBhIIBgkJDREKCgoGBhIFBhEPDQQIDAYEFAoSChQKCgcKDAkTEAoHBgkIBgsGCQURCAYJBgoIDgoMCg0MCAoJEggJCQQFBQoRDAgNBAQRBAoKCQcKCAYJBQYUDAYJCQUECBMIBA8REwcTEAkICBMHCg4HCAUEDwkSBQUQCgYJBgkKEA4HDggFDwoKFAwKDAoHBQYKDQYEDw4SEgoKCgoKCRMJCgkLChEKCA8KBQ4FCggMCAQGFAYUDwgKCwUHCw8GFAUPBAsNBxAKBAsFCggOBQoJBQkPCAwSCAoKBwkJCggPCgYJCggFCgoKBwkKEAYLDwkKCg4HCAcHCwQNDRMKBgoKBwoPBgoRChITEQQQCgkJBgoNCAoPCw8GDQUTCgYKDwsKBwsNDAoPDhQFCg8HBAsHCQcKChAECgoJCgwOCAkMCgcKEAYQBgoUDgYGCQoKBwgKCQkUCQQKDxAKCQoKEgYSDQgPDgoMCAgKCgoRBhEG",
          "dtype": "i1"
         },
         "xaxis": "x",
         "y": {
          "bdata": "aRcKFHUUYRCrD6kaQRkmCAAVqw/YEYwWThU9EBsXaRcSGGYJYxlhFUwYSBHYEJ0TBhTRFOUQOBBBFVkUkhOHE30Q+gfJEisUcBa6F5kRAhgcGKcZzxFNEw4XvyHLGN0QPBLlFQIJLAnfEPQX7iEADI4TYhFLJRwXSRGRFJkZdRjKEJQatQoRGgwT/SYoGjQXGhf5EHERAAz3DEUXIhmRGRMbIhOBFIAI9BnOFaAPZhnlFf0YKxPKEScVhRJxFoURxBZqFR0WERsqFmwVHBYKGU0TbBR+EXsdvxOPFnYUShKJFM0YBRNxDiEd5hdGGMsYTCCQF6ALKRJWF4ASsBR9Gv0ZYxqKFIsk7BiMGYUUSBO4FKQQUxZlEHgNihnSEKoRhxFhEbEZzhHMEcsXyhKrEc4TxA7TD1YYbRK2GcUSphCbGtIQ+xLZFMkVYxJgJi8ZgBiJEGEOVBWCJfkPLxZhF8Abshi9IL4QuRX2GS0ejyLzErwPuB8nEuERyREUFYwayR1gEx0VuBSUGv4X9RibGpIJ5RO9FAEUJBjoGf0YghjvEM4UbRX2EFwXlBBkGU0MzBRsFK4XEhjmE90aUhGQGCgUqxItF8UPORgzETcUvhinEmIQoBB8GW8UuhW5EVQULBOdEroZSxBkGK4PFBvGEN8WRRolG18R+REiFssT1xNwFTEOQxAZETQQYBWQEIsTgxCpEvEYzRppE8sY/SXiEgsQzCAHEuUmTA6cEUweJhp4Es4Q2RV+GmMeaBPBD7AQwBMgIGMWUhYjFLIZRhHfFOIUShkTEOcQBiO7EaMNvRHTHIAYZBSGE8QaVhOxGpwaMxTfGboRXBGKEUQJIhVXEkEYExMTEhIathEHGDUSBxCZEO0a7RcfEvMUzxPpGDUVBhIfGnQSIxjoF1sVDifuD1gY8Q+JFrwQPiSrErIWDxZCEPQjhw9uFQ8h+xkVEZcStRSgEiQThRb3Eawhww/vESITtRKVGfQY4Ai9EPMl4BBhFVcU5Q/2FicZ+BjyJb0X9xL3D2wVxCZmEJ8a/heVIroVTw3HEx8SiRYhEdQUNxJ0EgEVWBQNE/0LNBCIFrITihZvFkAV7RZWFK8UORUWEboa5RF/ElsQgRVeFWQV+BTjFJIPNSWnHpYRHhl0GboV4xpyE/YXTxp2FEgZmiCWGBsUmxGuFLMW7wuhD40XXBVdEOcPtRY3H6IVghbiFHUQHxDWGt4icRmPGmARxhodFUwSIhQyGysWKBLwGLMm1A0+DykWZRC8ELQSEhcuD2QZqRODFSkRtxmnHxcVbxWyGmgWcxZ+JlsVBBUfFFUI3xO5Ff0UCxqLE1QUCRDPJfEVUQtQF+wQWBEJErMYLRZYEckUIhXqEw4TDBArEwsUohg4Gh4V6iLfFEga/BnyEjkWuQ/QJgsK/hcOFTQR",
          "dtype": "i2"
         },
         "yaxis": "y"
        },
        {
         "hovertemplate": "JobLevel=Senior<br>TotalWorkingYears=%{x}<br>MonthlyIncome=%{marker.size}<extra></extra>",
         "legendgroup": "Senior",
         "marker": {
          "color": "#707BAD",
          "size": {
           "bdata": "NiX8JtouCCgWIgUVnCaSNG0j1R1wJ/wlvTNgNf8nXByTJbEp7TQ8HQQdby0KJkgo+CP9H5opfxwmI2cq3yTLJNUo1x20JKAoGiHKMBc1oSKZL3Ep7h5VIms1QCe6KkkuIzXcLlQfjSUdL1oUZi7vIgEn9iznG58f2DDjJQAp1SqsHcggIR+fLtwgGihvI5gpKjXQHWAm3ib8Ju4cJS20KkMdHymCItok5SmtIfQclyvrKFkiwS21HqMdqy3mHQgy7Se2KgkqvSmXKtodOCnrHA416SVVKHEpYByPHsgeXSrzKZQomCz3KoAqgC5lHb4pmiIuKhIidyJSKOAq8ijPG24lzSgkIucdtxxEKqgcuzQiKAwohzOJKAYpvCAQKfcnKh+2G4Yj/iCMLnwmNCEYJ9oeZCmoKpIkNB+BHSkqcCcWHWMqpCS9NeIo4SfsK7ggniGrG4wnER0iJLknLSDDKEweQigJH0gf1TOqG10bgyrHHhkk/CmAKIolHCbkG3Qh4R88M4EgmDTPKMMlXSilJYIhkhzxJSQ0oCa0IdAoVh0XK7khtS6WM7YosDXcHYUiZioHJw==",
           "dtype": "i2"
          },
          "sizemode": "area",
          "sizeref": 49.9975,
          "symbol": "circle"
         },
         "mode": "markers",
         "name": "Senior",
         "showlegend": true,
         "type": "scattergl",
         "x": {
          "bdata": "CgoNGAkXCg8JHBEZERAYJQkVEBcMDgooEAwSCgkPDAwYChEODBAQFwoRCwoJERQKDwoMExMYDAoKDAsRDxAUGgoKHAoKFg8NDwoMCwoKChQMHAkKEAkJChQJCgoKDgkJESMSERAKGB0PCxARCgwJDRYQCRsVDh4NDxIKFA4XGAkJEgkKChILFA8RFBAhChkXCgoJCgkKCh8LDg0KCgkNHAoYChAdEAoJCwoYCgkiCxIKDxIJExULEwkKGQ0KCQwLCg8PCRcJHAkMDgkSDgkPCg0ZDhQOEAoJFAk=",
          "dtype": "i1"
         },
         "xaxis": "x",
         "y": {
          "bdata": "NiX8JtouCCgWIgUVnCaSNG0j1R1wJ/wlvTNgNf8nXByTJbEp7TQ8HQQdby0KJkgo+CP9H5opfxwmI2cq3yTLJNUo1x20JKAoGiHKMBc1oSKZL3Ep7h5VIms1QCe6KkkuIzXcLlQfjSUdL1oUZi7vIgEn9iznG58f2DDjJQAp1SqsHcggIR+fLtwgGihvI5gpKjXQHWAm3ib8Ju4cJS20KkMdHymCItok5SmtIfQclyvrKFkiwS21HqMdqy3mHQgy7Se2KgkqvSmXKtodOCnrHA416SVVKHEpYByPHsgeXSrzKZQomCz3KoAqgC5lHb4pmiIuKhIidyJSKOAq8ijPG24lzSgkIucdtxxEKqgcuzQiKAwohzOJKAYpvCAQKfcnKh+2G4Yj/iCMLnwmNCEYJ9oeZCmoKpIkNB+BHSkqcCcWHWMqpCS9NeIo4SfsK7ggniGrG4wnER0iJLknLSDDKEweQigJH0gf1TOqG10bgyrHHhkk/CmAKIolHCbkG3Qh4R88M4EgmDTPKMMlXSilJYIhkhzxJSQ0oCa0IdAoVh0XK7khtS6WM7YosDXcHYUiZioHJw==",
          "dtype": "i2"
         },
         "yaxis": "y"
        },
        {
         "hovertemplate": "JobLevel=Lead<br>TotalWorkingYears=%{x}<br>MonthlyIncome=%{marker.size}<extra></extra>",
         "legendgroup": "Lead",
         "marker": {
          "color": "#A89DB7",
          "size": {
           "bdata": "QzykOb80MDawQz9CHUOmNZhBwD7oQbg0sETVNI8+rEKMNng+E0EAOJwzq0AmN5ZCxUXDQbUzOD/TQPNAKjzeOco1XyvYQedEcEEHQ7M/AjY8LsM3BEbLQgQ6ijMkRPdDlTbGMZ41CDTyRHRBAUX1QTlEiS9AM741mELARXNF/D4JNeNC8EHFRco2VjN/NVo0vzOfQbBDjDkmQBFD1kBvQqA+yD/eQEs4NUCfRO0rYjsdQI42EkTDRGQ+EzyIMkBBpTKjP6s9qTO3QRZD00UdNAI1/y4=",
           "dtype": "i2"
          },
          "sizemode": "area",
          "sizeref": 49.9975,
          "symbol": "circle"
         },
         "mode": "markers",
         "name": "Lead",
         "showlegend": true,
         "type": "scattergl",
         "x": {
          "bdata": "HxUWJhcZFRUWFhwVFRcWFRkQHhkkHyAcGiUWChYVFSAcHiIeGhYdHxwhHxoWFgogFhUeFxofFxsXFRYWHCAkCSIVGRUhHRghGBUdHwkaIxAaGBcgFRsgFxseJA4dFxkVGyUXGRYYHRUVFQ==",
          "dtype": "i1"
         },
         "xaxis": "x",
         "y": {
          "bdata": "QzykOb80MDawQz9CHUOmNZhBwD7oQbg0sETVNI8+rEKMNng+E0EAOJwzq0AmN5ZCxUXDQbUzOD/TQPNAKjzeOco1XyvYQedEcEEHQ7M/AjY8LsM3BEbLQgQ6ijMkRPdDlTbGMZ41CDTyRHRBAUX1QTlEiS9AM741mELARXNF/D4JNeNC8EHFRco2VjN/NVo0vzOfQbBDjDkmQBFD1kBvQqA+yD/eQEs4NUCfRO0rYjsdQI42EkTDRGQ+EzyIMkBBpTKjP6s9qTO3QRZD00UdNAI1/y4=",
          "dtype": "i2"
         },
         "yaxis": "y"
        },
        {
         "hovertemplate": "JobLevel=Executive<br>TotalWorkingYears=%{x}<br>MonthlyIncome=%{marker.size}<extra></extra>",
         "legendgroup": "Executive",
         "marker": {
          "color": "#C99193",
          "size": {
           "bdata": "lkoDSllMNEmcSfxGUUzWTVlKIkkfTiBLPUx8SgJL7EtlSshK6UhIS3xHzkv9Sm5MeUYuTBhHOUzFSvVKk03+Ry5L20t/RwVOhU0lS6tMqkznTa5IiUocTRdJWUclR4hJZUmHTfZKjUbzSgVN9UyCTINLnUxpSspMeU1eSoBLwEvRTNlKtEznS8BJ",
           "dtype": "i2"
          },
          "sizemode": "area",
          "sizeref": 49.9975,
          "symbol": "circle"
         },
         "mode": "markers",
         "name": "Executive",
         "showlegend": true,
         "type": "scattergl",
         "x": {
          "bdata": "GhYXHR4cFxUVJCIWICEZFiUcFhUVGBUhFR8gGhcWGBgoFRUVIR0XFRwaGRkXGRoaGh8aFhckICQbGBcbFSIYFR0cIxUY",
          "dtype": "i1"
         },
         "xaxis": "x",
         "y": {
          "bdata": "lkoDSllMNEmcSfxGUUzWTVlKIkkfTiBLPUx8SgJL7EtlSshK6UhIS3xHzkv9Sm5MeUYuTBhHOUzFSvVKk03+Ry5L20t/RwVOhU0lS6tMqkznTa5IiUocTRdJWUclR4hJZUmHTfZKjUbzSgVN9UyCTINLnUxpSspMeU1eSoBLwEvRTNlKtEznS8BJ",
          "dtype": "i2"
         },
         "yaxis": "y"
        }
       ],
       "layout": {
        "font": {
         "color": "#28221D"
        },
        "legend": {
         "itemsizing": "constant",
         "orientation": "h",
         "title": {
          "text": ""
         },
         "tracegroupgap": 0,
         "x": 1,
         "xanchor": "right",
         "y": 1.02,
         "yanchor": "bottom"
        },
        "margin": {
         "b": 80,
         "l": 40,
         "r": 30,
         "t": 120
        },
        "paper_bgcolor": "#F4F2F0",
        "plot_bgcolor": "#F4F2F0",
        "template": {
         "data": {
          "bar": [
           {
            "error_x": {
             "color": "#2a3f5f"
            },
            "error_y": {
             "color": "#2a3f5f"
            },
            "marker": {
             "line": {
              "color": "#E5ECF6",
              "width": 0.5
             },
             "pattern": {
              "fillmode": "overlay",
              "size": 10,
              "solidity": 0.2
             }
            },
            "type": "bar"
           }
          ],
          "barpolar": [
           {
            "marker": {
             "line": {
              "color": "#E5ECF6",
              "width": 0.5
             },
             "pattern": {
              "fillmode": "overlay",
              "size": 10,
              "solidity": 0.2
             }
            },
            "type": "barpolar"
           }
          ],
          "carpet": [
           {
            "aaxis": {
             "endlinecolor": "#2a3f5f",
             "gridcolor": "white",
             "linecolor": "white",
             "minorgridcolor": "white",
             "startlinecolor": "#2a3f5f"
            },
            "baxis": {
             "endlinecolor": "#2a3f5f",
             "gridcolor": "white",
             "linecolor": "white",
             "minorgridcolor": "white",
             "startlinecolor": "#2a3f5f"
            },
            "type": "carpet"
           }
          ],
          "choropleth": [
           {
            "colorbar": {
             "outlinewidth": 0,
             "ticks": ""
            },
            "type": "choropleth"
           }
          ],
          "contour": [
           {
            "colorbar": {
             "outlinewidth": 0,
             "ticks": ""
            },
            "colorscale": [
             [
              0,
              "#0d0887"
             ],
             [
              0.1111111111111111,
              "#46039f"
             ],
             [
              0.2222222222222222,
              "#7201a8"
             ],
             [
              0.3333333333333333,
              "#9c179e"
             ],
             [
              0.4444444444444444,
              "#bd3786"
             ],
             [
              0.5555555555555556,
              "#d8576b"
             ],
             [
              0.6666666666666666,
              "#ed7953"
             ],
             [
              0.7777777777777778,
              "#fb9f3a"
             ],
             [
              0.8888888888888888,
              "#fdca26"
             ],
             [
              1,
              "#f0f921"
             ]
            ],
            "type": "contour"
           }
          ],
          "contourcarpet": [
           {
            "colorbar": {
             "outlinewidth": 0,
             "ticks": ""
            },
            "type": "contourcarpet"
           }
          ],
          "heatmap": [
           {
            "colorbar": {
             "outlinewidth": 0,
             "ticks": ""
            },
            "colorscale": [
             [
              0,
              "#0d0887"
             ],
             [
              0.1111111111111111,
              "#46039f"
             ],
             [
              0.2222222222222222,
              "#7201a8"
             ],
             [
              0.3333333333333333,
              "#9c179e"
             ],
             [
              0.4444444444444444,
              "#bd3786"
             ],
             [
              0.5555555555555556,
              "#d8576b"
             ],
             [
              0.6666666666666666,
              "#ed7953"
             ],
             [
              0.7777777777777778,
              "#fb9f3a"
             ],
             [
              0.8888888888888888,
              "#fdca26"
             ],
             [
              1,
              "#f0f921"
             ]
            ],
            "type": "heatmap"
           }
          ],
          "histogram": [
           {
            "marker": {
             "pattern": {
              "fillmode": "overlay",
              "size": 10,
              "solidity": 0.2
             }
            },
            "type": "histogram"
           }
          ],
          "histogram2d": [
           {
            "colorbar": {
             "outlinewidth": 0,
             "ticks": ""
            },
            "colorscale": [
             [
              0,
              "#0d0887"
             ],
             [
              0.1111111111111111,
              "#46039f"
             ],
             [
              0.2222222222222222,
              "#7201a8"
             ],
             [
              0.3333333333333333,
              "#9c179e"
             ],
             [
              0.4444444444444444,
              "#bd3786"
             ],
             [
              0.5555555555555556,
              "#d8576b"
             ],
             [
              0.6666666666666666,
              "#ed7953"
             ],
             [
              0.7777777777777778,
              "#fb9f3a"
             ],
             [
              0.8888888888888888,
              "#fdca26"
             ],
             [
              1,
              "#f0f921"
             ]
            ],
            "type": "histogram2d"
           }
          ],
          "histogram2dcontour": [
           {
            "colorbar": {
             "outlinewidth": 0,
             "ticks": ""
            },
            "colorscale": [
             [
              0,
              "#0d0887"
             ],
             [
              0.1111111111111111,
              "#46039f"
             ],
             [
              0.2222222222222222,
              "#7201a8"
             ],
             [
              0.3333333333333333,
              "#9c179e"
             ],
             [
              0.4444444444444444,
              "#bd3786"
             ],
             [
              0.5555555555555556,
              "#d8576b"
             ],
             [
              0.6666666666666666,
              "#ed7953"
             ],
             [
              0.7777777777777778,
              "#fb9f3a"
             ],
             [
              0.8888888888888888,
              "#fdca26"
             ],
             [
              1,
              "#f0f921"
             ]
            ],
            "type": "histogram2dcontour"
           }
          ],
          "mesh3d": [
           {
            "colorbar": {
             "outlinewidth": 0,
             "ticks": ""
            },
            "type": "mesh3d"
           }
          ],
          "parcoords": [
           {
            "line": {
             "colorbar": {
              "outlinewidth": 0,
              "ticks": ""
             }
            },
            "type": "parcoords"
           }
          ],
          "pie": [
           {
            "automargin": true,
            "type": "pie"
           }
          ],
          "scatter": [
           {
            "fillpattern": {
             "fillmode": "overlay",
             "size": 10,
             "solidity": 0.2
            },
            "type": "scatter"
           }
          ],
          "scatter3d": [
           {
            "line": {
             "colorbar": {
              "outlinewidth": 0,
              "ticks": ""
             }
            },
            "marker": {
             "colorbar": {
              "outlinewidth": 0,
              "ticks": ""
             }
            },
            "type": "scatter3d"
           }
          ],
          "scattercarpet": [
           {
            "marker": {
             "colorbar": {
              "outlinewidth": 0,
              "ticks": ""
             }
            },
            "type": "scattercarpet"
           }
          ],
          "scattergeo": [
           {
            "marker": {
             "colorbar": {
              "outlinewidth": 0,
              "ticks": ""
             }
            },
            "type": "scattergeo"
           }
          ],
          "scattergl": [
           {
            "marker": {
             "colorbar": {
              "outlinewidth": 0,
              "ticks": ""
             }
            },
            "type": "scattergl"
           }
          ],
          "scattermap": [
           {
            "marker": {
             "colorbar": {
              "outlinewidth": 0,
              "ticks": ""
             }
            },
            "type": "scattermap"
           }
          ],
          "scattermapbox": [
           {
            "marker": {
             "colorbar": {
              "outlinewidth": 0,
              "ticks": ""
             }
            },
            "type": "scattermapbox"
           }
          ],
          "scatterpolar": [
           {
            "marker": {
             "colorbar": {
              "outlinewidth": 0,
              "ticks": ""
             }
            },
            "type": "scatterpolar"
           }
          ],
          "scatterpolargl": [
           {
            "marker": {
             "colorbar": {
              "outlinewidth": 0,
              "ticks": ""
             }
            },
            "type": "scatterpolargl"
           }
          ],
          "scatterternary": [
           {
            "marker": {
             "colorbar": {
              "outlinewidth": 0,
              "ticks": ""
             }
            },
            "type": "scatterternary"
           }
          ],
          "surface": [
           {
            "colorbar": {
             "outlinewidth": 0,
             "ticks": ""
            },
            "colorscale": [
             [
              0,
              "#0d0887"
             ],
             [
              0.1111111111111111,
              "#46039f"
             ],
             [
              0.2222222222222222,
              "#7201a8"
             ],
             [
              0.3333333333333333,
              "#9c179e"
             ],
             [
              0.4444444444444444,
              "#bd3786"
             ],
             [
              0.5555555555555556,
              "#d8576b"
             ],
             [
              0.6666666666666666,
              "#ed7953"
             ],
             [
              0.7777777777777778,
              "#fb9f3a"
             ],
             [
              0.8888888888888888,
              "#fdca26"
             ],
             [
              1,
              "#f0f921"
             ]
            ],
            "type": "surface"
           }
          ],
          "table": [
           {
            "cells": {
             "fill": {
              "color": "#EBF0F8"
             },
             "line": {
              "color": "white"
             }
            },
            "header": {
             "fill": {
              "color": "#C8D4E3"
             },
             "line": {
              "color": "white"
             }
            },
            "type": "table"
           }
          ]
         },
         "layout": {
          "annotationdefaults": {
           "arrowcolor": "#2a3f5f",
           "arrowhead": 0,
           "arrowwidth": 1
          },
          "autotypenumbers": "strict",
          "coloraxis": {
           "colorbar": {
            "outlinewidth": 0,
            "ticks": ""
           }
          },
          "colorscale": {
           "diverging": [
            [
             0,
             "#8e0152"
            ],
            [
             0.1,
             "#c51b7d"
            ],
            [
             0.2,
             "#de77ae"
            ],
            [
             0.3,
             "#f1b6da"
            ],
            [
             0.4,
             "#fde0ef"
            ],
            [
             0.5,
             "#f7f7f7"
            ],
            [
             0.6,
             "#e6f5d0"
            ],
            [
             0.7,
             "#b8e186"
            ],
            [
             0.8,
             "#7fbc41"
            ],
            [
             0.9,
             "#4d9221"
            ],
            [
             1,
             "#276419"
            ]
           ],
           "sequential": [
            [
             0,
             "#0d0887"
            ],
            [
             0.1111111111111111,
             "#46039f"
            ],
            [
             0.2222222222222222,
             "#7201a8"
            ],
            [
             0.3333333333333333,
             "#9c179e"
            ],
            [
             0.4444444444444444,
             "#bd3786"
            ],
            [
             0.5555555555555556,
             "#d8576b"
            ],
            [
             0.6666666666666666,
             "#ed7953"
            ],
            [
             0.7777777777777778,
             "#fb9f3a"
            ],
            [
             0.8888888888888888,
             "#fdca26"
            ],
            [
             1,
             "#f0f921"
            ]
           ],
           "sequentialminus": [
            [
             0,
             "#0d0887"
            ],
            [
             0.1111111111111111,
             "#46039f"
            ],
            [
             0.2222222222222222,
             "#7201a8"
            ],
            [
             0.3333333333333333,
             "#9c179e"
            ],
            [
             0.4444444444444444,
             "#bd3786"
            ],
            [
             0.5555555555555556,
             "#d8576b"
            ],
            [
             0.6666666666666666,
             "#ed7953"
            ],
            [
             0.7777777777777778,
             "#fb9f3a"
            ],
            [
             0.8888888888888888,
             "#fdca26"
            ],
            [
             1,
             "#f0f921"
            ]
           ]
          },
          "colorway": [
           "#636efa",
           "#EF553B",
           "#00cc96",
           "#ab63fa",
           "#FFA15A",
           "#19d3f3",
           "#FF6692",
           "#B6E880",
           "#FF97FF",
           "#FECB52"
          ],
          "font": {
           "color": "#2a3f5f"
          },
          "geo": {
           "bgcolor": "white",
           "lakecolor": "white",
           "landcolor": "#E5ECF6",
           "showlakes": true,
           "showland": true,
           "subunitcolor": "white"
          },
          "hoverlabel": {
           "align": "left"
          },
          "hovermode": "closest",
          "mapbox": {
           "style": "light"
          },
          "paper_bgcolor": "white",
          "plot_bgcolor": "#E5ECF6",
          "polar": {
           "angularaxis": {
            "gridcolor": "white",
            "linecolor": "white",
            "ticks": ""
           },
           "bgcolor": "#E5ECF6",
           "radialaxis": {
            "gridcolor": "white",
            "linecolor": "white",
            "ticks": ""
           }
          },
          "scene": {
           "xaxis": {
            "backgroundcolor": "#E5ECF6",
            "gridcolor": "white",
            "gridwidth": 2,
            "linecolor": "white",
            "showbackground": true,
            "ticks": "",
            "zerolinecolor": "white"
           },
           "yaxis": {
            "backgroundcolor": "#E5ECF6",
            "gridcolor": "white",
            "gridwidth": 2,
            "linecolor": "white",
            "showbackground": true,
            "ticks": "",
            "zerolinecolor": "white"
           },
           "zaxis": {
            "backgroundcolor": "#E5ECF6",
            "gridcolor": "white",
            "gridwidth": 2,
            "linecolor": "white",
            "showbackground": true,
            "ticks": "",
            "zerolinecolor": "white"
           }
          },
          "shapedefaults": {
           "line": {
            "color": "#2a3f5f"
           }
          },
          "ternary": {
           "aaxis": {
            "gridcolor": "white",
            "linecolor": "white",
            "ticks": ""
           },
           "baxis": {
            "gridcolor": "white",
            "linecolor": "white",
            "ticks": ""
           },
           "bgcolor": "#E5ECF6",
           "caxis": {
            "gridcolor": "white",
            "linecolor": "white",
            "ticks": ""
           }
          },
          "title": {
           "x": 0.05
          },
          "xaxis": {
           "automargin": true,
           "gridcolor": "white",
           "linecolor": "white",
           "ticks": "",
           "title": {
            "standoff": 15
           },
           "zerolinecolor": "white",
           "zerolinewidth": 2
          },
          "yaxis": {
           "automargin": true,
           "gridcolor": "white",
           "linecolor": "white",
           "ticks": "",
           "title": {
            "standoff": 15
           },
           "zerolinecolor": "white",
           "zerolinewidth": 2
          }
         }
        },
        "title": {
         "text": "Monthly income increases with total number of years worked and job level <br>"
        },
        "xaxis": {
         "anchor": "y",
         "domain": [
          0,
          1
         ],
         "title": {
          "text": "Total Working Years"
         }
        },
        "yaxis": {
         "anchor": "x",
         "domain": [
          0,
          1
         ],
         "tickprefix": "$",
         "title": {
          "text": "Income"
         }
        }
       }
      }
     },
     "metadata": {},
     "output_type": "display_data"
    }
   ],
   "source": [
    "plot_df = data.copy()\n",
    "plot_df['JobLevel'] = pd.Categorical(\n",
    "    plot_df['JobLevel']).rename_categories(['Entry level', 'Mid level', 'Senior', 'Lead', 'Executive'])\n",
    "col=['#73AF8E', '#4F909B', '#707BAD', '#A89DB7','#C99193']\n",
    "fig = px.scatter(plot_df, x='TotalWorkingYears', y='MonthlyIncome', \n",
    "                 color='JobLevel', size='MonthlyIncome',\n",
    "                 color_discrete_sequence=col, \n",
    "                 category_orders={'JobLevel': ['Entry level', 'Mid level', 'Senior', 'Lead', 'Executive']})\n",
    "fig.update_layout(legend=dict(orientation=\"h\", yanchor=\"bottom\", y=1.02, xanchor=\"right\", x=1),\n",
    "                  title='Monthly income increases with total number of years worked and job level <br>',\n",
    "                  xaxis_title='Total Working Years', yaxis=dict(title='Income',tickprefix='$'), \n",
    "                  legend_title='', font_color='#28221D',\n",
    "                  margin=dict(l=40, r=30, b=80, t=120),paper_bgcolor='#F4F2F0', plot_bgcolor='#F4F2F0')\n",
    "fig.show()"
   ]
  },
  {
   "cell_type": "code",
   "execution_count": 175,
   "id": "a58c2ef1",
   "metadata": {},
   "outputs": [
    {
     "data": {
      "application/vnd.plotly.v1+json": {
       "config": {
        "plotlyServerURL": "https://plot.ly"
       },
       "data": [
        {
         "colorscale": [
          [
           0,
           "rgb(247,252,240)"
          ],
          [
           0.125,
           "rgb(224,243,219)"
          ],
          [
           0.25,
           "rgb(204,235,197)"
          ],
          [
           0.375,
           "rgb(168,221,181)"
          ],
          [
           0.5,
           "rgb(123,204,196)"
          ],
          [
           0.625,
           "rgb(78,179,211)"
          ],
          [
           0.75,
           "rgb(43,140,190)"
          ],
          [
           0.875,
           "rgb(8,104,172)"
          ],
          [
           1,
           "rgb(8,64,129)"
          ]
         ],
         "hovertemplate": "Correlation between %{x} and %{y}= %{z}",
         "name": "",
         "reversescale": false,
         "showscale": false,
         "type": "heatmap",
         "x": [
          "Age",
          "DailyRate",
          "DistanceFromHome",
          "HourlyRate",
          "MonthlyIncome",
          "MonthlyRate",
          "NumCompaniesWorked",
          "PercentSalaryHike",
          "TotalWorkingYears",
          "TrainingTimesLastYear",
          "YearsAtCompany",
          "YearsInCurrentRole",
          "YearsSinceLastPromotion",
          "YearsWithCurrManager"
         ],
         "y": [
          "Age",
          "DailyRate",
          "DistanceFromHome",
          "HourlyRate",
          "MonthlyIncome",
          "MonthlyRate",
          "NumCompaniesWorked",
          "PercentSalaryHike",
          "TotalWorkingYears",
          "TrainingTimesLastYear",
          "YearsAtCompany",
          "YearsInCurrentRole",
          "YearsSinceLastPromotion",
          "YearsWithCurrManager"
         ],
         "z": {
          "bdata": "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",
          "dtype": "f8",
          "shape": "14, 14"
         }
        }
       ],
       "layout": {
        "annotations": [
         {
          "font": {
           "color": "#FFFFFF"
          },
          "showarrow": false,
          "text": "1.0",
          "x": "Age",
          "xref": "x",
          "y": "Age",
          "yref": "y"
         },
         {
          "font": {
           "color": "#000000"
          },
          "showarrow": false,
          "text": "0.01",
          "x": "DailyRate",
          "xref": "x",
          "y": "Age",
          "yref": "y"
         },
         {
          "font": {
           "color": "#000000"
          },
          "showarrow": false,
          "text": "-0.0",
          "x": "DistanceFromHome",
          "xref": "x",
          "y": "Age",
          "yref": "y"
         },
         {
          "font": {
           "color": "#000000"
          },
          "showarrow": false,
          "text": "0.02",
          "x": "HourlyRate",
          "xref": "x",
          "y": "Age",
          "yref": "y"
         },
         {
          "font": {
           "color": "#FFFFFF"
          },
          "showarrow": false,
          "text": "0.5",
          "x": "MonthlyIncome",
          "xref": "x",
          "y": "Age",
          "yref": "y"
         },
         {
          "font": {
           "color": "#000000"
          },
          "showarrow": false,
          "text": "0.03",
          "x": "MonthlyRate",
          "xref": "x",
          "y": "Age",
          "yref": "y"
         },
         {
          "font": {
           "color": "#000000"
          },
          "showarrow": false,
          "text": "0.3",
          "x": "NumCompaniesWorked",
          "xref": "x",
          "y": "Age",
          "yref": "y"
         },
         {
          "font": {
           "color": "#000000"
          },
          "showarrow": false,
          "text": "0.0",
          "x": "PercentSalaryHike",
          "xref": "x",
          "y": "Age",
          "yref": "y"
         },
         {
          "font": {
           "color": "#FFFFFF"
          },
          "showarrow": false,
          "text": "0.68",
          "x": "TotalWorkingYears",
          "xref": "x",
          "y": "Age",
          "yref": "y"
         },
         {
          "font": {
           "color": "#000000"
          },
          "showarrow": false,
          "text": "-0.02",
          "x": "TrainingTimesLastYear",
          "xref": "x",
          "y": "Age",
          "yref": "y"
         },
         {
          "font": {
           "color": "#000000"
          },
          "showarrow": false,
          "text": "0.31",
          "x": "YearsAtCompany",
          "xref": "x",
          "y": "Age",
          "yref": "y"
         },
         {
          "font": {
           "color": "#000000"
          },
          "showarrow": false,
          "text": "0.21",
          "x": "YearsInCurrentRole",
          "xref": "x",
          "y": "Age",
          "yref": "y"
         },
         {
          "font": {
           "color": "#000000"
          },
          "showarrow": false,
          "text": "0.22",
          "x": "YearsSinceLastPromotion",
          "xref": "x",
          "y": "Age",
          "yref": "y"
         },
         {
          "font": {
           "color": "#000000"
          },
          "showarrow": false,
          "text": "0.2",
          "x": "YearsWithCurrManager",
          "xref": "x",
          "y": "Age",
          "yref": "y"
         },
         {
          "font": {
           "color": "#000000"
          },
          "showarrow": false,
          "text": "0.01",
          "x": "Age",
          "xref": "x",
          "y": "DailyRate",
          "yref": "y"
         },
         {
          "font": {
           "color": "#FFFFFF"
          },
          "showarrow": false,
          "text": "1.0",
          "x": "DailyRate",
          "xref": "x",
          "y": "DailyRate",
          "yref": "y"
         },
         {
          "font": {
           "color": "#000000"
          },
          "showarrow": false,
          "text": "-0.0",
          "x": "DistanceFromHome",
          "xref": "x",
          "y": "DailyRate",
          "yref": "y"
         },
         {
          "font": {
           "color": "#000000"
          },
          "showarrow": false,
          "text": "0.02",
          "x": "HourlyRate",
          "xref": "x",
          "y": "DailyRate",
          "yref": "y"
         },
         {
          "font": {
           "color": "#000000"
          },
          "showarrow": false,
          "text": "0.01",
          "x": "MonthlyIncome",
          "xref": "x",
          "y": "DailyRate",
          "yref": "y"
         },
         {
          "font": {
           "color": "#000000"
          },
          "showarrow": false,
          "text": "-0.03",
          "x": "MonthlyRate",
          "xref": "x",
          "y": "DailyRate",
          "yref": "y"
         },
         {
          "font": {
           "color": "#000000"
          },
          "showarrow": false,
          "text": "0.04",
          "x": "NumCompaniesWorked",
          "xref": "x",
          "y": "DailyRate",
          "yref": "y"
         },
         {
          "font": {
           "color": "#000000"
          },
          "showarrow": false,
          "text": "0.02",
          "x": "PercentSalaryHike",
          "xref": "x",
          "y": "DailyRate",
          "yref": "y"
         },
         {
          "font": {
           "color": "#000000"
          },
          "showarrow": false,
          "text": "0.01",
          "x": "TotalWorkingYears",
          "xref": "x",
          "y": "DailyRate",
          "yref": "y"
         },
         {
          "font": {
           "color": "#000000"
          },
          "showarrow": false,
          "text": "0.0",
          "x": "TrainingTimesLastYear",
          "xref": "x",
          "y": "DailyRate",
          "yref": "y"
         },
         {
          "font": {
           "color": "#000000"
          },
          "showarrow": false,
          "text": "-0.03",
          "x": "YearsAtCompany",
          "xref": "x",
          "y": "DailyRate",
          "yref": "y"
         },
         {
          "font": {
           "color": "#000000"
          },
          "showarrow": false,
          "text": "0.01",
          "x": "YearsInCurrentRole",
          "xref": "x",
          "y": "DailyRate",
          "yref": "y"
         },
         {
          "font": {
           "color": "#000000"
          },
          "showarrow": false,
          "text": "-0.03",
          "x": "YearsSinceLastPromotion",
          "xref": "x",
          "y": "DailyRate",
          "yref": "y"
         },
         {
          "font": {
           "color": "#000000"
          },
          "showarrow": false,
          "text": "-0.03",
          "x": "YearsWithCurrManager",
          "xref": "x",
          "y": "DailyRate",
          "yref": "y"
         },
         {
          "font": {
           "color": "#000000"
          },
          "showarrow": false,
          "text": "-0.0",
          "x": "Age",
          "xref": "x",
          "y": "DistanceFromHome",
          "yref": "y"
         },
         {
          "font": {
           "color": "#000000"
          },
          "showarrow": false,
          "text": "-0.0",
          "x": "DailyRate",
          "xref": "x",
          "y": "DistanceFromHome",
          "yref": "y"
         },
         {
          "font": {
           "color": "#FFFFFF"
          },
          "showarrow": false,
          "text": "1.0",
          "x": "DistanceFromHome",
          "xref": "x",
          "y": "DistanceFromHome",
          "yref": "y"
         },
         {
          "font": {
           "color": "#000000"
          },
          "showarrow": false,
          "text": "0.03",
          "x": "HourlyRate",
          "xref": "x",
          "y": "DistanceFromHome",
          "yref": "y"
         },
         {
          "font": {
           "color": "#000000"
          },
          "showarrow": false,
          "text": "-0.02",
          "x": "MonthlyIncome",
          "xref": "x",
          "y": "DistanceFromHome",
          "yref": "y"
         },
         {
          "font": {
           "color": "#000000"
          },
          "showarrow": false,
          "text": "0.03",
          "x": "MonthlyRate",
          "xref": "x",
          "y": "DistanceFromHome",
          "yref": "y"
         },
         {
          "font": {
           "color": "#000000"
          },
          "showarrow": false,
          "text": "-0.03",
          "x": "NumCompaniesWorked",
          "xref": "x",
          "y": "DistanceFromHome",
          "yref": "y"
         },
         {
          "font": {
           "color": "#000000"
          },
          "showarrow": false,
          "text": "0.04",
          "x": "PercentSalaryHike",
          "xref": "x",
          "y": "DistanceFromHome",
          "yref": "y"
         },
         {
          "font": {
           "color": "#000000"
          },
          "showarrow": false,
          "text": "0.0",
          "x": "TotalWorkingYears",
          "xref": "x",
          "y": "DistanceFromHome",
          "yref": "y"
         },
         {
          "font": {
           "color": "#000000"
          },
          "showarrow": false,
          "text": "-0.04",
          "x": "TrainingTimesLastYear",
          "xref": "x",
          "y": "DistanceFromHome",
          "yref": "y"
         },
         {
          "font": {
           "color": "#000000"
          },
          "showarrow": false,
          "text": "0.01",
          "x": "YearsAtCompany",
          "xref": "x",
          "y": "DistanceFromHome",
          "yref": "y"
         },
         {
          "font": {
           "color": "#000000"
          },
          "showarrow": false,
          "text": "0.02",
          "x": "YearsInCurrentRole",
          "xref": "x",
          "y": "DistanceFromHome",
          "yref": "y"
         },
         {
          "font": {
           "color": "#000000"
          },
          "showarrow": false,
          "text": "0.01",
          "x": "YearsSinceLastPromotion",
          "xref": "x",
          "y": "DistanceFromHome",
          "yref": "y"
         },
         {
          "font": {
           "color": "#000000"
          },
          "showarrow": false,
          "text": "0.01",
          "x": "YearsWithCurrManager",
          "xref": "x",
          "y": "DistanceFromHome",
          "yref": "y"
         },
         {
          "font": {
           "color": "#000000"
          },
          "showarrow": false,
          "text": "0.02",
          "x": "Age",
          "xref": "x",
          "y": "HourlyRate",
          "yref": "y"
         },
         {
          "font": {
           "color": "#000000"
          },
          "showarrow": false,
          "text": "0.02",
          "x": "DailyRate",
          "xref": "x",
          "y": "HourlyRate",
          "yref": "y"
         },
         {
          "font": {
           "color": "#000000"
          },
          "showarrow": false,
          "text": "0.03",
          "x": "DistanceFromHome",
          "xref": "x",
          "y": "HourlyRate",
          "yref": "y"
         },
         {
          "font": {
           "color": "#FFFFFF"
          },
          "showarrow": false,
          "text": "1.0",
          "x": "HourlyRate",
          "xref": "x",
          "y": "HourlyRate",
          "yref": "y"
         },
         {
          "font": {
           "color": "#000000"
          },
          "showarrow": false,
          "text": "-0.02",
          "x": "MonthlyIncome",
          "xref": "x",
          "y": "HourlyRate",
          "yref": "y"
         },
         {
          "font": {
           "color": "#000000"
          },
          "showarrow": false,
          "text": "-0.02",
          "x": "MonthlyRate",
          "xref": "x",
          "y": "HourlyRate",
          "yref": "y"
         },
         {
          "font": {
           "color": "#000000"
          },
          "showarrow": false,
          "text": "0.02",
          "x": "NumCompaniesWorked",
          "xref": "x",
          "y": "HourlyRate",
          "yref": "y"
         },
         {
          "font": {
           "color": "#000000"
          },
          "showarrow": false,
          "text": "-0.01",
          "x": "PercentSalaryHike",
          "xref": "x",
          "y": "HourlyRate",
          "yref": "y"
         },
         {
          "font": {
           "color": "#000000"
          },
          "showarrow": false,
          "text": "-0.0",
          "x": "TotalWorkingYears",
          "xref": "x",
          "y": "HourlyRate",
          "yref": "y"
         },
         {
          "font": {
           "color": "#000000"
          },
          "showarrow": false,
          "text": "-0.01",
          "x": "TrainingTimesLastYear",
          "xref": "x",
          "y": "HourlyRate",
          "yref": "y"
         },
         {
          "font": {
           "color": "#000000"
          },
          "showarrow": false,
          "text": "-0.02",
          "x": "YearsAtCompany",
          "xref": "x",
          "y": "HourlyRate",
          "yref": "y"
         },
         {
          "font": {
           "color": "#000000"
          },
          "showarrow": false,
          "text": "-0.02",
          "x": "YearsInCurrentRole",
          "xref": "x",
          "y": "HourlyRate",
          "yref": "y"
         },
         {
          "font": {
           "color": "#000000"
          },
          "showarrow": false,
          "text": "-0.03",
          "x": "YearsSinceLastPromotion",
          "xref": "x",
          "y": "HourlyRate",
          "yref": "y"
         },
         {
          "font": {
           "color": "#000000"
          },
          "showarrow": false,
          "text": "-0.02",
          "x": "YearsWithCurrManager",
          "xref": "x",
          "y": "HourlyRate",
          "yref": "y"
         },
         {
          "font": {
           "color": "#FFFFFF"
          },
          "showarrow": false,
          "text": "0.5",
          "x": "Age",
          "xref": "x",
          "y": "MonthlyIncome",
          "yref": "y"
         },
         {
          "font": {
           "color": "#000000"
          },
          "showarrow": false,
          "text": "0.01",
          "x": "DailyRate",
          "xref": "x",
          "y": "MonthlyIncome",
          "yref": "y"
         },
         {
          "font": {
           "color": "#000000"
          },
          "showarrow": false,
          "text": "-0.02",
          "x": "DistanceFromHome",
          "xref": "x",
          "y": "MonthlyIncome",
          "yref": "y"
         },
         {
          "font": {
           "color": "#000000"
          },
          "showarrow": false,
          "text": "-0.02",
          "x": "HourlyRate",
          "xref": "x",
          "y": "MonthlyIncome",
          "yref": "y"
         },
         {
          "font": {
           "color": "#FFFFFF"
          },
          "showarrow": false,
          "text": "1.0",
          "x": "MonthlyIncome",
          "xref": "x",
          "y": "MonthlyIncome",
          "yref": "y"
         },
         {
          "font": {
           "color": "#000000"
          },
          "showarrow": false,
          "text": "0.03",
          "x": "MonthlyRate",
          "xref": "x",
          "y": "MonthlyIncome",
          "yref": "y"
         },
         {
          "font": {
           "color": "#000000"
          },
          "showarrow": false,
          "text": "0.15",
          "x": "NumCompaniesWorked",
          "xref": "x",
          "y": "MonthlyIncome",
          "yref": "y"
         },
         {
          "font": {
           "color": "#000000"
          },
          "showarrow": false,
          "text": "-0.03",
          "x": "PercentSalaryHike",
          "xref": "x",
          "y": "MonthlyIncome",
          "yref": "y"
         },
         {
          "font": {
           "color": "#FFFFFF"
          },
          "showarrow": false,
          "text": "0.77",
          "x": "TotalWorkingYears",
          "xref": "x",
          "y": "MonthlyIncome",
          "yref": "y"
         },
         {
          "font": {
           "color": "#000000"
          },
          "showarrow": false,
          "text": "-0.02",
          "x": "TrainingTimesLastYear",
          "xref": "x",
          "y": "MonthlyIncome",
          "yref": "y"
         },
         {
          "font": {
           "color": "#FFFFFF"
          },
          "showarrow": false,
          "text": "0.51",
          "x": "YearsAtCompany",
          "xref": "x",
          "y": "MonthlyIncome",
          "yref": "y"
         },
         {
          "font": {
           "color": "#000000"
          },
          "showarrow": false,
          "text": "0.36",
          "x": "YearsInCurrentRole",
          "xref": "x",
          "y": "MonthlyIncome",
          "yref": "y"
         },
         {
          "font": {
           "color": "#000000"
          },
          "showarrow": false,
          "text": "0.34",
          "x": "YearsSinceLastPromotion",
          "xref": "x",
          "y": "MonthlyIncome",
          "yref": "y"
         },
         {
          "font": {
           "color": "#000000"
          },
          "showarrow": false,
          "text": "0.34",
          "x": "YearsWithCurrManager",
          "xref": "x",
          "y": "MonthlyIncome",
          "yref": "y"
         },
         {
          "font": {
           "color": "#000000"
          },
          "showarrow": false,
          "text": "0.03",
          "x": "Age",
          "xref": "x",
          "y": "MonthlyRate",
          "yref": "y"
         },
         {
          "font": {
           "color": "#000000"
          },
          "showarrow": false,
          "text": "-0.03",
          "x": "DailyRate",
          "xref": "x",
          "y": "MonthlyRate",
          "yref": "y"
         },
         {
          "font": {
           "color": "#000000"
          },
          "showarrow": false,
          "text": "0.03",
          "x": "DistanceFromHome",
          "xref": "x",
          "y": "MonthlyRate",
          "yref": "y"
         },
         {
          "font": {
           "color": "#000000"
          },
          "showarrow": false,
          "text": "-0.02",
          "x": "HourlyRate",
          "xref": "x",
          "y": "MonthlyRate",
          "yref": "y"
         },
         {
          "font": {
           "color": "#000000"
          },
          "showarrow": false,
          "text": "0.03",
          "x": "MonthlyIncome",
          "xref": "x",
          "y": "MonthlyRate",
          "yref": "y"
         },
         {
          "font": {
           "color": "#FFFFFF"
          },
          "showarrow": false,
          "text": "1.0",
          "x": "MonthlyRate",
          "xref": "x",
          "y": "MonthlyRate",
          "yref": "y"
         },
         {
          "font": {
           "color": "#000000"
          },
          "showarrow": false,
          "text": "0.02",
          "x": "NumCompaniesWorked",
          "xref": "x",
          "y": "MonthlyRate",
          "yref": "y"
         },
         {
          "font": {
           "color": "#000000"
          },
          "showarrow": false,
          "text": "-0.01",
          "x": "PercentSalaryHike",
          "xref": "x",
          "y": "MonthlyRate",
          "yref": "y"
         },
         {
          "font": {
           "color": "#000000"
          },
          "showarrow": false,
          "text": "0.03",
          "x": "TotalWorkingYears",
          "xref": "x",
          "y": "MonthlyRate",
          "yref": "y"
         },
         {
          "font": {
           "color": "#000000"
          },
          "showarrow": false,
          "text": "0.0",
          "x": "TrainingTimesLastYear",
          "xref": "x",
          "y": "MonthlyRate",
          "yref": "y"
         },
         {
          "font": {
           "color": "#000000"
          },
          "showarrow": false,
          "text": "-0.02",
          "x": "YearsAtCompany",
          "xref": "x",
          "y": "MonthlyRate",
          "yref": "y"
         },
         {
          "font": {
           "color": "#000000"
          },
          "showarrow": false,
          "text": "-0.01",
          "x": "YearsInCurrentRole",
          "xref": "x",
          "y": "MonthlyRate",
          "yref": "y"
         },
         {
          "font": {
           "color": "#000000"
          },
          "showarrow": false,
          "text": "0.0",
          "x": "YearsSinceLastPromotion",
          "xref": "x",
          "y": "MonthlyRate",
          "yref": "y"
         },
         {
          "font": {
           "color": "#000000"
          },
          "showarrow": false,
          "text": "-0.04",
          "x": "YearsWithCurrManager",
          "xref": "x",
          "y": "MonthlyRate",
          "yref": "y"
         },
         {
          "font": {
           "color": "#000000"
          },
          "showarrow": false,
          "text": "0.3",
          "x": "Age",
          "xref": "x",
          "y": "NumCompaniesWorked",
          "yref": "y"
         },
         {
          "font": {
           "color": "#000000"
          },
          "showarrow": false,
          "text": "0.04",
          "x": "DailyRate",
          "xref": "x",
          "y": "NumCompaniesWorked",
          "yref": "y"
         },
         {
          "font": {
           "color": "#000000"
          },
          "showarrow": false,
          "text": "-0.03",
          "x": "DistanceFromHome",
          "xref": "x",
          "y": "NumCompaniesWorked",
          "yref": "y"
         },
         {
          "font": {
           "color": "#000000"
          },
          "showarrow": false,
          "text": "0.02",
          "x": "HourlyRate",
          "xref": "x",
          "y": "NumCompaniesWorked",
          "yref": "y"
         },
         {
          "font": {
           "color": "#000000"
          },
          "showarrow": false,
          "text": "0.15",
          "x": "MonthlyIncome",
          "xref": "x",
          "y": "NumCompaniesWorked",
          "yref": "y"
         },
         {
          "font": {
           "color": "#000000"
          },
          "showarrow": false,
          "text": "0.02",
          "x": "MonthlyRate",
          "xref": "x",
          "y": "NumCompaniesWorked",
          "yref": "y"
         },
         {
          "font": {
           "color": "#FFFFFF"
          },
          "showarrow": false,
          "text": "1.0",
          "x": "NumCompaniesWorked",
          "xref": "x",
          "y": "NumCompaniesWorked",
          "yref": "y"
         },
         {
          "font": {
           "color": "#000000"
          },
          "showarrow": false,
          "text": "-0.01",
          "x": "PercentSalaryHike",
          "xref": "x",
          "y": "NumCompaniesWorked",
          "yref": "y"
         },
         {
          "font": {
           "color": "#000000"
          },
          "showarrow": false,
          "text": "0.24",
          "x": "TotalWorkingYears",
          "xref": "x",
          "y": "NumCompaniesWorked",
          "yref": "y"
         },
         {
          "font": {
           "color": "#000000"
          },
          "showarrow": false,
          "text": "-0.07",
          "x": "TrainingTimesLastYear",
          "xref": "x",
          "y": "NumCompaniesWorked",
          "yref": "y"
         },
         {
          "font": {
           "color": "#000000"
          },
          "showarrow": false,
          "text": "-0.12",
          "x": "YearsAtCompany",
          "xref": "x",
          "y": "NumCompaniesWorked",
          "yref": "y"
         },
         {
          "font": {
           "color": "#000000"
          },
          "showarrow": false,
          "text": "-0.09",
          "x": "YearsInCurrentRole",
          "xref": "x",
          "y": "NumCompaniesWorked",
          "yref": "y"
         },
         {
          "font": {
           "color": "#000000"
          },
          "showarrow": false,
          "text": "-0.04",
          "x": "YearsSinceLastPromotion",
          "xref": "x",
          "y": "NumCompaniesWorked",
          "yref": "y"
         },
         {
          "font": {
           "color": "#000000"
          },
          "showarrow": false,
          "text": "-0.11",
          "x": "YearsWithCurrManager",
          "xref": "x",
          "y": "NumCompaniesWorked",
          "yref": "y"
         },
         {
          "font": {
           "color": "#000000"
          },
          "showarrow": false,
          "text": "0.0",
          "x": "Age",
          "xref": "x",
          "y": "PercentSalaryHike",
          "yref": "y"
         },
         {
          "font": {
           "color": "#000000"
          },
          "showarrow": false,
          "text": "0.02",
          "x": "DailyRate",
          "xref": "x",
          "y": "PercentSalaryHike",
          "yref": "y"
         },
         {
          "font": {
           "color": "#000000"
          },
          "showarrow": false,
          "text": "0.04",
          "x": "DistanceFromHome",
          "xref": "x",
          "y": "PercentSalaryHike",
          "yref": "y"
         },
         {
          "font": {
           "color": "#000000"
          },
          "showarrow": false,
          "text": "-0.01",
          "x": "HourlyRate",
          "xref": "x",
          "y": "PercentSalaryHike",
          "yref": "y"
         },
         {
          "font": {
           "color": "#000000"
          },
          "showarrow": false,
          "text": "-0.03",
          "x": "MonthlyIncome",
          "xref": "x",
          "y": "PercentSalaryHike",
          "yref": "y"
         },
         {
          "font": {
           "color": "#000000"
          },
          "showarrow": false,
          "text": "-0.01",
          "x": "MonthlyRate",
          "xref": "x",
          "y": "PercentSalaryHike",
          "yref": "y"
         },
         {
          "font": {
           "color": "#000000"
          },
          "showarrow": false,
          "text": "-0.01",
          "x": "NumCompaniesWorked",
          "xref": "x",
          "y": "PercentSalaryHike",
          "yref": "y"
         },
         {
          "font": {
           "color": "#FFFFFF"
          },
          "showarrow": false,
          "text": "1.0",
          "x": "PercentSalaryHike",
          "xref": "x",
          "y": "PercentSalaryHike",
          "yref": "y"
         },
         {
          "font": {
           "color": "#000000"
          },
          "showarrow": false,
          "text": "-0.02",
          "x": "TotalWorkingYears",
          "xref": "x",
          "y": "PercentSalaryHike",
          "yref": "y"
         },
         {
          "font": {
           "color": "#000000"
          },
          "showarrow": false,
          "text": "-0.01",
          "x": "TrainingTimesLastYear",
          "xref": "x",
          "y": "PercentSalaryHike",
          "yref": "y"
         },
         {
          "font": {
           "color": "#000000"
          },
          "showarrow": false,
          "text": "-0.04",
          "x": "YearsAtCompany",
          "xref": "x",
          "y": "PercentSalaryHike",
          "yref": "y"
         },
         {
          "font": {
           "color": "#000000"
          },
          "showarrow": false,
          "text": "-0.0",
          "x": "YearsInCurrentRole",
          "xref": "x",
          "y": "PercentSalaryHike",
          "yref": "y"
         },
         {
          "font": {
           "color": "#000000"
          },
          "showarrow": false,
          "text": "-0.02",
          "x": "YearsSinceLastPromotion",
          "xref": "x",
          "y": "PercentSalaryHike",
          "yref": "y"
         },
         {
          "font": {
           "color": "#000000"
          },
          "showarrow": false,
          "text": "-0.01",
          "x": "YearsWithCurrManager",
          "xref": "x",
          "y": "PercentSalaryHike",
          "yref": "y"
         },
         {
          "font": {
           "color": "#FFFFFF"
          },
          "showarrow": false,
          "text": "0.68",
          "x": "Age",
          "xref": "x",
          "y": "TotalWorkingYears",
          "yref": "y"
         },
         {
          "font": {
           "color": "#000000"
          },
          "showarrow": false,
          "text": "0.01",
          "x": "DailyRate",
          "xref": "x",
          "y": "TotalWorkingYears",
          "yref": "y"
         },
         {
          "font": {
           "color": "#000000"
          },
          "showarrow": false,
          "text": "0.0",
          "x": "DistanceFromHome",
          "xref": "x",
          "y": "TotalWorkingYears",
          "yref": "y"
         },
         {
          "font": {
           "color": "#000000"
          },
          "showarrow": false,
          "text": "-0.0",
          "x": "HourlyRate",
          "xref": "x",
          "y": "TotalWorkingYears",
          "yref": "y"
         },
         {
          "font": {
           "color": "#FFFFFF"
          },
          "showarrow": false,
          "text": "0.77",
          "x": "MonthlyIncome",
          "xref": "x",
          "y": "TotalWorkingYears",
          "yref": "y"
         },
         {
          "font": {
           "color": "#000000"
          },
          "showarrow": false,
          "text": "0.03",
          "x": "MonthlyRate",
          "xref": "x",
          "y": "TotalWorkingYears",
          "yref": "y"
         },
         {
          "font": {
           "color": "#000000"
          },
          "showarrow": false,
          "text": "0.24",
          "x": "NumCompaniesWorked",
          "xref": "x",
          "y": "TotalWorkingYears",
          "yref": "y"
         },
         {
          "font": {
           "color": "#000000"
          },
          "showarrow": false,
          "text": "-0.02",
          "x": "PercentSalaryHike",
          "xref": "x",
          "y": "TotalWorkingYears",
          "yref": "y"
         },
         {
          "font": {
           "color": "#FFFFFF"
          },
          "showarrow": false,
          "text": "1.0",
          "x": "TotalWorkingYears",
          "xref": "x",
          "y": "TotalWorkingYears",
          "yref": "y"
         },
         {
          "font": {
           "color": "#000000"
          },
          "showarrow": false,
          "text": "-0.04",
          "x": "TrainingTimesLastYear",
          "xref": "x",
          "y": "TotalWorkingYears",
          "yref": "y"
         },
         {
          "font": {
           "color": "#FFFFFF"
          },
          "showarrow": false,
          "text": "0.63",
          "x": "YearsAtCompany",
          "xref": "x",
          "y": "TotalWorkingYears",
          "yref": "y"
         },
         {
          "font": {
           "color": "#FFFFFF"
          },
          "showarrow": false,
          "text": "0.46",
          "x": "YearsInCurrentRole",
          "xref": "x",
          "y": "TotalWorkingYears",
          "yref": "y"
         },
         {
          "font": {
           "color": "#000000"
          },
          "showarrow": false,
          "text": "0.4",
          "x": "YearsSinceLastPromotion",
          "xref": "x",
          "y": "TotalWorkingYears",
          "yref": "y"
         },
         {
          "font": {
           "color": "#FFFFFF"
          },
          "showarrow": false,
          "text": "0.46",
          "x": "YearsWithCurrManager",
          "xref": "x",
          "y": "TotalWorkingYears",
          "yref": "y"
         },
         {
          "font": {
           "color": "#000000"
          },
          "showarrow": false,
          "text": "-0.02",
          "x": "Age",
          "xref": "x",
          "y": "TrainingTimesLastYear",
          "yref": "y"
         },
         {
          "font": {
           "color": "#000000"
          },
          "showarrow": false,
          "text": "0.0",
          "x": "DailyRate",
          "xref": "x",
          "y": "TrainingTimesLastYear",
          "yref": "y"
         },
         {
          "font": {
           "color": "#000000"
          },
          "showarrow": false,
          "text": "-0.04",
          "x": "DistanceFromHome",
          "xref": "x",
          "y": "TrainingTimesLastYear",
          "yref": "y"
         },
         {
          "font": {
           "color": "#000000"
          },
          "showarrow": false,
          "text": "-0.01",
          "x": "HourlyRate",
          "xref": "x",
          "y": "TrainingTimesLastYear",
          "yref": "y"
         },
         {
          "font": {
           "color": "#000000"
          },
          "showarrow": false,
          "text": "-0.02",
          "x": "MonthlyIncome",
          "xref": "x",
          "y": "TrainingTimesLastYear",
          "yref": "y"
         },
         {
          "font": {
           "color": "#000000"
          },
          "showarrow": false,
          "text": "0.0",
          "x": "MonthlyRate",
          "xref": "x",
          "y": "TrainingTimesLastYear",
          "yref": "y"
         },
         {
          "font": {
           "color": "#000000"
          },
          "showarrow": false,
          "text": "-0.07",
          "x": "NumCompaniesWorked",
          "xref": "x",
          "y": "TrainingTimesLastYear",
          "yref": "y"
         },
         {
          "font": {
           "color": "#000000"
          },
          "showarrow": false,
          "text": "-0.01",
          "x": "PercentSalaryHike",
          "xref": "x",
          "y": "TrainingTimesLastYear",
          "yref": "y"
         },
         {
          "font": {
           "color": "#000000"
          },
          "showarrow": false,
          "text": "-0.04",
          "x": "TotalWorkingYears",
          "xref": "x",
          "y": "TrainingTimesLastYear",
          "yref": "y"
         },
         {
          "font": {
           "color": "#FFFFFF"
          },
          "showarrow": false,
          "text": "1.0",
          "x": "TrainingTimesLastYear",
          "xref": "x",
          "y": "TrainingTimesLastYear",
          "yref": "y"
         },
         {
          "font": {
           "color": "#000000"
          },
          "showarrow": false,
          "text": "0.0",
          "x": "YearsAtCompany",
          "xref": "x",
          "y": "TrainingTimesLastYear",
          "yref": "y"
         },
         {
          "font": {
           "color": "#000000"
          },
          "showarrow": false,
          "text": "-0.01",
          "x": "YearsInCurrentRole",
          "xref": "x",
          "y": "TrainingTimesLastYear",
          "yref": "y"
         },
         {
          "font": {
           "color": "#000000"
          },
          "showarrow": false,
          "text": "-0.0",
          "x": "YearsSinceLastPromotion",
          "xref": "x",
          "y": "TrainingTimesLastYear",
          "yref": "y"
         },
         {
          "font": {
           "color": "#000000"
          },
          "showarrow": false,
          "text": "-0.0",
          "x": "YearsWithCurrManager",
          "xref": "x",
          "y": "TrainingTimesLastYear",
          "yref": "y"
         },
         {
          "font": {
           "color": "#000000"
          },
          "showarrow": false,
          "text": "0.31",
          "x": "Age",
          "xref": "x",
          "y": "YearsAtCompany",
          "yref": "y"
         },
         {
          "font": {
           "color": "#000000"
          },
          "showarrow": false,
          "text": "-0.03",
          "x": "DailyRate",
          "xref": "x",
          "y": "YearsAtCompany",
          "yref": "y"
         },
         {
          "font": {
           "color": "#000000"
          },
          "showarrow": false,
          "text": "0.01",
          "x": "DistanceFromHome",
          "xref": "x",
          "y": "YearsAtCompany",
          "yref": "y"
         },
         {
          "font": {
           "color": "#000000"
          },
          "showarrow": false,
          "text": "-0.02",
          "x": "HourlyRate",
          "xref": "x",
          "y": "YearsAtCompany",
          "yref": "y"
         },
         {
          "font": {
           "color": "#FFFFFF"
          },
          "showarrow": false,
          "text": "0.51",
          "x": "MonthlyIncome",
          "xref": "x",
          "y": "YearsAtCompany",
          "yref": "y"
         },
         {
          "font": {
           "color": "#000000"
          },
          "showarrow": false,
          "text": "-0.02",
          "x": "MonthlyRate",
          "xref": "x",
          "y": "YearsAtCompany",
          "yref": "y"
         },
         {
          "font": {
           "color": "#000000"
          },
          "showarrow": false,
          "text": "-0.12",
          "x": "NumCompaniesWorked",
          "xref": "x",
          "y": "YearsAtCompany",
          "yref": "y"
         },
         {
          "font": {
           "color": "#000000"
          },
          "showarrow": false,
          "text": "-0.04",
          "x": "PercentSalaryHike",
          "xref": "x",
          "y": "YearsAtCompany",
          "yref": "y"
         },
         {
          "font": {
           "color": "#FFFFFF"
          },
          "showarrow": false,
          "text": "0.63",
          "x": "TotalWorkingYears",
          "xref": "x",
          "y": "YearsAtCompany",
          "yref": "y"
         },
         {
          "font": {
           "color": "#000000"
          },
          "showarrow": false,
          "text": "0.0",
          "x": "TrainingTimesLastYear",
          "xref": "x",
          "y": "YearsAtCompany",
          "yref": "y"
         },
         {
          "font": {
           "color": "#FFFFFF"
          },
          "showarrow": false,
          "text": "1.0",
          "x": "YearsAtCompany",
          "xref": "x",
          "y": "YearsAtCompany",
          "yref": "y"
         },
         {
          "font": {
           "color": "#FFFFFF"
          },
          "showarrow": false,
          "text": "0.76",
          "x": "YearsInCurrentRole",
          "xref": "x",
          "y": "YearsAtCompany",
          "yref": "y"
         },
         {
          "font": {
           "color": "#FFFFFF"
          },
          "showarrow": false,
          "text": "0.62",
          "x": "YearsSinceLastPromotion",
          "xref": "x",
          "y": "YearsAtCompany",
          "yref": "y"
         },
         {
          "font": {
           "color": "#FFFFFF"
          },
          "showarrow": false,
          "text": "0.77",
          "x": "YearsWithCurrManager",
          "xref": "x",
          "y": "YearsAtCompany",
          "yref": "y"
         },
         {
          "font": {
           "color": "#000000"
          },
          "showarrow": false,
          "text": "0.21",
          "x": "Age",
          "xref": "x",
          "y": "YearsInCurrentRole",
          "yref": "y"
         },
         {
          "font": {
           "color": "#000000"
          },
          "showarrow": false,
          "text": "0.01",
          "x": "DailyRate",
          "xref": "x",
          "y": "YearsInCurrentRole",
          "yref": "y"
         },
         {
          "font": {
           "color": "#000000"
          },
          "showarrow": false,
          "text": "0.02",
          "x": "DistanceFromHome",
          "xref": "x",
          "y": "YearsInCurrentRole",
          "yref": "y"
         },
         {
          "font": {
           "color": "#000000"
          },
          "showarrow": false,
          "text": "-0.02",
          "x": "HourlyRate",
          "xref": "x",
          "y": "YearsInCurrentRole",
          "yref": "y"
         },
         {
          "font": {
           "color": "#000000"
          },
          "showarrow": false,
          "text": "0.36",
          "x": "MonthlyIncome",
          "xref": "x",
          "y": "YearsInCurrentRole",
          "yref": "y"
         },
         {
          "font": {
           "color": "#000000"
          },
          "showarrow": false,
          "text": "-0.01",
          "x": "MonthlyRate",
          "xref": "x",
          "y": "YearsInCurrentRole",
          "yref": "y"
         },
         {
          "font": {
           "color": "#000000"
          },
          "showarrow": false,
          "text": "-0.09",
          "x": "NumCompaniesWorked",
          "xref": "x",
          "y": "YearsInCurrentRole",
          "yref": "y"
         },
         {
          "font": {
           "color": "#000000"
          },
          "showarrow": false,
          "text": "-0.0",
          "x": "PercentSalaryHike",
          "xref": "x",
          "y": "YearsInCurrentRole",
          "yref": "y"
         },
         {
          "font": {
           "color": "#FFFFFF"
          },
          "showarrow": false,
          "text": "0.46",
          "x": "TotalWorkingYears",
          "xref": "x",
          "y": "YearsInCurrentRole",
          "yref": "y"
         },
         {
          "font": {
           "color": "#000000"
          },
          "showarrow": false,
          "text": "-0.01",
          "x": "TrainingTimesLastYear",
          "xref": "x",
          "y": "YearsInCurrentRole",
          "yref": "y"
         },
         {
          "font": {
           "color": "#FFFFFF"
          },
          "showarrow": false,
          "text": "0.76",
          "x": "YearsAtCompany",
          "xref": "x",
          "y": "YearsInCurrentRole",
          "yref": "y"
         },
         {
          "font": {
           "color": "#FFFFFF"
          },
          "showarrow": false,
          "text": "1.0",
          "x": "YearsInCurrentRole",
          "xref": "x",
          "y": "YearsInCurrentRole",
          "yref": "y"
         },
         {
          "font": {
           "color": "#FFFFFF"
          },
          "showarrow": false,
          "text": "0.55",
          "x": "YearsSinceLastPromotion",
          "xref": "x",
          "y": "YearsInCurrentRole",
          "yref": "y"
         },
         {
          "font": {
           "color": "#FFFFFF"
          },
          "showarrow": false,
          "text": "0.71",
          "x": "YearsWithCurrManager",
          "xref": "x",
          "y": "YearsInCurrentRole",
          "yref": "y"
         },
         {
          "font": {
           "color": "#000000"
          },
          "showarrow": false,
          "text": "0.22",
          "x": "Age",
          "xref": "x",
          "y": "YearsSinceLastPromotion",
          "yref": "y"
         },
         {
          "font": {
           "color": "#000000"
          },
          "showarrow": false,
          "text": "-0.03",
          "x": "DailyRate",
          "xref": "x",
          "y": "YearsSinceLastPromotion",
          "yref": "y"
         },
         {
          "font": {
           "color": "#000000"
          },
          "showarrow": false,
          "text": "0.01",
          "x": "DistanceFromHome",
          "xref": "x",
          "y": "YearsSinceLastPromotion",
          "yref": "y"
         },
         {
          "font": {
           "color": "#000000"
          },
          "showarrow": false,
          "text": "-0.03",
          "x": "HourlyRate",
          "xref": "x",
          "y": "YearsSinceLastPromotion",
          "yref": "y"
         },
         {
          "font": {
           "color": "#000000"
          },
          "showarrow": false,
          "text": "0.34",
          "x": "MonthlyIncome",
          "xref": "x",
          "y": "YearsSinceLastPromotion",
          "yref": "y"
         },
         {
          "font": {
           "color": "#000000"
          },
          "showarrow": false,
          "text": "0.0",
          "x": "MonthlyRate",
          "xref": "x",
          "y": "YearsSinceLastPromotion",
          "yref": "y"
         },
         {
          "font": {
           "color": "#000000"
          },
          "showarrow": false,
          "text": "-0.04",
          "x": "NumCompaniesWorked",
          "xref": "x",
          "y": "YearsSinceLastPromotion",
          "yref": "y"
         },
         {
          "font": {
           "color": "#000000"
          },
          "showarrow": false,
          "text": "-0.02",
          "x": "PercentSalaryHike",
          "xref": "x",
          "y": "YearsSinceLastPromotion",
          "yref": "y"
         },
         {
          "font": {
           "color": "#000000"
          },
          "showarrow": false,
          "text": "0.4",
          "x": "TotalWorkingYears",
          "xref": "x",
          "y": "YearsSinceLastPromotion",
          "yref": "y"
         },
         {
          "font": {
           "color": "#000000"
          },
          "showarrow": false,
          "text": "-0.0",
          "x": "TrainingTimesLastYear",
          "xref": "x",
          "y": "YearsSinceLastPromotion",
          "yref": "y"
         },
         {
          "font": {
           "color": "#FFFFFF"
          },
          "showarrow": false,
          "text": "0.62",
          "x": "YearsAtCompany",
          "xref": "x",
          "y": "YearsSinceLastPromotion",
          "yref": "y"
         },
         {
          "font": {
           "color": "#FFFFFF"
          },
          "showarrow": false,
          "text": "0.55",
          "x": "YearsInCurrentRole",
          "xref": "x",
          "y": "YearsSinceLastPromotion",
          "yref": "y"
         },
         {
          "font": {
           "color": "#FFFFFF"
          },
          "showarrow": false,
          "text": "1.0",
          "x": "YearsSinceLastPromotion",
          "xref": "x",
          "y": "YearsSinceLastPromotion",
          "yref": "y"
         },
         {
          "font": {
           "color": "#FFFFFF"
          },
          "showarrow": false,
          "text": "0.51",
          "x": "YearsWithCurrManager",
          "xref": "x",
          "y": "YearsSinceLastPromotion",
          "yref": "y"
         },
         {
          "font": {
           "color": "#000000"
          },
          "showarrow": false,
          "text": "0.2",
          "x": "Age",
          "xref": "x",
          "y": "YearsWithCurrManager",
          "yref": "y"
         },
         {
          "font": {
           "color": "#000000"
          },
          "showarrow": false,
          "text": "-0.03",
          "x": "DailyRate",
          "xref": "x",
          "y": "YearsWithCurrManager",
          "yref": "y"
         },
         {
          "font": {
           "color": "#000000"
          },
          "showarrow": false,
          "text": "0.01",
          "x": "DistanceFromHome",
          "xref": "x",
          "y": "YearsWithCurrManager",
          "yref": "y"
         },
         {
          "font": {
           "color": "#000000"
          },
          "showarrow": false,
          "text": "-0.02",
          "x": "HourlyRate",
          "xref": "x",
          "y": "YearsWithCurrManager",
          "yref": "y"
         },
         {
          "font": {
           "color": "#000000"
          },
          "showarrow": false,
          "text": "0.34",
          "x": "MonthlyIncome",
          "xref": "x",
          "y": "YearsWithCurrManager",
          "yref": "y"
         },
         {
          "font": {
           "color": "#000000"
          },
          "showarrow": false,
          "text": "-0.04",
          "x": "MonthlyRate",
          "xref": "x",
          "y": "YearsWithCurrManager",
          "yref": "y"
         },
         {
          "font": {
           "color": "#000000"
          },
          "showarrow": false,
          "text": "-0.11",
          "x": "NumCompaniesWorked",
          "xref": "x",
          "y": "YearsWithCurrManager",
          "yref": "y"
         },
         {
          "font": {
           "color": "#000000"
          },
          "showarrow": false,
          "text": "-0.01",
          "x": "PercentSalaryHike",
          "xref": "x",
          "y": "YearsWithCurrManager",
          "yref": "y"
         },
         {
          "font": {
           "color": "#FFFFFF"
          },
          "showarrow": false,
          "text": "0.46",
          "x": "TotalWorkingYears",
          "xref": "x",
          "y": "YearsWithCurrManager",
          "yref": "y"
         },
         {
          "font": {
           "color": "#000000"
          },
          "showarrow": false,
          "text": "-0.0",
          "x": "TrainingTimesLastYear",
          "xref": "x",
          "y": "YearsWithCurrManager",
          "yref": "y"
         },
         {
          "font": {
           "color": "#FFFFFF"
          },
          "showarrow": false,
          "text": "0.77",
          "x": "YearsAtCompany",
          "xref": "x",
          "y": "YearsWithCurrManager",
          "yref": "y"
         },
         {
          "font": {
           "color": "#FFFFFF"
          },
          "showarrow": false,
          "text": "0.71",
          "x": "YearsInCurrentRole",
          "xref": "x",
          "y": "YearsWithCurrManager",
          "yref": "y"
         },
         {
          "font": {
           "color": "#FFFFFF"
          },
          "showarrow": false,
          "text": "0.51",
          "x": "YearsSinceLastPromotion",
          "xref": "x",
          "y": "YearsWithCurrManager",
          "yref": "y"
         },
         {
          "font": {
           "color": "#FFFFFF"
          },
          "showarrow": false,
          "text": "1.0",
          "x": "YearsWithCurrManager",
          "xref": "x",
          "y": "YearsWithCurrManager",
          "yref": "y"
         }
        ],
        "font": {
         "color": "#28221D"
        },
        "height": 600,
        "margin": {
         "t": 180
        },
        "template": {
         "data": {
          "bar": [
           {
            "error_x": {
             "color": "#2a3f5f"
            },
            "error_y": {
             "color": "#2a3f5f"
            },
            "marker": {
             "line": {
              "color": "#E5ECF6",
              "width": 0.5
             },
             "pattern": {
              "fillmode": "overlay",
              "size": 10,
              "solidity": 0.2
             }
            },
            "type": "bar"
           }
          ],
          "barpolar": [
           {
            "marker": {
             "line": {
              "color": "#E5ECF6",
              "width": 0.5
             },
             "pattern": {
              "fillmode": "overlay",
              "size": 10,
              "solidity": 0.2
             }
            },
            "type": "barpolar"
           }
          ],
          "carpet": [
           {
            "aaxis": {
             "endlinecolor": "#2a3f5f",
             "gridcolor": "white",
             "linecolor": "white",
             "minorgridcolor": "white",
             "startlinecolor": "#2a3f5f"
            },
            "baxis": {
             "endlinecolor": "#2a3f5f",
             "gridcolor": "white",
             "linecolor": "white",
             "minorgridcolor": "white",
             "startlinecolor": "#2a3f5f"
            },
            "type": "carpet"
           }
          ],
          "choropleth": [
           {
            "colorbar": {
             "outlinewidth": 0,
             "ticks": ""
            },
            "type": "choropleth"
           }
          ],
          "contour": [
           {
            "colorbar": {
             "outlinewidth": 0,
             "ticks": ""
            },
            "colorscale": [
             [
              0,
              "#0d0887"
             ],
             [
              0.1111111111111111,
              "#46039f"
             ],
             [
              0.2222222222222222,
              "#7201a8"
             ],
             [
              0.3333333333333333,
              "#9c179e"
             ],
             [
              0.4444444444444444,
              "#bd3786"
             ],
             [
              0.5555555555555556,
              "#d8576b"
             ],
             [
              0.6666666666666666,
              "#ed7953"
             ],
             [
              0.7777777777777778,
              "#fb9f3a"
             ],
             [
              0.8888888888888888,
              "#fdca26"
             ],
             [
              1,
              "#f0f921"
             ]
            ],
            "type": "contour"
           }
          ],
          "contourcarpet": [
           {
            "colorbar": {
             "outlinewidth": 0,
             "ticks": ""
            },
            "type": "contourcarpet"
           }
          ],
          "heatmap": [
           {
            "colorbar": {
             "outlinewidth": 0,
             "ticks": ""
            },
            "colorscale": [
             [
              0,
              "#0d0887"
             ],
             [
              0.1111111111111111,
              "#46039f"
             ],
             [
              0.2222222222222222,
              "#7201a8"
             ],
             [
              0.3333333333333333,
              "#9c179e"
             ],
             [
              0.4444444444444444,
              "#bd3786"
             ],
             [
              0.5555555555555556,
              "#d8576b"
             ],
             [
              0.6666666666666666,
              "#ed7953"
             ],
             [
              0.7777777777777778,
              "#fb9f3a"
             ],
             [
              0.8888888888888888,
              "#fdca26"
             ],
             [
              1,
              "#f0f921"
             ]
            ],
            "type": "heatmap"
           }
          ],
          "histogram": [
           {
            "marker": {
             "pattern": {
              "fillmode": "overlay",
              "size": 10,
              "solidity": 0.2
             }
            },
            "type": "histogram"
           }
          ],
          "histogram2d": [
           {
            "colorbar": {
             "outlinewidth": 0,
             "ticks": ""
            },
            "colorscale": [
             [
              0,
              "#0d0887"
             ],
             [
              0.1111111111111111,
              "#46039f"
             ],
             [
              0.2222222222222222,
              "#7201a8"
             ],
             [
              0.3333333333333333,
              "#9c179e"
             ],
             [
              0.4444444444444444,
              "#bd3786"
             ],
             [
              0.5555555555555556,
              "#d8576b"
             ],
             [
              0.6666666666666666,
              "#ed7953"
             ],
             [
              0.7777777777777778,
              "#fb9f3a"
             ],
             [
              0.8888888888888888,
              "#fdca26"
             ],
             [
              1,
              "#f0f921"
             ]
            ],
            "type": "histogram2d"
           }
          ],
          "histogram2dcontour": [
           {
            "colorbar": {
             "outlinewidth": 0,
             "ticks": ""
            },
            "colorscale": [
             [
              0,
              "#0d0887"
             ],
             [
              0.1111111111111111,
              "#46039f"
             ],
             [
              0.2222222222222222,
              "#7201a8"
             ],
             [
              0.3333333333333333,
              "#9c179e"
             ],
             [
              0.4444444444444444,
              "#bd3786"
             ],
             [
              0.5555555555555556,
              "#d8576b"
             ],
             [
              0.6666666666666666,
              "#ed7953"
             ],
             [
              0.7777777777777778,
              "#fb9f3a"
             ],
             [
              0.8888888888888888,
              "#fdca26"
             ],
             [
              1,
              "#f0f921"
             ]
            ],
            "type": "histogram2dcontour"
           }
          ],
          "mesh3d": [
           {
            "colorbar": {
             "outlinewidth": 0,
             "ticks": ""
            },
            "type": "mesh3d"
           }
          ],
          "parcoords": [
           {
            "line": {
             "colorbar": {
              "outlinewidth": 0,
              "ticks": ""
             }
            },
            "type": "parcoords"
           }
          ],
          "pie": [
           {
            "automargin": true,
            "type": "pie"
           }
          ],
          "scatter": [
           {
            "fillpattern": {
             "fillmode": "overlay",
             "size": 10,
             "solidity": 0.2
            },
            "type": "scatter"
           }
          ],
          "scatter3d": [
           {
            "line": {
             "colorbar": {
              "outlinewidth": 0,
              "ticks": ""
             }
            },
            "marker": {
             "colorbar": {
              "outlinewidth": 0,
              "ticks": ""
             }
            },
            "type": "scatter3d"
           }
          ],
          "scattercarpet": [
           {
            "marker": {
             "colorbar": {
              "outlinewidth": 0,
              "ticks": ""
             }
            },
            "type": "scattercarpet"
           }
          ],
          "scattergeo": [
           {
            "marker": {
             "colorbar": {
              "outlinewidth": 0,
              "ticks": ""
             }
            },
            "type": "scattergeo"
           }
          ],
          "scattergl": [
           {
            "marker": {
             "colorbar": {
              "outlinewidth": 0,
              "ticks": ""
             }
            },
            "type": "scattergl"
           }
          ],
          "scattermap": [
           {
            "marker": {
             "colorbar": {
              "outlinewidth": 0,
              "ticks": ""
             }
            },
            "type": "scattermap"
           }
          ],
          "scattermapbox": [
           {
            "marker": {
             "colorbar": {
              "outlinewidth": 0,
              "ticks": ""
             }
            },
            "type": "scattermapbox"
           }
          ],
          "scatterpolar": [
           {
            "marker": {
             "colorbar": {
              "outlinewidth": 0,
              "ticks": ""
             }
            },
            "type": "scatterpolar"
           }
          ],
          "scatterpolargl": [
           {
            "marker": {
             "colorbar": {
              "outlinewidth": 0,
              "ticks": ""
             }
            },
            "type": "scatterpolargl"
           }
          ],
          "scatterternary": [
           {
            "marker": {
             "colorbar": {
              "outlinewidth": 0,
              "ticks": ""
             }
            },
            "type": "scatterternary"
           }
          ],
          "surface": [
           {
            "colorbar": {
             "outlinewidth": 0,
             "ticks": ""
            },
            "colorscale": [
             [
              0,
              "#0d0887"
             ],
             [
              0.1111111111111111,
              "#46039f"
             ],
             [
              0.2222222222222222,
              "#7201a8"
             ],
             [
              0.3333333333333333,
              "#9c179e"
             ],
             [
              0.4444444444444444,
              "#bd3786"
             ],
             [
              0.5555555555555556,
              "#d8576b"
             ],
             [
              0.6666666666666666,
              "#ed7953"
             ],
             [
              0.7777777777777778,
              "#fb9f3a"
             ],
             [
              0.8888888888888888,
              "#fdca26"
             ],
             [
              1,
              "#f0f921"
             ]
            ],
            "type": "surface"
           }
          ],
          "table": [
           {
            "cells": {
             "fill": {
              "color": "#EBF0F8"
             },
             "line": {
              "color": "white"
             }
            },
            "header": {
             "fill": {
              "color": "#C8D4E3"
             },
             "line": {
              "color": "white"
             }
            },
            "type": "table"
           }
          ]
         },
         "layout": {
          "annotationdefaults": {
           "arrowcolor": "#2a3f5f",
           "arrowhead": 0,
           "arrowwidth": 1
          },
          "autotypenumbers": "strict",
          "coloraxis": {
           "colorbar": {
            "outlinewidth": 0,
            "ticks": ""
           }
          },
          "colorscale": {
           "diverging": [
            [
             0,
             "#8e0152"
            ],
            [
             0.1,
             "#c51b7d"
            ],
            [
             0.2,
             "#de77ae"
            ],
            [
             0.3,
             "#f1b6da"
            ],
            [
             0.4,
             "#fde0ef"
            ],
            [
             0.5,
             "#f7f7f7"
            ],
            [
             0.6,
             "#e6f5d0"
            ],
            [
             0.7,
             "#b8e186"
            ],
            [
             0.8,
             "#7fbc41"
            ],
            [
             0.9,
             "#4d9221"
            ],
            [
             1,
             "#276419"
            ]
           ],
           "sequential": [
            [
             0,
             "#0d0887"
            ],
            [
             0.1111111111111111,
             "#46039f"
            ],
            [
             0.2222222222222222,
             "#7201a8"
            ],
            [
             0.3333333333333333,
             "#9c179e"
            ],
            [
             0.4444444444444444,
             "#bd3786"
            ],
            [
             0.5555555555555556,
             "#d8576b"
            ],
            [
             0.6666666666666666,
             "#ed7953"
            ],
            [
             0.7777777777777778,
             "#fb9f3a"
            ],
            [
             0.8888888888888888,
             "#fdca26"
            ],
            [
             1,
             "#f0f921"
            ]
           ],
           "sequentialminus": [
            [
             0,
             "#0d0887"
            ],
            [
             0.1111111111111111,
             "#46039f"
            ],
            [
             0.2222222222222222,
             "#7201a8"
            ],
            [
             0.3333333333333333,
             "#9c179e"
            ],
            [
             0.4444444444444444,
             "#bd3786"
            ],
            [
             0.5555555555555556,
             "#d8576b"
            ],
            [
             0.6666666666666666,
             "#ed7953"
            ],
            [
             0.7777777777777778,
             "#fb9f3a"
            ],
            [
             0.8888888888888888,
             "#fdca26"
            ],
            [
             1,
             "#f0f921"
            ]
           ]
          },
          "colorway": [
           "#636efa",
           "#EF553B",
           "#00cc96",
           "#ab63fa",
           "#FFA15A",
           "#19d3f3",
           "#FF6692",
           "#B6E880",
           "#FF97FF",
           "#FECB52"
          ],
          "font": {
           "color": "#2a3f5f"
          },
          "geo": {
           "bgcolor": "white",
           "lakecolor": "white",
           "landcolor": "#E5ECF6",
           "showlakes": true,
           "showland": true,
           "subunitcolor": "white"
          },
          "hoverlabel": {
           "align": "left"
          },
          "hovermode": "closest",
          "mapbox": {
           "style": "light"
          },
          "paper_bgcolor": "white",
          "plot_bgcolor": "#E5ECF6",
          "polar": {
           "angularaxis": {
            "gridcolor": "white",
            "linecolor": "white",
            "ticks": ""
           },
           "bgcolor": "#E5ECF6",
           "radialaxis": {
            "gridcolor": "white",
            "linecolor": "white",
            "ticks": ""
           }
          },
          "scene": {
           "xaxis": {
            "backgroundcolor": "#E5ECF6",
            "gridcolor": "white",
            "gridwidth": 2,
            "linecolor": "white",
            "showbackground": true,
            "ticks": "",
            "zerolinecolor": "white"
           },
           "yaxis": {
            "backgroundcolor": "#E5ECF6",
            "gridcolor": "white",
            "gridwidth": 2,
            "linecolor": "white",
            "showbackground": true,
            "ticks": "",
            "zerolinecolor": "white"
           },
           "zaxis": {
            "backgroundcolor": "#E5ECF6",
            "gridcolor": "white",
            "gridwidth": 2,
            "linecolor": "white",
            "showbackground": true,
            "ticks": "",
            "zerolinecolor": "white"
           }
          },
          "shapedefaults": {
           "line": {
            "color": "#2a3f5f"
           }
          },
          "ternary": {
           "aaxis": {
            "gridcolor": "white",
            "linecolor": "white",
            "ticks": ""
           },
           "baxis": {
            "gridcolor": "white",
            "linecolor": "white",
            "ticks": ""
           },
           "bgcolor": "#E5ECF6",
           "caxis": {
            "gridcolor": "white",
            "linecolor": "white",
            "ticks": ""
           }
          },
          "title": {
           "x": 0.05
          },
          "xaxis": {
           "automargin": true,
           "gridcolor": "white",
           "linecolor": "white",
           "ticks": "",
           "title": {
            "standoff": 15
           },
           "zerolinecolor": "white",
           "zerolinewidth": 2
          },
          "yaxis": {
           "automargin": true,
           "gridcolor": "white",
           "linecolor": "white",
           "ticks": "",
           "title": {
            "standoff": 15
           },
           "zerolinecolor": "white",
           "zerolinewidth": 2
          }
         }
        },
        "title": {
         "text": "Correlation Matrix of Employee Attrition"
        },
        "xaxis": {
         "dtick": 1,
         "gridcolor": "rgb(0, 0, 0)",
         "side": "top",
         "ticks": ""
        },
        "yaxis": {
         "autorange": "reversed",
         "dtick": 1,
         "ticks": "",
         "ticksuffix": "  "
        }
       }
      }
     },
     "metadata": {},
     "output_type": "display_data"
    }
   ],
   "source": [
    "cat_cols=[]\n",
    "for i in data.columns:\n",
    "    if data[i].nunique() <= 5 or data[i].dtype == object:\n",
    "        cat_cols.append(i)\n",
    "df=data.copy()\n",
    "df.drop(df[cat_cols], axis=1, inplace=True)\n",
    "df.drop('EmployeeNumber', axis=1, inplace=True)\n",
    "corr=df.corr().round(2)\n",
    "x=corr.index.tolist()\n",
    "y=corr.columns.tolist()\n",
    "z=corr.to_numpy()\n",
    "fig = ff.create_annotated_heatmap(z=z, x=x, y=y, annotation_text=z, name='',\n",
    "                                  hovertemplate=\"Correlation between %{x} and %{y}= %{z}\",\n",
    "                                  colorscale='GnBu')\n",
    "fig.update_yaxes(autorange=\"reversed\")\n",
    "fig.update_layout(title=\"Correlation Matrix of Employee Attrition\", \n",
    "                  font_color='#28221D',margin=dict(t=180),height=600)\n",
    "fig.show()"
   ]
  },
  {
   "cell_type": "markdown",
   "id": "4aa5e5ab",
   "metadata": {},
   "source": [
    "## Preprocessing for Predict"
   ]
  },
  {
   "cell_type": "code",
   "execution_count": 176,
   "id": "bd4e1331",
   "metadata": {},
   "outputs": [
    {
     "name": "stdout",
     "output_type": "stream",
     "text": [
      "Dropping variables with zero variance: ['EmployeeCount', 'Over18', 'StandardHours']\n"
     ]
    },
    {
     "data": {
      "text/plain": [
       "(1470, 32)"
      ]
     },
     "execution_count": 176,
     "metadata": {},
     "output_type": "execute_result"
    }
   ],
   "source": [
    "# Checking for variables with 0 variance\n",
    "norm_df=data.copy()\n",
    "nzv=[]\n",
    "for i in norm_df[cat_cols]:\n",
    "    norm_df[i]=pd.factorize(norm_df[i])[0]\n",
    "for i in norm_df.columns:\n",
    "    if stdev(norm_df[i]) == 0.0:\n",
    "        nzv.append(i)\n",
    "\n",
    "# Converting cols to category\n",
    "for i in data[cat_cols]:\n",
    "    if i=='Attrition':\n",
    "        continue\n",
    "    data[i] = pd.Categorical(data[i])\n",
    "\n",
    "# Removing variables with 0 variance and Employee Number\n",
    "print(\"Dropping variables with zero variance:\", nzv)\n",
    "data.drop(data[nzv], axis=1, inplace=True)\n",
    "data.drop('EmployeeNumber', axis=1, inplace=True)\n",
    "df=data.copy()\n",
    "df.shape"
   ]
  },
  {
   "cell_type": "code",
   "execution_count": 177,
   "id": "c7828ecb",
   "metadata": {},
   "outputs": [
    {
     "name": "stdout",
     "output_type": "stream",
     "text": [
      "\n",
      "Summary Statistics:\n"
     ]
    },
    {
     "name": "stderr",
     "output_type": "stream",
     "text": [
      "c:\\Users\\EliteBook 640 G11\\AppData\\Local\\Programs\\Python\\Python313\\Lib\\site-packages\\researchpy\\ttest.py:301: FutureWarning:\n",
      "\n",
      "Setting an item of incompatible dtype is deprecated and will raise an error in a future version of pandas. Value 'Former Employees' has dtype incompatible with float64, please explicitly cast to a compatible dtype first.\n",
      "\n",
      "c:\\Users\\EliteBook 640 G11\\AppData\\Local\\Programs\\Python\\Python313\\Lib\\site-packages\\researchpy\\ttest.py:460: FutureWarning:\n",
      "\n",
      "Setting an item of incompatible dtype is deprecated and will raise an error in a future version of pandas. Value 'Difference (Former Employees - Current Employees) = ' has dtype incompatible with float64, please explicitly cast to a compatible dtype first.\n",
      "\n"
     ]
    },
    {
     "data": {
      "text/html": [
       "<div>\n",
       "<style scoped>\n",
       "    .dataframe tbody tr th:only-of-type {\n",
       "        vertical-align: middle;\n",
       "    }\n",
       "\n",
       "    .dataframe tbody tr th {\n",
       "        vertical-align: top;\n",
       "    }\n",
       "\n",
       "    .dataframe thead th {\n",
       "        text-align: right;\n",
       "    }\n",
       "</style>\n",
       "<table border=\"1\" class=\"dataframe\">\n",
       "  <thead>\n",
       "    <tr style=\"text-align: right;\">\n",
       "      <th></th>\n",
       "      <th>Variable</th>\n",
       "      <th>N</th>\n",
       "      <th>Mean</th>\n",
       "      <th>SD</th>\n",
       "      <th>SE</th>\n",
       "      <th>95% Conf.</th>\n",
       "      <th>Interval</th>\n",
       "    </tr>\n",
       "  </thead>\n",
       "  <tbody>\n",
       "    <tr>\n",
       "      <th>0</th>\n",
       "      <td>Former Employees</td>\n",
       "      <td>237.0</td>\n",
       "      <td>4787.092827</td>\n",
       "      <td>3640.210367</td>\n",
       "      <td>236.457073</td>\n",
       "      <td>4321.256585</td>\n",
       "      <td>5252.929069</td>\n",
       "    </tr>\n",
       "    <tr>\n",
       "      <th>1</th>\n",
       "      <td>Current Employees</td>\n",
       "      <td>1233.0</td>\n",
       "      <td>6832.739659</td>\n",
       "      <td>4818.208001</td>\n",
       "      <td>137.215763</td>\n",
       "      <td>6563.537235</td>\n",
       "      <td>7101.942084</td>\n",
       "    </tr>\n",
       "    <tr>\n",
       "      <th>2</th>\n",
       "      <td>combined</td>\n",
       "      <td>1470.0</td>\n",
       "      <td>6502.931293</td>\n",
       "      <td>4707.956783</td>\n",
       "      <td>122.793054</td>\n",
       "      <td>6262.062872</td>\n",
       "      <td>6743.799713</td>\n",
       "    </tr>\n",
       "  </tbody>\n",
       "</table>\n",
       "</div>"
      ],
      "text/plain": [
       "            Variable       N         Mean           SD          SE  \\\n",
       "0   Former Employees   237.0  4787.092827  3640.210367  236.457073   \n",
       "1  Current Employees  1233.0  6832.739659  4818.208001  137.215763   \n",
       "2           combined  1470.0  6502.931293  4707.956783  122.793054   \n",
       "\n",
       "     95% Conf.     Interval  \n",
       "0  4321.256585  5252.929069  \n",
       "1  6563.537235  7101.942084  \n",
       "2  6262.062872  6743.799713  "
      ]
     },
     "metadata": {},
     "output_type": "display_data"
    },
    {
     "data": {
      "text/html": [
       "<div>\n",
       "<style scoped>\n",
       "    .dataframe tbody tr th:only-of-type {\n",
       "        vertical-align: middle;\n",
       "    }\n",
       "\n",
       "    .dataframe tbody tr th {\n",
       "        vertical-align: top;\n",
       "    }\n",
       "\n",
       "    .dataframe thead th {\n",
       "        text-align: right;\n",
       "    }\n",
       "</style>\n",
       "<table border=\"1\" class=\"dataframe\">\n",
       "  <thead>\n",
       "    <tr style=\"text-align: right;\">\n",
       "      <th></th>\n",
       "      <th>Independent t-test</th>\n",
       "      <th>results</th>\n",
       "    </tr>\n",
       "  </thead>\n",
       "  <tbody>\n",
       "    <tr>\n",
       "      <th>0</th>\n",
       "      <td>Difference (Former Employees - Current Employe...</td>\n",
       "      <td>-2045.6468</td>\n",
       "    </tr>\n",
       "    <tr>\n",
       "      <th>1</th>\n",
       "      <td>Degrees of freedom =</td>\n",
       "      <td>1468.0000</td>\n",
       "    </tr>\n",
       "    <tr>\n",
       "      <th>2</th>\n",
       "      <td>t =</td>\n",
       "      <td>-6.2039</td>\n",
       "    </tr>\n",
       "    <tr>\n",
       "      <th>3</th>\n",
       "      <td>Two side test p value =</td>\n",
       "      <td>0.0000</td>\n",
       "    </tr>\n",
       "    <tr>\n",
       "      <th>4</th>\n",
       "      <td>Difference &lt; 0 p value =</td>\n",
       "      <td>0.0000</td>\n",
       "    </tr>\n",
       "    <tr>\n",
       "      <th>5</th>\n",
       "      <td>Difference &gt; 0 p value =</td>\n",
       "      <td>1.0000</td>\n",
       "    </tr>\n",
       "    <tr>\n",
       "      <th>6</th>\n",
       "      <td>Cohen's d =</td>\n",
       "      <td>-0.4400</td>\n",
       "    </tr>\n",
       "    <tr>\n",
       "      <th>7</th>\n",
       "      <td>Hedge's g =</td>\n",
       "      <td>-0.4398</td>\n",
       "    </tr>\n",
       "    <tr>\n",
       "      <th>8</th>\n",
       "      <td>Glass's delta1 =</td>\n",
       "      <td>-0.5620</td>\n",
       "    </tr>\n",
       "    <tr>\n",
       "      <th>9</th>\n",
       "      <td>Point-Biserial r =</td>\n",
       "      <td>-0.1598</td>\n",
       "    </tr>\n",
       "  </tbody>\n",
       "</table>\n",
       "</div>"
      ],
      "text/plain": [
       "                                  Independent t-test    results\n",
       "0  Difference (Former Employees - Current Employe... -2045.6468\n",
       "1                              Degrees of freedom =   1468.0000\n",
       "2                                               t =     -6.2039\n",
       "3                           Two side test p value =      0.0000\n",
       "4                          Difference < 0 p value =      0.0000\n",
       "5                          Difference > 0 p value =      1.0000\n",
       "6                                       Cohen's d =     -0.4400\n",
       "7                                       Hedge's g =     -0.4398\n",
       "8                                  Glass's delta1 =     -0.5620\n",
       "9                                Point-Biserial r =     -0.1598"
      ]
     },
     "metadata": {},
     "output_type": "display_data"
    }
   ],
   "source": [
    "import researchpy as rp\n",
    "summary, res=rp.ttest(group1=df['MonthlyIncome'][df['Attrition']=='Yes'], \n",
    "                      group2=df['MonthlyIncome'][df['Attrition']=='No'], \n",
    "                      group1_name='Former Employees', group2_name='Current Employees')\n",
    "print(\"\\nSummary Statistics:\")\n",
    "display(summary)\n",
    "display(res)"
   ]
  },
  {
   "cell_type": "code",
   "execution_count": 178,
   "id": "b4ae2f93",
   "metadata": {},
   "outputs": [
    {
     "name": "stdout",
     "output_type": "stream",
     "text": [
      "Attrition and Education are independent (p-value = 0.55).\n",
      "\n",
      "Attrition and Gender are independent (p-value = 0.29).\n",
      "\n",
      "Attrition and PerformanceRating are independent (p-value = 0.99).\n",
      "\n",
      "Attrition and RelationshipSatisfaction are independent (p-value = 0.15).\n",
      "\n",
      "Attrition and DateOfResignation are independent (p-value = 0.40).\n",
      "\n"
     ]
    },
    {
     "data": {
      "text/html": [
       "<div>\n",
       "<style scoped>\n",
       "    .dataframe tbody tr th:only-of-type {\n",
       "        vertical-align: middle;\n",
       "    }\n",
       "\n",
       "    .dataframe tbody tr th {\n",
       "        vertical-align: top;\n",
       "    }\n",
       "\n",
       "    .dataframe thead th {\n",
       "        text-align: right;\n",
       "    }\n",
       "</style>\n",
       "<table border=\"1\" class=\"dataframe\">\n",
       "  <thead>\n",
       "    <tr style=\"text-align: right;\">\n",
       "      <th></th>\n",
       "      <th>Variable</th>\n",
       "      <th>Chi_Statistic</th>\n",
       "      <th>P_value</th>\n",
       "    </tr>\n",
       "  </thead>\n",
       "  <tbody>\n",
       "    <tr>\n",
       "      <th>11</th>\n",
       "      <td>OverTime</td>\n",
       "      <td>87.564294</td>\n",
       "      <td>8.158424e-21</td>\n",
       "    </tr>\n",
       "    <tr>\n",
       "      <th>8</th>\n",
       "      <td>JobRole</td>\n",
       "      <td>86.190254</td>\n",
       "      <td>2.752482e-15</td>\n",
       "    </tr>\n",
       "    <tr>\n",
       "      <th>7</th>\n",
       "      <td>JobLevel</td>\n",
       "      <td>72.529013</td>\n",
       "      <td>6.634685e-15</td>\n",
       "    </tr>\n",
       "    <tr>\n",
       "      <th>14</th>\n",
       "      <td>StockOptionLevel</td>\n",
       "      <td>60.598301</td>\n",
       "      <td>4.379390e-13</td>\n",
       "    </tr>\n",
       "    <tr>\n",
       "      <th>10</th>\n",
       "      <td>MaritalStatus</td>\n",
       "      <td>46.163677</td>\n",
       "      <td>9.455511e-11</td>\n",
       "    </tr>\n",
       "    <tr>\n",
       "      <th>6</th>\n",
       "      <td>JobInvolvement</td>\n",
       "      <td>28.492021</td>\n",
       "      <td>2.863181e-06</td>\n",
       "    </tr>\n",
       "    <tr>\n",
       "      <th>0</th>\n",
       "      <td>BusinessTravel</td>\n",
       "      <td>24.182414</td>\n",
       "      <td>5.608614e-06</td>\n",
       "    </tr>\n",
       "    <tr>\n",
       "      <th>4</th>\n",
       "      <td>EnvironmentSatisfaction</td>\n",
       "      <td>22.503881</td>\n",
       "      <td>5.123469e-05</td>\n",
       "    </tr>\n",
       "    <tr>\n",
       "      <th>9</th>\n",
       "      <td>JobSatisfaction</td>\n",
       "      <td>17.505077</td>\n",
       "      <td>5.563005e-04</td>\n",
       "    </tr>\n",
       "    <tr>\n",
       "      <th>15</th>\n",
       "      <td>WorkLifeBalance</td>\n",
       "      <td>16.325097</td>\n",
       "      <td>9.725699e-04</td>\n",
       "    </tr>\n",
       "    <tr>\n",
       "      <th>1</th>\n",
       "      <td>Department</td>\n",
       "      <td>10.796007</td>\n",
       "      <td>4.525607e-03</td>\n",
       "    </tr>\n",
       "    <tr>\n",
       "      <th>3</th>\n",
       "      <td>EducationField</td>\n",
       "      <td>16.024674</td>\n",
       "      <td>6.773980e-03</td>\n",
       "    </tr>\n",
       "  </tbody>\n",
       "</table>\n",
       "</div>"
      ],
      "text/plain": [
       "                   Variable  Chi_Statistic       P_value\n",
       "11                 OverTime      87.564294  8.158424e-21\n",
       "8                   JobRole      86.190254  2.752482e-15\n",
       "7                  JobLevel      72.529013  6.634685e-15\n",
       "14         StockOptionLevel      60.598301  4.379390e-13\n",
       "10            MaritalStatus      46.163677  9.455511e-11\n",
       "6            JobInvolvement      28.492021  2.863181e-06\n",
       "0            BusinessTravel      24.182414  5.608614e-06\n",
       "4   EnvironmentSatisfaction      22.503881  5.123469e-05\n",
       "9           JobSatisfaction      17.505077  5.563005e-04\n",
       "15          WorkLifeBalance      16.325097  9.725699e-04\n",
       "1                Department      10.796007  4.525607e-03\n",
       "3            EducationField      16.024674  6.773980e-03"
      ]
     },
     "metadata": {},
     "output_type": "display_data"
    }
   ],
   "source": [
    "cat_cols=df.select_dtypes(include=\"category\").columns.tolist() \n",
    "chi_statistic=[]\n",
    "p_val=[]\n",
    "vars_rm=[]\n",
    "\n",
    "for i in df[cat_cols]:\n",
    "    observed=pd.crosstab(index=df[\"Attrition\"], columns=df[i])\n",
    "    stat, p, dof, expected=chi2_contingency(observed)\n",
    "    chi_statistic.append(stat)\n",
    "    p_val.append(p)\n",
    "    if p >= 0.05:\n",
    "        print(\"Attrition and {} are independent (p-value = {:.2f}).\\n\".format(i,p))\n",
    "        vars_rm.append(i)\n",
    "\n",
    "chi_df = pd.DataFrame()\n",
    "chi_df[\"Variable\"] = cat_cols\n",
    "chi_df[\"Chi_Statistic\"] = chi_statistic\n",
    "chi_df[\"P_value\"] = p_val\n",
    "chi_df=chi_df[chi_df.P_value<0.05].sort_values(\"P_value\", ascending=True)\n",
    "display(chi_df)"
   ]
  },
  {
   "cell_type": "markdown",
   "id": "05130ca5",
   "metadata": {},
   "source": [
    "## Predicting Employee Attrition"
   ]
  },
  {
   "cell_type": "code",
   "execution_count": 179,
   "id": "e1944a37",
   "metadata": {},
   "outputs": [
    {
     "data": {
      "text/html": [
       "<div>\n",
       "<style scoped>\n",
       "    .dataframe tbody tr th:only-of-type {\n",
       "        vertical-align: middle;\n",
       "    }\n",
       "\n",
       "    .dataframe tbody tr th {\n",
       "        vertical-align: top;\n",
       "    }\n",
       "\n",
       "    .dataframe thead th {\n",
       "        text-align: right;\n",
       "    }\n",
       "</style>\n",
       "<table border=\"1\" class=\"dataframe\">\n",
       "  <thead>\n",
       "    <tr style=\"text-align: right;\">\n",
       "      <th></th>\n",
       "      <th>Age</th>\n",
       "      <th>DailyRate</th>\n",
       "      <th>DistanceFromHome</th>\n",
       "      <th>HourlyRate</th>\n",
       "      <th>MonthlyIncome</th>\n",
       "      <th>MonthlyRate</th>\n",
       "      <th>NumCompaniesWorked</th>\n",
       "      <th>PercentSalaryHike</th>\n",
       "      <th>TotalWorkingYears</th>\n",
       "      <th>TrainingTimesLastYear</th>\n",
       "      <th>...</th>\n",
       "      <th>WorkLifeBalance_2</th>\n",
       "      <th>WorkLifeBalance_3</th>\n",
       "      <th>WorkLifeBalance_4</th>\n",
       "      <th>Department_Research&amp;Development</th>\n",
       "      <th>Department_Sales</th>\n",
       "      <th>EducationField_LifeSciences</th>\n",
       "      <th>EducationField_Marketing</th>\n",
       "      <th>EducationField_Medical</th>\n",
       "      <th>EducationField_Other</th>\n",
       "      <th>EducationField_TechnicalDegree</th>\n",
       "    </tr>\n",
       "  </thead>\n",
       "  <tbody>\n",
       "    <tr>\n",
       "      <th>0</th>\n",
       "      <td>41</td>\n",
       "      <td>1102</td>\n",
       "      <td>1</td>\n",
       "      <td>94</td>\n",
       "      <td>5993</td>\n",
       "      <td>19479</td>\n",
       "      <td>8</td>\n",
       "      <td>11</td>\n",
       "      <td>8</td>\n",
       "      <td>0</td>\n",
       "      <td>...</td>\n",
       "      <td>False</td>\n",
       "      <td>False</td>\n",
       "      <td>False</td>\n",
       "      <td>False</td>\n",
       "      <td>True</td>\n",
       "      <td>True</td>\n",
       "      <td>False</td>\n",
       "      <td>False</td>\n",
       "      <td>False</td>\n",
       "      <td>False</td>\n",
       "    </tr>\n",
       "    <tr>\n",
       "      <th>1</th>\n",
       "      <td>49</td>\n",
       "      <td>279</td>\n",
       "      <td>8</td>\n",
       "      <td>61</td>\n",
       "      <td>5130</td>\n",
       "      <td>24907</td>\n",
       "      <td>1</td>\n",
       "      <td>23</td>\n",
       "      <td>10</td>\n",
       "      <td>3</td>\n",
       "      <td>...</td>\n",
       "      <td>False</td>\n",
       "      <td>True</td>\n",
       "      <td>False</td>\n",
       "      <td>True</td>\n",
       "      <td>False</td>\n",
       "      <td>True</td>\n",
       "      <td>False</td>\n",
       "      <td>False</td>\n",
       "      <td>False</td>\n",
       "      <td>False</td>\n",
       "    </tr>\n",
       "    <tr>\n",
       "      <th>2</th>\n",
       "      <td>37</td>\n",
       "      <td>1373</td>\n",
       "      <td>2</td>\n",
       "      <td>92</td>\n",
       "      <td>2090</td>\n",
       "      <td>2396</td>\n",
       "      <td>6</td>\n",
       "      <td>15</td>\n",
       "      <td>7</td>\n",
       "      <td>3</td>\n",
       "      <td>...</td>\n",
       "      <td>False</td>\n",
       "      <td>True</td>\n",
       "      <td>False</td>\n",
       "      <td>True</td>\n",
       "      <td>False</td>\n",
       "      <td>False</td>\n",
       "      <td>False</td>\n",
       "      <td>False</td>\n",
       "      <td>True</td>\n",
       "      <td>False</td>\n",
       "    </tr>\n",
       "    <tr>\n",
       "      <th>3</th>\n",
       "      <td>33</td>\n",
       "      <td>1392</td>\n",
       "      <td>3</td>\n",
       "      <td>56</td>\n",
       "      <td>2909</td>\n",
       "      <td>23159</td>\n",
       "      <td>1</td>\n",
       "      <td>11</td>\n",
       "      <td>8</td>\n",
       "      <td>3</td>\n",
       "      <td>...</td>\n",
       "      <td>False</td>\n",
       "      <td>True</td>\n",
       "      <td>False</td>\n",
       "      <td>True</td>\n",
       "      <td>False</td>\n",
       "      <td>True</td>\n",
       "      <td>False</td>\n",
       "      <td>False</td>\n",
       "      <td>False</td>\n",
       "      <td>False</td>\n",
       "    </tr>\n",
       "    <tr>\n",
       "      <th>4</th>\n",
       "      <td>27</td>\n",
       "      <td>591</td>\n",
       "      <td>2</td>\n",
       "      <td>40</td>\n",
       "      <td>3468</td>\n",
       "      <td>16632</td>\n",
       "      <td>9</td>\n",
       "      <td>12</td>\n",
       "      <td>6</td>\n",
       "      <td>3</td>\n",
       "      <td>...</td>\n",
       "      <td>False</td>\n",
       "      <td>True</td>\n",
       "      <td>False</td>\n",
       "      <td>True</td>\n",
       "      <td>False</td>\n",
       "      <td>False</td>\n",
       "      <td>False</td>\n",
       "      <td>True</td>\n",
       "      <td>False</td>\n",
       "      <td>False</td>\n",
       "    </tr>\n",
       "  </tbody>\n",
       "</table>\n",
       "<p>5 rows × 53 columns</p>\n",
       "</div>"
      ],
      "text/plain": [
       "   Age  DailyRate  DistanceFromHome  HourlyRate  MonthlyIncome  MonthlyRate  \\\n",
       "0   41       1102                 1          94           5993        19479   \n",
       "1   49        279                 8          61           5130        24907   \n",
       "2   37       1373                 2          92           2090         2396   \n",
       "3   33       1392                 3          56           2909        23159   \n",
       "4   27        591                 2          40           3468        16632   \n",
       "\n",
       "   NumCompaniesWorked  PercentSalaryHike  TotalWorkingYears  \\\n",
       "0                   8                 11                  8   \n",
       "1                   1                 23                 10   \n",
       "2                   6                 15                  7   \n",
       "3                   1                 11                  8   \n",
       "4                   9                 12                  6   \n",
       "\n",
       "   TrainingTimesLastYear  ...  WorkLifeBalance_2  WorkLifeBalance_3  \\\n",
       "0                      0  ...              False              False   \n",
       "1                      3  ...              False               True   \n",
       "2                      3  ...              False               True   \n",
       "3                      3  ...              False               True   \n",
       "4                      3  ...              False               True   \n",
       "\n",
       "   WorkLifeBalance_4  Department_Research&Development  Department_Sales  \\\n",
       "0              False                            False              True   \n",
       "1              False                             True             False   \n",
       "2              False                             True             False   \n",
       "3              False                             True             False   \n",
       "4              False                             True             False   \n",
       "\n",
       "   EducationField_LifeSciences  EducationField_Marketing  \\\n",
       "0                         True                     False   \n",
       "1                         True                     False   \n",
       "2                        False                     False   \n",
       "3                         True                     False   \n",
       "4                        False                     False   \n",
       "\n",
       "   EducationField_Medical  EducationField_Other  \\\n",
       "0                   False                 False   \n",
       "1                   False                 False   \n",
       "2                   False                  True   \n",
       "3                   False                 False   \n",
       "4                    True                 False   \n",
       "\n",
       "   EducationField_TechnicalDegree  \n",
       "0                           False  \n",
       "1                           False  \n",
       "2                           False  \n",
       "3                           False  \n",
       "4                           False  \n",
       "\n",
       "[5 rows x 53 columns]"
      ]
     },
     "execution_count": 179,
     "metadata": {},
     "output_type": "execute_result"
    }
   ],
   "source": [
    "y=df['Attrition'].apply(lambda x: 1 if x=='Yes' else 0)\n",
    "X=df.loc[:, df.columns != 'Attrition']\n",
    "X.drop(X[vars_rm], axis=1, inplace=True)\n",
    "X=pd.get_dummies(X, columns=chi_df.Variable.values, drop_first=True)\n",
    "X.columns=X.columns.str.replace(' ', '')\n",
    "X.head()"
   ]
  },
  {
   "cell_type": "code",
   "execution_count": 180,
   "id": "9b2b67e5",
   "metadata": {},
   "outputs": [
    {
     "name": "stdout",
     "output_type": "stream",
     "text": [
      "Train Shape: (1029, 53) (1029,)\n",
      "Validation set Shape: (220, 53) (220,)\n",
      "Test set Shape: (221, 53) (221,)\n"
     ]
    }
   ],
   "source": [
    "X_train, X_rem, y_train, y_rem = train_test_split(X, y, train_size=0.7, random_state=21)\n",
    "X_val, X_test, y_val, y_test = train_test_split(X_rem, y_rem, test_size=0.5, random_state=21)\n",
    "\n",
    "print(\"Train Shape:\", X_train.shape, y_train.shape)\n",
    "print(\"Validation set Shape:\", X_val.shape,y_val.shape)\n",
    "print(\"Test set Shape:\", X_test.shape, y_test.shape)"
   ]
  },
  {
   "cell_type": "code",
   "execution_count": 181,
   "id": "69b66bff",
   "metadata": {},
   "outputs": [
    {
     "data": {
      "text/html": [
       "<div>\n",
       "<style scoped>\n",
       "    .dataframe tbody tr th:only-of-type {\n",
       "        vertical-align: middle;\n",
       "    }\n",
       "\n",
       "    .dataframe tbody tr th {\n",
       "        vertical-align: top;\n",
       "    }\n",
       "\n",
       "    .dataframe thead th {\n",
       "        text-align: right;\n",
       "    }\n",
       "</style>\n",
       "<table border=\"1\" class=\"dataframe\">\n",
       "  <thead>\n",
       "    <tr style=\"text-align: right;\">\n",
       "      <th></th>\n",
       "      <th>Age</th>\n",
       "      <th>DailyRate</th>\n",
       "      <th>DistanceFromHome</th>\n",
       "      <th>HourlyRate</th>\n",
       "      <th>MonthlyIncome</th>\n",
       "      <th>MonthlyRate</th>\n",
       "      <th>NumCompaniesWorked</th>\n",
       "      <th>PercentSalaryHike</th>\n",
       "      <th>TotalWorkingYears</th>\n",
       "      <th>TrainingTimesLastYear</th>\n",
       "      <th>...</th>\n",
       "      <th>WorkLifeBalance_2</th>\n",
       "      <th>WorkLifeBalance_3</th>\n",
       "      <th>WorkLifeBalance_4</th>\n",
       "      <th>Department_Research&amp;Development</th>\n",
       "      <th>Department_Sales</th>\n",
       "      <th>EducationField_LifeSciences</th>\n",
       "      <th>EducationField_Marketing</th>\n",
       "      <th>EducationField_Medical</th>\n",
       "      <th>EducationField_Other</th>\n",
       "      <th>EducationField_TechnicalDegree</th>\n",
       "    </tr>\n",
       "  </thead>\n",
       "  <tbody>\n",
       "    <tr>\n",
       "      <th>0</th>\n",
       "      <td>0.039281</td>\n",
       "      <td>-1.431033</td>\n",
       "      <td>-0.382060</td>\n",
       "      <td>1.548533</td>\n",
       "      <td>-0.005600</td>\n",
       "      <td>1.223427</td>\n",
       "      <td>0.526182</td>\n",
       "      <td>-0.310835</td>\n",
       "      <td>-0.523106</td>\n",
       "      <td>1.731250</td>\n",
       "      <td>...</td>\n",
       "      <td>-0.542531</td>\n",
       "      <td>-1.261721</td>\n",
       "      <td>2.950855</td>\n",
       "      <td>-1.374936</td>\n",
       "      <td>1.515941</td>\n",
       "      <td>-0.822129</td>\n",
       "      <td>-0.349482</td>\n",
       "      <td>1.448930</td>\n",
       "      <td>-0.23763</td>\n",
       "      <td>-0.322610</td>\n",
       "    </tr>\n",
       "    <tr>\n",
       "      <th>1</th>\n",
       "      <td>-1.056109</td>\n",
       "      <td>1.632008</td>\n",
       "      <td>-1.000009</td>\n",
       "      <td>0.767530</td>\n",
       "      <td>-0.566258</td>\n",
       "      <td>0.525874</td>\n",
       "      <td>-0.678807</td>\n",
       "      <td>-1.130259</td>\n",
       "      <td>-0.783583</td>\n",
       "      <td>-0.607642</td>\n",
       "      <td>...</td>\n",
       "      <td>-0.542531</td>\n",
       "      <td>0.792568</td>\n",
       "      <td>-0.338885</td>\n",
       "      <td>0.727306</td>\n",
       "      <td>-0.659656</td>\n",
       "      <td>-0.822129</td>\n",
       "      <td>-0.349482</td>\n",
       "      <td>1.448930</td>\n",
       "      <td>-0.23763</td>\n",
       "      <td>-0.322610</td>\n",
       "    </tr>\n",
       "    <tr>\n",
       "      <th>2</th>\n",
       "      <td>0.039281</td>\n",
       "      <td>1.493788</td>\n",
       "      <td>-0.505649</td>\n",
       "      <td>0.865156</td>\n",
       "      <td>-0.632218</td>\n",
       "      <td>1.596613</td>\n",
       "      <td>-1.080469</td>\n",
       "      <td>-0.310835</td>\n",
       "      <td>-0.523106</td>\n",
       "      <td>-0.607642</td>\n",
       "      <td>...</td>\n",
       "      <td>-0.542531</td>\n",
       "      <td>-1.261721</td>\n",
       "      <td>-0.338885</td>\n",
       "      <td>0.727306</td>\n",
       "      <td>-0.659656</td>\n",
       "      <td>-0.822129</td>\n",
       "      <td>-0.349482</td>\n",
       "      <td>-0.690165</td>\n",
       "      <td>-0.23763</td>\n",
       "      <td>3.099717</td>\n",
       "    </tr>\n",
       "    <tr>\n",
       "      <th>3</th>\n",
       "      <td>-0.179797</td>\n",
       "      <td>1.449361</td>\n",
       "      <td>-0.011290</td>\n",
       "      <td>-0.892100</td>\n",
       "      <td>-0.298662</td>\n",
       "      <td>0.641145</td>\n",
       "      <td>-0.678807</td>\n",
       "      <td>1.054873</td>\n",
       "      <td>-0.132390</td>\n",
       "      <td>1.731250</td>\n",
       "      <td>...</td>\n",
       "      <td>-0.542531</td>\n",
       "      <td>0.792568</td>\n",
       "      <td>-0.338885</td>\n",
       "      <td>0.727306</td>\n",
       "      <td>-0.659656</td>\n",
       "      <td>-0.822129</td>\n",
       "      <td>-0.349482</td>\n",
       "      <td>1.448930</td>\n",
       "      <td>-0.23763</td>\n",
       "      <td>-0.322610</td>\n",
       "    </tr>\n",
       "    <tr>\n",
       "      <th>4</th>\n",
       "      <td>2.339599</td>\n",
       "      <td>-0.500520</td>\n",
       "      <td>1.471788</td>\n",
       "      <td>0.279404</td>\n",
       "      <td>2.368326</td>\n",
       "      <td>-0.337603</td>\n",
       "      <td>0.526182</td>\n",
       "      <td>-0.583976</td>\n",
       "      <td>2.342142</td>\n",
       "      <td>-0.607642</td>\n",
       "      <td>...</td>\n",
       "      <td>1.843213</td>\n",
       "      <td>-1.261721</td>\n",
       "      <td>-0.338885</td>\n",
       "      <td>-1.374936</td>\n",
       "      <td>1.515941</td>\n",
       "      <td>1.216354</td>\n",
       "      <td>-0.349482</td>\n",
       "      <td>-0.690165</td>\n",
       "      <td>-0.23763</td>\n",
       "      <td>-0.322610</td>\n",
       "    </tr>\n",
       "  </tbody>\n",
       "</table>\n",
       "<p>5 rows × 53 columns</p>\n",
       "</div>"
      ],
      "text/plain": [
       "        Age  DailyRate  DistanceFromHome  HourlyRate  MonthlyIncome  \\\n",
       "0  0.039281  -1.431033         -0.382060    1.548533      -0.005600   \n",
       "1 -1.056109   1.632008         -1.000009    0.767530      -0.566258   \n",
       "2  0.039281   1.493788         -0.505649    0.865156      -0.632218   \n",
       "3 -0.179797   1.449361         -0.011290   -0.892100      -0.298662   \n",
       "4  2.339599  -0.500520          1.471788    0.279404       2.368326   \n",
       "\n",
       "   MonthlyRate  NumCompaniesWorked  PercentSalaryHike  TotalWorkingYears  \\\n",
       "0     1.223427            0.526182          -0.310835          -0.523106   \n",
       "1     0.525874           -0.678807          -1.130259          -0.783583   \n",
       "2     1.596613           -1.080469          -0.310835          -0.523106   \n",
       "3     0.641145           -0.678807           1.054873          -0.132390   \n",
       "4    -0.337603            0.526182          -0.583976           2.342142   \n",
       "\n",
       "   TrainingTimesLastYear  ...  WorkLifeBalance_2  WorkLifeBalance_3  \\\n",
       "0               1.731250  ...          -0.542531          -1.261721   \n",
       "1              -0.607642  ...          -0.542531           0.792568   \n",
       "2              -0.607642  ...          -0.542531          -1.261721   \n",
       "3               1.731250  ...          -0.542531           0.792568   \n",
       "4              -0.607642  ...           1.843213          -1.261721   \n",
       "\n",
       "   WorkLifeBalance_4  Department_Research&Development  Department_Sales  \\\n",
       "0           2.950855                        -1.374936          1.515941   \n",
       "1          -0.338885                         0.727306         -0.659656   \n",
       "2          -0.338885                         0.727306         -0.659656   \n",
       "3          -0.338885                         0.727306         -0.659656   \n",
       "4          -0.338885                        -1.374936          1.515941   \n",
       "\n",
       "   EducationField_LifeSciences  EducationField_Marketing  \\\n",
       "0                    -0.822129                 -0.349482   \n",
       "1                    -0.822129                 -0.349482   \n",
       "2                    -0.822129                 -0.349482   \n",
       "3                    -0.822129                 -0.349482   \n",
       "4                     1.216354                 -0.349482   \n",
       "\n",
       "   EducationField_Medical  EducationField_Other  \\\n",
       "0                1.448930              -0.23763   \n",
       "1                1.448930              -0.23763   \n",
       "2               -0.690165              -0.23763   \n",
       "3                1.448930              -0.23763   \n",
       "4               -0.690165              -0.23763   \n",
       "\n",
       "   EducationField_TechnicalDegree  \n",
       "0                       -0.322610  \n",
       "1                       -0.322610  \n",
       "2                        3.099717  \n",
       "3                       -0.322610  \n",
       "4                       -0.322610  \n",
       "\n",
       "[5 rows x 53 columns]"
      ]
     },
     "execution_count": 181,
     "metadata": {},
     "output_type": "execute_result"
    }
   ],
   "source": [
    "scaler = StandardScaler()\n",
    "X_train = pd.DataFrame(scaler.fit_transform(X_train), columns=X_train.columns)\n",
    "X_val = pd.DataFrame(scaler.transform(X_val), columns=X_val.columns)\n",
    "X_test=pd.DataFrame(scaler.transform(X_test), columns=X_test.columns)\n",
    "X_train.head()"
   ]
  },
  {
   "cell_type": "code",
   "execution_count": 182,
   "id": "4bec1756",
   "metadata": {},
   "outputs": [
    {
     "name": "stdout",
     "output_type": "stream",
     "text": [
      "Grid Search CV Best AUC = 0.778\n",
      "Best Params: RandomForestClassifier(bootstrap=False, max_depth=7, min_samples_leaf=4,\n",
      "                       min_samples_split=5, random_state=92)\n"
     ]
    }
   ],
   "source": [
    "# Parameter tuning\n",
    "grid = {'n_estimators': [int(x) for x in np.linspace(start = 100, stop = 500, num = 5)],\n",
    "        'max_features': [None, 'sqrt'],\n",
    "        'max_depth': [None, 5, 7, 14, 21],\n",
    "        'min_samples_split': [2, 5, 8],\n",
    "        'min_samples_leaf': [3, 4, 5],\n",
    "        'bootstrap': [True, False]}\n",
    "\n",
    "rf=RandomForestClassifier(random_state=92)\n",
    "rf_cv=RandomizedSearchCV(estimator=rf, param_distributions=grid, scoring='roc_auc', \n",
    "                         n_iter=100, cv=5, random_state=92, n_jobs=-1)\n",
    "rf_cv.fit(X_train, y_train)\n",
    "print(\"Grid Search CV Best AUC = {:.3f}\\nBest Params: {}\".format(rf_cv.best_score_, rf_cv.best_estimator_))"
   ]
  },
  {
   "cell_type": "code",
   "execution_count": 184,
   "id": "c583bdcf",
   "metadata": {},
   "outputs": [
    {
     "data": {
      "application/vnd.plotly.v1+json": {
       "config": {
        "plotlyServerURL": "https://plot.ly"
       },
       "data": [
        {
         "hovertemplate": "%{x}<br>Importance = %{y:.2f}",
         "legendgroup": "MonthlyIncome",
         "marker": {
          "color": "#c6ebd1",
          "line": {
           "color": "#3F3B3A",
           "width": 1
          },
          "opacity": 0.7,
          "pattern": {
           "shape": ""
          }
         },
         "name": "MonthlyIncome",
         "orientation": "v",
         "showlegend": true,
         "text": {
          "bdata": "FPk45ZOSuT8=",
          "dtype": "f8"
         },
         "textposition": "outside",
         "texttemplate": "%{text:.2f}",
         "type": "bar",
         "x": [
          "MonthlyIncome"
         ],
         "xaxis": "x",
         "y": {
          "bdata": "FPk45ZOSuT8=",
          "dtype": "f8"
         },
         "yaxis": "y"
        },
        {
         "hovertemplate": "%{x}<br>Importance = %{y:.2f}",
         "legendgroup": "OverTime_Yes",
         "marker": {
          "color": "#abe2be",
          "line": {
           "color": "#3F3B3A",
           "width": 1
          },
          "opacity": 0.7,
          "pattern": {
           "shape": ""
          }
         },
         "name": "OverTime_Yes",
         "orientation": "v",
         "showlegend": true,
         "text": {
          "bdata": "iQStRjrNuD8=",
          "dtype": "f8"
         },
         "textposition": "outside",
         "texttemplate": "%{text:.2f}",
         "type": "bar",
         "x": [
          "OverTime_Yes"
         ],
         "xaxis": "x",
         "y": {
          "bdata": "iQStRjrNuD8=",
          "dtype": "f8"
         },
         "yaxis": "y"
        },
        {
         "hovertemplate": "%{x}<br>Importance = %{y:.2f}",
         "legendgroup": "Age",
         "marker": {
          "color": "#8bdab2",
          "line": {
           "color": "#3F3B3A",
           "width": 1
          },
          "opacity": 0.7,
          "pattern": {
           "shape": ""
          }
         },
         "name": "Age",
         "orientation": "v",
         "showlegend": true,
         "text": {
          "bdata": "CfrDM0KXtT8=",
          "dtype": "f8"
         },
         "textposition": "outside",
         "texttemplate": "%{text:.2f}",
         "type": "bar",
         "x": [
          "Age"
         ],
         "xaxis": "x",
         "y": {
          "bdata": "CfrDM0KXtT8=",
          "dtype": "f8"
         },
         "yaxis": "y"
        },
        {
         "hovertemplate": "%{x}<br>Importance = %{y:.2f}",
         "legendgroup": "TotalWorkingYears",
         "marker": {
          "color": "#68d1ad",
          "line": {
           "color": "#3F3B3A",
           "width": 1
          },
          "opacity": 0.7,
          "pattern": {
           "shape": ""
          }
         },
         "name": "TotalWorkingYears",
         "orientation": "v",
         "showlegend": true,
         "text": {
          "bdata": "D17vUdXAsj8=",
          "dtype": "f8"
         },
         "textposition": "outside",
         "texttemplate": "%{text:.2f}",
         "type": "bar",
         "x": [
          "TotalWorkingYears"
         ],
         "xaxis": "x",
         "y": {
          "bdata": "D17vUdXAsj8=",
          "dtype": "f8"
         },
         "yaxis": "y"
        },
        {
         "hovertemplate": "%{x}<br>Importance = %{y:.2f}",
         "legendgroup": "YearsAtCompany",
         "marker": {
          "color": "#4fc5ad",
          "line": {
           "color": "#3F3B3A",
           "width": 1
          },
          "opacity": 0.7,
          "pattern": {
           "shape": ""
          }
         },
         "name": "YearsAtCompany",
         "orientation": "v",
         "showlegend": true,
         "text": {
          "bdata": "LAh0L1PUsT8=",
          "dtype": "f8"
         },
         "textposition": "outside",
         "texttemplate": "%{text:.2f}",
         "type": "bar",
         "x": [
          "YearsAtCompany"
         ],
         "xaxis": "x",
         "y": {
          "bdata": "LAh0L1PUsT8=",
          "dtype": "f8"
         },
         "yaxis": "y"
        },
        {
         "hovertemplate": "%{x}<br>Importance = %{y:.2f}",
         "legendgroup": "MaritalStatus_Single",
         "marker": {
          "color": "#40b7ad",
          "line": {
           "color": "#3F3B3A",
           "width": 1
          },
          "opacity": 0.7,
          "pattern": {
           "shape": ""
          }
         },
         "name": "MaritalStatus_Single",
         "orientation": "v",
         "showlegend": true,
         "text": {
          "bdata": "3MqP/pSEqD8=",
          "dtype": "f8"
         },
         "textposition": "outside",
         "texttemplate": "%{text:.2f}",
         "type": "bar",
         "x": [
          "MaritalStatus_Single"
         ],
         "xaxis": "x",
         "y": {
          "bdata": "3MqP/pSEqD8=",
          "dtype": "f8"
         },
         "yaxis": "y"
        },
        {
         "hovertemplate": "%{x}<br>Importance = %{y:.2f}",
         "legendgroup": "HourlyRate",
         "marker": {
          "color": "#38aaac",
          "line": {
           "color": "#3F3B3A",
           "width": 1
          },
          "opacity": 0.7,
          "pattern": {
           "shape": ""
          }
         },
         "name": "HourlyRate",
         "orientation": "v",
         "showlegend": true,
         "text": {
          "bdata": "t2TDzw4hpT8=",
          "dtype": "f8"
         },
         "textposition": "outside",
         "texttemplate": "%{text:.2f}",
         "type": "bar",
         "x": [
          "HourlyRate"
         ],
         "xaxis": "x",
         "y": {
          "bdata": "t2TDzw4hpT8=",
          "dtype": "f8"
         },
         "yaxis": "y"
        },
        {
         "hovertemplate": "%{x}<br>Importance = %{y:.2f}",
         "legendgroup": "YearsWithCurrManager",
         "marker": {
          "color": "#359caa",
          "line": {
           "color": "#3F3B3A",
           "width": 1
          },
          "opacity": 0.7,
          "pattern": {
           "shape": ""
          }
         },
         "name": "YearsWithCurrManager",
         "orientation": "v",
         "showlegend": true,
         "text": {
          "bdata": "jdBz0XSwoz8=",
          "dtype": "f8"
         },
         "textposition": "outside",
         "texttemplate": "%{text:.2f}",
         "type": "bar",
         "x": [
          "YearsWithCurrManager"
         ],
         "xaxis": "x",
         "y": {
          "bdata": "jdBz0XSwoz8=",
          "dtype": "f8"
         },
         "yaxis": "y"
        },
        {
         "hovertemplate": "%{x}<br>Importance = %{y:.2f}",
         "legendgroup": "DailyRate",
         "marker": {
          "color": "#348fa7",
          "line": {
           "color": "#3F3B3A",
           "width": 1
          },
          "opacity": 0.7,
          "pattern": {
           "shape": ""
          }
         },
         "name": "DailyRate",
         "orientation": "v",
         "showlegend": true,
         "text": {
          "bdata": "AZc4E4c9oj8=",
          "dtype": "f8"
         },
         "textposition": "outside",
         "texttemplate": "%{text:.2f}",
         "type": "bar",
         "x": [
          "DailyRate"
         ],
         "xaxis": "x",
         "y": {
          "bdata": "AZc4E4c9oj8=",
          "dtype": "f8"
         },
         "yaxis": "y"
        },
        {
         "hovertemplate": "%{x}<br>Importance = %{y:.2f}",
         "legendgroup": "MonthlyRate",
         "marker": {
          "color": "#3482a4",
          "line": {
           "color": "#3F3B3A",
           "width": 1
          },
          "opacity": 0.7,
          "pattern": {
           "shape": ""
          }
         },
         "name": "MonthlyRate",
         "orientation": "v",
         "showlegend": true,
         "text": {
          "bdata": "JL+zi0QqoT8=",
          "dtype": "f8"
         },
         "textposition": "outside",
         "texttemplate": "%{text:.2f}",
         "type": "bar",
         "x": [
          "MonthlyRate"
         ],
         "xaxis": "x",
         "y": {
          "bdata": "JL+zi0QqoT8=",
          "dtype": "f8"
         },
         "yaxis": "y"
        },
        {
         "hovertemplate": "%{x}<br>Importance = %{y:.2f}",
         "legendgroup": "DistanceFromHome",
         "marker": {
          "color": "#3573a1",
          "line": {
           "color": "#3F3B3A",
           "width": 1
          },
          "opacity": 0.7,
          "pattern": {
           "shape": ""
          }
         },
         "name": "DistanceFromHome",
         "orientation": "v",
         "showlegend": true,
         "text": {
          "bdata": "MouGJEFXnT8=",
          "dtype": "f8"
         },
         "textposition": "outside",
         "texttemplate": "%{text:.2f}",
         "type": "bar",
         "x": [
          "DistanceFromHome"
         ],
         "xaxis": "x",
         "y": {
          "bdata": "MouGJEFXnT8=",
          "dtype": "f8"
         },
         "yaxis": "y"
        },
        {
         "hovertemplate": "%{x}<br>Importance = %{y:.2f}",
         "legendgroup": "YearsInCurrentRole",
         "marker": {
          "color": "#37659e",
          "line": {
           "color": "#3F3B3A",
           "width": 1
          },
          "opacity": 0.7,
          "pattern": {
           "shape": ""
          }
         },
         "name": "YearsInCurrentRole",
         "orientation": "v",
         "showlegend": true,
         "text": {
          "bdata": "mlOw+lpVnD8=",
          "dtype": "f8"
         },
         "textposition": "outside",
         "texttemplate": "%{text:.2f}",
         "type": "bar",
         "x": [
          "YearsInCurrentRole"
         ],
         "xaxis": "x",
         "y": {
          "bdata": "mlOw+lpVnD8=",
          "dtype": "f8"
         },
         "yaxis": "y"
        },
        {
         "hovertemplate": "%{x}<br>Importance = %{y:.2f}",
         "legendgroup": "NumCompaniesWorked",
         "marker": {
          "color": "#3b5799",
          "line": {
           "color": "#3F3B3A",
           "width": 1
          },
          "opacity": 0.7,
          "pattern": {
           "shape": ""
          }
         },
         "name": "NumCompaniesWorked",
         "orientation": "v",
         "showlegend": true,
         "text": {
          "bdata": "dk+Q0zlEnD8=",
          "dtype": "f8"
         },
         "textposition": "outside",
         "texttemplate": "%{text:.2f}",
         "type": "bar",
         "x": [
          "NumCompaniesWorked"
         ],
         "xaxis": "x",
         "y": {
          "bdata": "dk+Q0zlEnD8=",
          "dtype": "f8"
         },
         "yaxis": "y"
        },
        {
         "hovertemplate": "%{x}<br>Importance = %{y:.2f}",
         "legendgroup": "PercentSalaryHike",
         "marker": {
          "color": "#40498e",
          "line": {
           "color": "#3F3B3A",
           "width": 1
          },
          "opacity": 0.7,
          "pattern": {
           "shape": ""
          }
         },
         "name": "PercentSalaryHike",
         "orientation": "v",
         "showlegend": true,
         "text": {
          "bdata": "gAj9Qk33mz8=",
          "dtype": "f8"
         },
         "textposition": "outside",
         "texttemplate": "%{text:.2f}",
         "type": "bar",
         "x": [
          "PercentSalaryHike"
         ],
         "xaxis": "x",
         "y": {
          "bdata": "gAj9Qk33mz8=",
          "dtype": "f8"
         },
         "yaxis": "y"
        },
        {
         "hovertemplate": "%{x}<br>Importance = %{y:.2f}",
         "legendgroup": "StockOptionLevel_1",
         "marker": {
          "color": "#413d7b",
          "line": {
           "color": "#3F3B3A",
           "width": 1
          },
          "opacity": 0.7,
          "pattern": {
           "shape": ""
          }
         },
         "name": "StockOptionLevel_1",
         "orientation": "v",
         "showlegend": true,
         "text": {
          "bdata": "1uJmW65emz8=",
          "dtype": "f8"
         },
         "textposition": "outside",
         "texttemplate": "%{text:.2f}",
         "type": "bar",
         "x": [
          "StockOptionLevel_1"
         ],
         "xaxis": "x",
         "y": {
          "bdata": "1uJmW65emz8=",
          "dtype": "f8"
         },
         "yaxis": "y"
        }
       ],
       "layout": {
        "barmode": "relative",
        "coloraxis": {
         "showscale": false
        },
        "font": {
         "color": "#303030"
        },
        "height": 500,
        "legend": {
         "title": {
          "text": "index"
         },
         "tracegroupgap": 0
        },
        "margin": {
         "t": 60
        },
        "paper_bgcolor": "white",
        "plot_bgcolor": "white",
        "showlegend": false,
        "template": {
         "data": {
          "bar": [
           {
            "error_x": {
             "color": "#2a3f5f"
            },
            "error_y": {
             "color": "#2a3f5f"
            },
            "marker": {
             "line": {
              "color": "#E5ECF6",
              "width": 0.5
             },
             "pattern": {
              "fillmode": "overlay",
              "size": 10,
              "solidity": 0.2
             }
            },
            "type": "bar"
           }
          ],
          "barpolar": [
           {
            "marker": {
             "line": {
              "color": "#E5ECF6",
              "width": 0.5
             },
             "pattern": {
              "fillmode": "overlay",
              "size": 10,
              "solidity": 0.2
             }
            },
            "type": "barpolar"
           }
          ],
          "carpet": [
           {
            "aaxis": {
             "endlinecolor": "#2a3f5f",
             "gridcolor": "white",
             "linecolor": "white",
             "minorgridcolor": "white",
             "startlinecolor": "#2a3f5f"
            },
            "baxis": {
             "endlinecolor": "#2a3f5f",
             "gridcolor": "white",
             "linecolor": "white",
             "minorgridcolor": "white",
             "startlinecolor": "#2a3f5f"
            },
            "type": "carpet"
           }
          ],
          "choropleth": [
           {
            "colorbar": {
             "outlinewidth": 0,
             "ticks": ""
            },
            "type": "choropleth"
           }
          ],
          "contour": [
           {
            "colorbar": {
             "outlinewidth": 0,
             "ticks": ""
            },
            "colorscale": [
             [
              0,
              "#0d0887"
             ],
             [
              0.1111111111111111,
              "#46039f"
             ],
             [
              0.2222222222222222,
              "#7201a8"
             ],
             [
              0.3333333333333333,
              "#9c179e"
             ],
             [
              0.4444444444444444,
              "#bd3786"
             ],
             [
              0.5555555555555556,
              "#d8576b"
             ],
             [
              0.6666666666666666,
              "#ed7953"
             ],
             [
              0.7777777777777778,
              "#fb9f3a"
             ],
             [
              0.8888888888888888,
              "#fdca26"
             ],
             [
              1,
              "#f0f921"
             ]
            ],
            "type": "contour"
           }
          ],
          "contourcarpet": [
           {
            "colorbar": {
             "outlinewidth": 0,
             "ticks": ""
            },
            "type": "contourcarpet"
           }
          ],
          "heatmap": [
           {
            "colorbar": {
             "outlinewidth": 0,
             "ticks": ""
            },
            "colorscale": [
             [
              0,
              "#0d0887"
             ],
             [
              0.1111111111111111,
              "#46039f"
             ],
             [
              0.2222222222222222,
              "#7201a8"
             ],
             [
              0.3333333333333333,
              "#9c179e"
             ],
             [
              0.4444444444444444,
              "#bd3786"
             ],
             [
              0.5555555555555556,
              "#d8576b"
             ],
             [
              0.6666666666666666,
              "#ed7953"
             ],
             [
              0.7777777777777778,
              "#fb9f3a"
             ],
             [
              0.8888888888888888,
              "#fdca26"
             ],
             [
              1,
              "#f0f921"
             ]
            ],
            "type": "heatmap"
           }
          ],
          "histogram": [
           {
            "marker": {
             "pattern": {
              "fillmode": "overlay",
              "size": 10,
              "solidity": 0.2
             }
            },
            "type": "histogram"
           }
          ],
          "histogram2d": [
           {
            "colorbar": {
             "outlinewidth": 0,
             "ticks": ""
            },
            "colorscale": [
             [
              0,
              "#0d0887"
             ],
             [
              0.1111111111111111,
              "#46039f"
             ],
             [
              0.2222222222222222,
              "#7201a8"
             ],
             [
              0.3333333333333333,
              "#9c179e"
             ],
             [
              0.4444444444444444,
              "#bd3786"
             ],
             [
              0.5555555555555556,
              "#d8576b"
             ],
             [
              0.6666666666666666,
              "#ed7953"
             ],
             [
              0.7777777777777778,
              "#fb9f3a"
             ],
             [
              0.8888888888888888,
              "#fdca26"
             ],
             [
              1,
              "#f0f921"
             ]
            ],
            "type": "histogram2d"
           }
          ],
          "histogram2dcontour": [
           {
            "colorbar": {
             "outlinewidth": 0,
             "ticks": ""
            },
            "colorscale": [
             [
              0,
              "#0d0887"
             ],
             [
              0.1111111111111111,
              "#46039f"
             ],
             [
              0.2222222222222222,
              "#7201a8"
             ],
             [
              0.3333333333333333,
              "#9c179e"
             ],
             [
              0.4444444444444444,
              "#bd3786"
             ],
             [
              0.5555555555555556,
              "#d8576b"
             ],
             [
              0.6666666666666666,
              "#ed7953"
             ],
             [
              0.7777777777777778,
              "#fb9f3a"
             ],
             [
              0.8888888888888888,
              "#fdca26"
             ],
             [
              1,
              "#f0f921"
             ]
            ],
            "type": "histogram2dcontour"
           }
          ],
          "mesh3d": [
           {
            "colorbar": {
             "outlinewidth": 0,
             "ticks": ""
            },
            "type": "mesh3d"
           }
          ],
          "parcoords": [
           {
            "line": {
             "colorbar": {
              "outlinewidth": 0,
              "ticks": ""
             }
            },
            "type": "parcoords"
           }
          ],
          "pie": [
           {
            "automargin": true,
            "type": "pie"
           }
          ],
          "scatter": [
           {
            "fillpattern": {
             "fillmode": "overlay",
             "size": 10,
             "solidity": 0.2
            },
            "type": "scatter"
           }
          ],
          "scatter3d": [
           {
            "line": {
             "colorbar": {
              "outlinewidth": 0,
              "ticks": ""
             }
            },
            "marker": {
             "colorbar": {
              "outlinewidth": 0,
              "ticks": ""
             }
            },
            "type": "scatter3d"
           }
          ],
          "scattercarpet": [
           {
            "marker": {
             "colorbar": {
              "outlinewidth": 0,
              "ticks": ""
             }
            },
            "type": "scattercarpet"
           }
          ],
          "scattergeo": [
           {
            "marker": {
             "colorbar": {
              "outlinewidth": 0,
              "ticks": ""
             }
            },
            "type": "scattergeo"
           }
          ],
          "scattergl": [
           {
            "marker": {
             "colorbar": {
              "outlinewidth": 0,
              "ticks": ""
             }
            },
            "type": "scattergl"
           }
          ],
          "scattermap": [
           {
            "marker": {
             "colorbar": {
              "outlinewidth": 0,
              "ticks": ""
             }
            },
            "type": "scattermap"
           }
          ],
          "scattermapbox": [
           {
            "marker": {
             "colorbar": {
              "outlinewidth": 0,
              "ticks": ""
             }
            },
            "type": "scattermapbox"
           }
          ],
          "scatterpolar": [
           {
            "marker": {
             "colorbar": {
              "outlinewidth": 0,
              "ticks": ""
             }
            },
            "type": "scatterpolar"
           }
          ],
          "scatterpolargl": [
           {
            "marker": {
             "colorbar": {
              "outlinewidth": 0,
              "ticks": ""
             }
            },
            "type": "scatterpolargl"
           }
          ],
          "scatterternary": [
           {
            "marker": {
             "colorbar": {
              "outlinewidth": 0,
              "ticks": ""
             }
            },
            "type": "scatterternary"
           }
          ],
          "surface": [
           {
            "colorbar": {
             "outlinewidth": 0,
             "ticks": ""
            },
            "colorscale": [
             [
              0,
              "#0d0887"
             ],
             [
              0.1111111111111111,
              "#46039f"
             ],
             [
              0.2222222222222222,
              "#7201a8"
             ],
             [
              0.3333333333333333,
              "#9c179e"
             ],
             [
              0.4444444444444444,
              "#bd3786"
             ],
             [
              0.5555555555555556,
              "#d8576b"
             ],
             [
              0.6666666666666666,
              "#ed7953"
             ],
             [
              0.7777777777777778,
              "#fb9f3a"
             ],
             [
              0.8888888888888888,
              "#fdca26"
             ],
             [
              1,
              "#f0f921"
             ]
            ],
            "type": "surface"
           }
          ],
          "table": [
           {
            "cells": {
             "fill": {
              "color": "#EBF0F8"
             },
             "line": {
              "color": "white"
             }
            },
            "header": {
             "fill": {
              "color": "#C8D4E3"
             },
             "line": {
              "color": "white"
             }
            },
            "type": "table"
           }
          ]
         },
         "layout": {
          "annotationdefaults": {
           "arrowcolor": "#2a3f5f",
           "arrowhead": 0,
           "arrowwidth": 1
          },
          "autotypenumbers": "strict",
          "coloraxis": {
           "colorbar": {
            "outlinewidth": 0,
            "ticks": ""
           }
          },
          "colorscale": {
           "diverging": [
            [
             0,
             "#8e0152"
            ],
            [
             0.1,
             "#c51b7d"
            ],
            [
             0.2,
             "#de77ae"
            ],
            [
             0.3,
             "#f1b6da"
            ],
            [
             0.4,
             "#fde0ef"
            ],
            [
             0.5,
             "#f7f7f7"
            ],
            [
             0.6,
             "#e6f5d0"
            ],
            [
             0.7,
             "#b8e186"
            ],
            [
             0.8,
             "#7fbc41"
            ],
            [
             0.9,
             "#4d9221"
            ],
            [
             1,
             "#276419"
            ]
           ],
           "sequential": [
            [
             0,
             "#0d0887"
            ],
            [
             0.1111111111111111,
             "#46039f"
            ],
            [
             0.2222222222222222,
             "#7201a8"
            ],
            [
             0.3333333333333333,
             "#9c179e"
            ],
            [
             0.4444444444444444,
             "#bd3786"
            ],
            [
             0.5555555555555556,
             "#d8576b"
            ],
            [
             0.6666666666666666,
             "#ed7953"
            ],
            [
             0.7777777777777778,
             "#fb9f3a"
            ],
            [
             0.8888888888888888,
             "#fdca26"
            ],
            [
             1,
             "#f0f921"
            ]
           ],
           "sequentialminus": [
            [
             0,
             "#0d0887"
            ],
            [
             0.1111111111111111,
             "#46039f"
            ],
            [
             0.2222222222222222,
             "#7201a8"
            ],
            [
             0.3333333333333333,
             "#9c179e"
            ],
            [
             0.4444444444444444,
             "#bd3786"
            ],
            [
             0.5555555555555556,
             "#d8576b"
            ],
            [
             0.6666666666666666,
             "#ed7953"
            ],
            [
             0.7777777777777778,
             "#fb9f3a"
            ],
            [
             0.8888888888888888,
             "#fdca26"
            ],
            [
             1,
             "#f0f921"
            ]
           ]
          },
          "colorway": [
           "#636efa",
           "#EF553B",
           "#00cc96",
           "#ab63fa",
           "#FFA15A",
           "#19d3f3",
           "#FF6692",
           "#B6E880",
           "#FF97FF",
           "#FECB52"
          ],
          "font": {
           "color": "#2a3f5f"
          },
          "geo": {
           "bgcolor": "white",
           "lakecolor": "white",
           "landcolor": "#E5ECF6",
           "showlakes": true,
           "showland": true,
           "subunitcolor": "white"
          },
          "hoverlabel": {
           "align": "left"
          },
          "hovermode": "closest",
          "mapbox": {
           "style": "light"
          },
          "paper_bgcolor": "white",
          "plot_bgcolor": "#E5ECF6",
          "polar": {
           "angularaxis": {
            "gridcolor": "white",
            "linecolor": "white",
            "ticks": ""
           },
           "bgcolor": "#E5ECF6",
           "radialaxis": {
            "gridcolor": "white",
            "linecolor": "white",
            "ticks": ""
           }
          },
          "scene": {
           "xaxis": {
            "backgroundcolor": "#E5ECF6",
            "gridcolor": "white",
            "gridwidth": 2,
            "linecolor": "white",
            "showbackground": true,
            "ticks": "",
            "zerolinecolor": "white"
           },
           "yaxis": {
            "backgroundcolor": "#E5ECF6",
            "gridcolor": "white",
            "gridwidth": 2,
            "linecolor": "white",
            "showbackground": true,
            "ticks": "",
            "zerolinecolor": "white"
           },
           "zaxis": {
            "backgroundcolor": "#E5ECF6",
            "gridcolor": "white",
            "gridwidth": 2,
            "linecolor": "white",
            "showbackground": true,
            "ticks": "",
            "zerolinecolor": "white"
           }
          },
          "shapedefaults": {
           "line": {
            "color": "#2a3f5f"
           }
          },
          "ternary": {
           "aaxis": {
            "gridcolor": "white",
            "linecolor": "white",
            "ticks": ""
           },
           "baxis": {
            "gridcolor": "white",
            "linecolor": "white",
            "ticks": ""
           },
           "bgcolor": "#E5ECF6",
           "caxis": {
            "gridcolor": "white",
            "linecolor": "white",
            "ticks": ""
           }
          },
          "title": {
           "x": 0.05
          },
          "xaxis": {
           "automargin": true,
           "gridcolor": "white",
           "linecolor": "white",
           "ticks": "",
           "title": {
            "standoff": 15
           },
           "zerolinecolor": "white",
           "zerolinewidth": 2
          },
          "yaxis": {
           "automargin": true,
           "gridcolor": "white",
           "linecolor": "white",
           "ticks": "",
           "title": {
            "standoff": 15
           },
           "zerolinecolor": "white",
           "zerolinewidth": 2
          }
         }
        },
        "title": {
         "text": "Top 15 Most Important Predictors of Employee Attrition"
        },
        "xaxis": {
         "anchor": "y",
         "categoryarray": [
          "MonthlyIncome",
          "OverTime_Yes",
          "Age",
          "TotalWorkingYears",
          "YearsAtCompany",
          "MaritalStatus_Single",
          "HourlyRate",
          "YearsWithCurrManager",
          "DailyRate",
          "MonthlyRate",
          "DistanceFromHome",
          "YearsInCurrentRole",
          "NumCompaniesWorked",
          "PercentSalaryHike",
          "StockOptionLevel_1"
         ],
         "categoryorder": "array",
         "domain": [
          0,
          1
         ],
         "gridcolor": "#f5f5f5",
         "showgrid": true,
         "title": {
          "text": ""
         }
        },
        "yaxis": {
         "anchor": "x",
         "domain": [
          0,
          1
         ],
         "title": {
          "text": "Importance"
         }
        }
       }
      }
     },
     "metadata": {},
     "output_type": "display_data"
    }
   ],
   "source": [
    "col=sns.color_palette(\"mako\", 20).as_hex()[::-1]\n",
    "feat=pd.DataFrame({\"Importance\": rf_cv.best_estimator_.feature_importances_}, index=X_train.columns\n",
    "                 ).sort_values(by=\"Importance\")\n",
    "plot_df=feat.nlargest(15, columns='Importance').sort_values(by=\"Importance\", ascending=False)\n",
    "fig = px.bar(plot_df, x=plot_df.index, y='Importance', text='Importance', \n",
    "             color=plot_df.index, opacity=0.7, color_discrete_sequence=col)\n",
    "fig.update_traces(texttemplate='%{text:.2f}', textposition='outside',\n",
    "                  marker_line=dict(width=1, color='#3F3B3A'), \n",
    "                  hovertemplate='%{x}<br>Importance = %{y:.2f}')\n",
    "fig.update_layout(title_text='Top 15 Most Important Predictors of Employee Attrition', \n",
    "                  coloraxis_showscale=False, showlegend=False,font_color=\"#303030\", height = 500,\n",
    "                  paper_bgcolor='white', plot_bgcolor='white', yaxis_title=\"Importance\", \n",
    "                  xaxis = dict(title=\"\", showgrid=True, gridcolor=\"#f5f5f5\"))\n",
    "fig.show()"
   ]
  },
  {
   "cell_type": "code",
   "execution_count": 185,
   "id": "ad63a32c",
   "metadata": {},
   "outputs": [
    {
     "name": "stdout",
     "output_type": "stream",
     "text": [
      "Validation Accuracy: 83.6% and AUC = 0.773\n",
      "Test set Accuracy: 84.2% and AUC = 0.816\n"
     ]
    }
   ],
   "source": [
    "val_auc=roc_auc_score(y_val, rf_cv.predict_proba(X_val)[:,1])\n",
    "test_auc=roc_auc_score(y_test, rf_cv.predict_proba(X_test)[:,1])\n",
    "val_acc=accuracy_score(y_val, rf_cv.predict(X_val))\n",
    "test_acc=accuracy_score(y_test, rf_cv.predict(X_test))\n",
    "print(\"Validation Accuracy: {:.1f}% and AUC = {:.3f}\".format(val_acc*100, val_auc))\n",
    "print(\"Test set Accuracy: {:.1f}% and AUC = {:.3f}\".format(test_acc*100, test_auc))"
   ]
  },
  {
   "cell_type": "code",
   "execution_count": null,
   "id": "901a1652",
   "metadata": {},
   "outputs": [
    {
     "name": "stdout",
     "output_type": "stream",
     "text": [
      "Đã lưu dữ liệu cho dự đoán tại: ./dataset/hr_employee_prediction.csv\n"
     ]
    }
   ],
   "source": [
    "output_path = \"./dataset/hr_employee_prediction.csv\"\n",
    "df.to_csv(output_path, index=False)\n",
    "print(f\"Đã lưu dữ liệu cho dự đoán tại: {output_path}\")"
   ]
  }
 ],
 "metadata": {
  "kernelspec": {
   "display_name": "Python 3",
   "language": "python",
   "name": "python3"
  },
  "language_info": {
   "codemirror_mode": {
    "name": "ipython",
    "version": 3
   },
   "file_extension": ".py",
   "mimetype": "text/x-python",
   "name": "python",
   "nbconvert_exporter": "python",
   "pygments_lexer": "ipython3",
   "version": "3.13.2"
  }
 },
 "nbformat": 4,
 "nbformat_minor": 5
}
